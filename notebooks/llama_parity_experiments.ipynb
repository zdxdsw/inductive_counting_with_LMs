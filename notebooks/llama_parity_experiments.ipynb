{
 "cells": [
  {
   "cell_type": "markdown",
   "metadata": {},
   "source": [
    "### Generate Data --- PARITY"
   ]
  },
  {
   "cell_type": "code",
   "execution_count": 1,
   "metadata": {},
   "outputs": [],
   "source": [
    "import os, random, json, re, math\n",
    "import pandas as pd\n",
    "import numpy as np\n",
    "from tqdm import trange, tqdm\n",
    "import numpy as np\n",
    "from collections import Counter\n",
    "from itertools import permutations,combinations\n",
    "TASK = \"parity\""
   ]
  },
  {
   "cell_type": "code",
   "execution_count": 64,
   "metadata": {},
   "outputs": [
    {
     "name": "stderr",
     "output_type": "stream",
     "text": [
      "  0%|          | 0/128 [00:00<?, ?it/s]"
     ]
    },
    {
     "name": "stderr",
     "output_type": "stream",
     "text": [
      "100%|██████████| 128/128 [00:08<00:00, 14.23it/s]\n"
     ]
    }
   ],
   "source": [
    "# length_extrapolation\n",
    "samples_per_num_digit = 1000\n",
    "data = {}\n",
    "for num_digit in trange(129, 257):\n",
    "    strings = []\n",
    "    while len(strings) < samples_per_num_digit:\n",
    "        for num_ones in range(num_digit, -1, -1):\n",
    "            s = \"1\"*num_ones + \"0\"*(num_digit-num_ones)\n",
    "            while True:\n",
    "                candidate = \"\".join(random.sample(s, len(s)))\n",
    "                if candidate in strings and (num_ones-num_digit)*num_ones == 0: break\n",
    "                if not candidate in strings:\n",
    "                    strings.append(candidate)\n",
    "                    break\n",
    "\n",
    "    random.shuffle(strings)\n",
    "    data[num_digit] = strings\n",
    "json.dump(data, open(f\"../data/finetune/{TASK}/finetune_129_256.json\", \"w\"), indent=2)\n",
    "            "
   ]
  },
  {
   "cell_type": "code",
   "execution_count": 5,
   "metadata": {},
   "outputs": [
    {
     "name": "stderr",
     "output_type": "stream",
     "text": [
      "100%|██████████| 119/119 [00:05<00:00, 22.26it/s]\n"
     ]
    }
   ],
   "source": [
    "# uniform, uniform_hard, uniform_hard+ 1000 instances\n",
    "samples_per_num_digit = 1000\n",
    "data = {}\n",
    "for num_digit in trange(10, 129):\n",
    "    strings = []\n",
    "    while len(strings) < samples_per_num_digit:\n",
    "        for num_ones in range(num_digit, -1, -1):\n",
    "            s = \"1\"*num_ones + \"0\"*(num_digit-num_ones)\n",
    "            \n",
    "            # special_care, for those choose(num_digit, num_ones) < ceil(samples_per_num_digit / num_digit)\n",
    "            if min(num_digit-num_ones, num_ones) == 1 or num_digit + min(num_digit-num_ones, num_ones) <= 16:\n",
    "                for positions_for_ones in combinations(range(num_digit), num_ones):\n",
    "                    candidate = \"0\"*num_digit\n",
    "                    for p in positions_for_ones: \n",
    "                        candidate = candidate[:p] + \"1\" + candidate[p+1:]\n",
    "                    if not candidate in strings:\n",
    "                        strings.append(candidate)\n",
    "                        break\n",
    "                continue\n",
    "            while True:\n",
    "                candidate = \"\".join(random.sample(s, len(s)))\n",
    "                if candidate in strings and (num_ones-num_digit)*num_ones == 0: break\n",
    "                if not candidate in strings:\n",
    "                    strings.append(candidate)\n",
    "                    break\n",
    "    \n",
    "    random.shuffle(strings)\n",
    "    data[num_digit] = strings\n",
    "\n",
    "json.dump(data, open(f\"../data/finetune/{TASK}/finetune_1000instances.json\", \"w\"), indent=2)\n",
    "            \n"
   ]
  },
  {
   "cell_type": "code",
   "execution_count": 6,
   "metadata": {},
   "outputs": [
    {
     "name": "stderr",
     "output_type": "stream",
     "text": [
      "  0%|          | 0/118 [00:00<?, ?it/s]"
     ]
    },
    {
     "name": "stderr",
     "output_type": "stream",
     "text": [
      "100%|██████████| 118/118 [00:23<00:00,  5.09it/s]\n"
     ]
    }
   ],
   "source": [
    "# uniform, uniform_hard, uniform_hard+ 2000 instances\n",
    "samples_per_num_digit = 2000\n",
    "data = {}\n",
    "for num_digit in trange(11, 129):\n",
    "    strings = []\n",
    "    while len(strings) < samples_per_num_digit:\n",
    "        for num_ones in range(num_digit, -1, -1):\n",
    "            s = \"1\"*num_ones + \"0\"*(num_digit-num_ones)\n",
    "            \n",
    "            # special_care, for those choose(num_digit, num_ones) < ceil(samples_per_num_digit / num_digit)\n",
    "            if min(num_digit-num_ones, num_ones) == 1 or num_digit + min(num_digit-num_ones, num_ones) <= 20:\n",
    "                for positions_for_ones in combinations(range(num_digit), num_ones):\n",
    "                    candidate = \"0\"*num_digit\n",
    "                    for p in positions_for_ones: \n",
    "                        candidate = candidate[:p] + \"1\" + candidate[p+1:]\n",
    "                    if not candidate in strings:\n",
    "                        strings.append(candidate)\n",
    "                        break\n",
    "                continue\n",
    "            while True:\n",
    "                candidate = \"\".join(random.sample(s, len(s)))\n",
    "                if candidate in strings and (num_ones-num_digit)*num_ones == 0: break\n",
    "                if not candidate in strings:\n",
    "                    strings.append(candidate)\n",
    "                    break\n",
    "    \n",
    "    random.shuffle(strings)\n",
    "    data[num_digit] = strings\n",
    "\n",
    "json.dump(data, open(f\"../data/finetune/{TASK}/finetune_2000instances.json\", \"w\"), indent=2)\n",
    "            \n"
   ]
  },
  {
   "cell_type": "code",
   "execution_count": 10,
   "metadata": {},
   "outputs": [
    {
     "data": {
      "text/plain": [
       "Counter({9: 131,\n",
       "         16: 131,\n",
       "         13: 131,\n",
       "         3: 131,\n",
       "         15: 131,\n",
       "         5: 131,\n",
       "         7: 131,\n",
       "         11: 131,\n",
       "         12: 131,\n",
       "         10: 131,\n",
       "         2: 131,\n",
       "         1: 18,\n",
       "         4: 131,\n",
       "         14: 131,\n",
       "         6: 131,\n",
       "         8: 131,\n",
       "         17: 18,\n",
       "         18: 1,\n",
       "         0: 1})"
      ]
     },
     "execution_count": 10,
     "metadata": {},
     "output_type": "execute_result"
    }
   ],
   "source": [
    "strings = data[18]\n",
    "Counter([s.count('1') for s in strings])"
   ]
  },
  {
   "cell_type": "code",
   "execution_count": 12,
   "metadata": {},
   "outputs": [
    {
     "name": "stdout",
     "output_type": "stream",
     "text": [
      "samples_per_num_digit = 1000\n"
     ]
    },
    {
     "name": "stderr",
     "output_type": "stream",
     "text": [
      "100%|██████████| 119/119 [00:07<00:00, 16.79it/s]\n"
     ]
    },
    {
     "name": "stdout",
     "output_type": "stream",
     "text": [
      "11900 11900\n",
      "Check if answers are uniformly distributed across [+, -]\n",
      "[('+', 5967), ('-', 5933)]\n"
     ]
    }
   ],
   "source": [
    "# Uniform split\n",
    "samples_per_num_digit_train, samples_per_num_digit_val = 100, 100\n",
    "\n",
    "data = json.load(open(f\"../data/finetune/{TASK}/finetune_1000instances.json\", \"r\"))\n",
    "print(\"samples_per_num_digit = {}\".format(len(data[list(data.keys())[0]])))\n",
    "\n",
    "answers = []\n",
    "\n",
    "train = pd.DataFrame(columns=[\"input_str\", \"answer\"])\n",
    "val = pd.DataFrame(columns=[\"input_str\", \"answer\"])\n",
    "for num_digit in tqdm(data):\n",
    "    for s in data[num_digit][:samples_per_num_digit_train]:\n",
    "        answer = '+' if s.count('1')%2==0 else '-'\n",
    "        answers.append(answer)\n",
    "        row = {\n",
    "            \"input_str\": [s],\n",
    "            \"answer\": [answer]\n",
    "        }\n",
    "        row = pd.DataFrame(row)\n",
    "        train = pd.concat([train, pd.DataFrame(row)])\n",
    "    for s in data[num_digit][\n",
    "        samples_per_num_digit_train:samples_per_num_digit_train+samples_per_num_digit_val\n",
    "    ]:\n",
    "        row = {\n",
    "            \"input_str\": [s],\n",
    "            \"answer\": ['+' if s.count('1')%2==0 else '-']\n",
    "        }\n",
    "        row = pd.DataFrame(row)\n",
    "        val = pd.concat([val, pd.DataFrame(row)])\n",
    "print(len(train), len(val))\n",
    "\n",
    "print(\"Check if answers are uniformly distributed across [+, -]\")\n",
    "print(Counter(answers).most_common(10))\n",
    "train.to_csv(f\"../data/finetune/{TASK}/uniform_split/train.csv\", index=False)\n",
    "val.to_csv(f\"../data/finetune/{TASK}/uniform_split/val.csv\", index=False)\n"
   ]
  },
  {
   "cell_type": "code",
   "execution_count": 65,
   "metadata": {},
   "outputs": [
    {
     "name": "stdout",
     "output_type": "stream",
     "text": [
      "samples_per_num_digit = 1026\n"
     ]
    },
    {
     "name": "stderr",
     "output_type": "stream",
     "text": [
      "  0%|          | 0/128 [00:00<?, ?it/s]"
     ]
    },
    {
     "name": "stderr",
     "output_type": "stream",
     "text": [
      "100%|██████████| 128/128 [00:03<00:00, 36.65it/s]"
     ]
    },
    {
     "name": "stdout",
     "output_type": "stream",
     "text": [
      "0 12800\n"
     ]
    },
    {
     "name": "stderr",
     "output_type": "stream",
     "text": [
      "\n"
     ]
    }
   ],
   "source": [
    "# length_extrapolation split\n",
    "samples_per_num_digit_train, samples_per_num_digit_val = 0, 100\n",
    "\n",
    "data = json.load(open(f\"../data/finetune/{TASK}/finetune_129_256.json\", \"r\"))\n",
    "print(\"samples_per_num_digit = {}\".format(len(data[list(data.keys())[0]])))\n",
    "\n",
    "train = pd.DataFrame(columns=[\"input_str\", \"answer\"])\n",
    "val = pd.DataFrame(columns=[\"input_str\", \"answer\"])\n",
    "for num_digit in tqdm(data):\n",
    "    for s in data[num_digit][:samples_per_num_digit_train]:\n",
    "        row = {\n",
    "            \"input_str\": [s],\n",
    "            \"answer\": ['+' if s.count('1')%2==0 else '-']\n",
    "        }\n",
    "        row = pd.DataFrame(row)\n",
    "        train = pd.concat([train, pd.DataFrame(row)])\n",
    "    for s in data[num_digit][\n",
    "        samples_per_num_digit_train:samples_per_num_digit_train+samples_per_num_digit_val\n",
    "    ]:\n",
    "        row = {\n",
    "            \"input_str\": [s],\n",
    "            \"answer\": ['+' if s.count('1')%2==0 else '-']\n",
    "        }\n",
    "        row = pd.DataFrame(row)\n",
    "        val = pd.concat([val, pd.DataFrame(row)])\n",
    "print(len(train), len(val))\n",
    "\n",
    "val.to_csv(f\"../data/finetune/{TASK}/length_extrapolation/val.csv\", index=False)"
   ]
  },
  {
   "cell_type": "code",
   "execution_count": 4,
   "metadata": {},
   "outputs": [
    {
     "name": "stdout",
     "output_type": "stream",
     "text": [
      "samples_per_num_digit = 2000\n"
     ]
    },
    {
     "name": "stderr",
     "output_type": "stream",
     "text": [
      "  0%|          | 0/118 [00:00<?, ?it/s]"
     ]
    },
    {
     "name": "stderr",
     "output_type": "stream",
     "text": [
      "100%|██████████| 118/118 [01:32<00:00,  1.28it/s]\n"
     ]
    },
    {
     "name": "stdout",
     "output_type": "stream",
     "text": [
      "118000 11800\n",
      "Check if answers are uniformly distributed across [+, -]\n",
      "[('-', 59298), ('+', 58702)]\n"
     ]
    }
   ],
   "source": [
    "# Random Labels\n",
    "samples_per_num_digit_train, samples_per_num_digit_val = 100, 100\n",
    "\n",
    "data = json.load(open(f\"../data/finetune/{TASK}/finetune_1000instances.json\", \"r\"))\n",
    "print(\"samples_per_num_digit = {}\".format(len(data[list(data.keys())[0]])))\n",
    "\n",
    "answers = []\n",
    "\n",
    "train = pd.DataFrame(columns=[\"input_str\", \"answer\"])\n",
    "val = pd.DataFrame(columns=[\"input_str\", \"answer\"])\n",
    "for num_digit in tqdm(data):\n",
    "    for s in data[num_digit][:samples_per_num_digit_train]:\n",
    "        answer = random.choice(['+', '-'])\n",
    "        answers.append(answer)\n",
    "        row = {\n",
    "            \"input_str\": [s],\n",
    "            \"answer\": [answer]\n",
    "        }\n",
    "        row = pd.DataFrame(row)\n",
    "        train = pd.concat([train, pd.DataFrame(row)])\n",
    "    for s in data[num_digit][\n",
    "        samples_per_num_digit_train:samples_per_num_digit_train+samples_per_num_digit_val\n",
    "    ]:\n",
    "        row = {\n",
    "            \"input_str\": [s],\n",
    "            \"answer\": [random.choice(['+', '-'])]\n",
    "        }\n",
    "        row = pd.DataFrame(row)\n",
    "        val = pd.concat([val, pd.DataFrame(row)])\n",
    "print(len(train), len(val))\n",
    "\n",
    "print(\"Check if answers are uniformly distributed across [+, -]\")\n",
    "print(Counter(answers).most_common(10))\n",
    "train.to_csv(f\"../data/finetune/{TASK}/random_labels_large/train.csv\", index=False)\n",
    "val.to_csv(f\"../data/finetune/{TASK}/random_labels_large/val.csv\", index=False)\n"
   ]
  },
  {
   "cell_type": "code",
   "execution_count": null,
   "metadata": {},
   "outputs": [],
   "source": []
  }
 ],
 "metadata": {
  "kernelspec": {
   "display_name": "llms_do_math",
   "language": "python",
   "name": "llms_do_math"
  },
  "language_info": {
   "codemirror_mode": {
    "name": "ipython",
    "version": 3
   },
   "file_extension": ".py",
   "mimetype": "text/x-python",
   "name": "python",
   "nbconvert_exporter": "python",
   "pygments_lexer": "ipython3",
   "version": "3.8.10"
  }
 },
 "nbformat": 4,
 "nbformat_minor": 2
}
