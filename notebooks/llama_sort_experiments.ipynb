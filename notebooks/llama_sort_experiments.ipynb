{
 "cells": [
  {
   "cell_type": "markdown",
   "metadata": {},
   "source": [
    "### Generate Data --- SORT"
   ]
  },
  {
   "cell_type": "code",
   "execution_count": 1,
   "metadata": {},
   "outputs": [],
   "source": [
    "import os, random, json, re\n",
    "import pandas as pd\n",
    "import numpy as np\n",
    "from tqdm import trange, tqdm\n",
    "import numpy as np\n",
    "TASK = \"sort\""
   ]
  },
  {
   "cell_type": "code",
   "execution_count": 28,
   "metadata": {},
   "outputs": [
    {
     "name": "stderr",
     "output_type": "stream",
     "text": [
      "100%|██████████| 128/128 [00:07<00:00, 16.32it/s]\n"
     ]
    }
   ],
   "source": [
    "samples_per_num_digit = 1000\n",
    "data = {}\n",
    "for num_digit in trange(129, 257):\n",
    "    unique_sorted_strings = set()\n",
    "    strings = []\n",
    "    while len(strings) < samples_per_num_digit:\n",
    "        partition = sorted(random.sample(list(range(1, num_digit+10)), 9))\n",
    "        prev = 0\n",
    "        buckets = []\n",
    "        for b in partition:\n",
    "            buckets.append(b-prev-1)\n",
    "            prev = b\n",
    "        buckets.append(num_digit+10-prev-1)\n",
    "        s = \"\".join([str(d)*n for n, d in zip(buckets, list(range(10)))])\n",
    "        \n",
    "        if s not in unique_sorted_strings:\n",
    "            unique_sorted_strings.add(s)\n",
    "            strings.append(\"\".join(random.sample(s, len(s))))\n",
    "\n",
    "    data[num_digit] = strings\n",
    "json.dump(data, open(f\"../data/finetune/{TASK}/finetune_129_256.json\", \"w\"), indent=2)\n",
    "            "
   ]
  },
  {
   "cell_type": "code",
   "execution_count": 27,
   "metadata": {},
   "outputs": [
    {
     "name": "stdout",
     "output_type": "stream",
     "text": [
      "samples_per_num_digit = 2000\n"
     ]
    },
    {
     "name": "stderr",
     "output_type": "stream",
     "text": [
      "  0%|          | 0/124 [00:00<?, ?it/s]"
     ]
    },
    {
     "name": "stderr",
     "output_type": "stream",
     "text": [
      "100%|██████████| 124/124 [00:06<00:00, 17.81it/s]\n"
     ]
    },
    {
     "name": "stdout",
     "output_type": "stream",
     "text": [
      "12400 12400\n"
     ]
    }
   ],
   "source": [
    "# Uniform split\n",
    "samples_per_num_digit_train, samples_per_num_digit_val = 100, 100\n",
    "\n",
    "data = json.load(open(f\"../data/finetune/{TASK}/finetune.json\", \"r\"))\n",
    "print(\"samples_per_num_digit = {}\".format(len(data[list(data.keys())[0]])))\n",
    "\n",
    "train = pd.DataFrame(columns=[\"input_str\", \"answer\"])\n",
    "val = pd.DataFrame(columns=[\"input_str\", \"answer\"])\n",
    "for num_digit in tqdm(data):\n",
    "    for s in data[num_digit][:samples_per_num_digit_train]:\n",
    "        row = {\n",
    "            \"input_str\": [s],\n",
    "            \"answer\": [\"\".join(sorted(s))]\n",
    "        }\n",
    "        row = pd.DataFrame(row)\n",
    "        train = pd.concat([train, pd.DataFrame(row)])\n",
    "    for s in data[num_digit][\n",
    "        samples_per_num_digit_train:samples_per_num_digit_train+samples_per_num_digit_val\n",
    "    ]:\n",
    "        row = {\n",
    "            \"input_str\": [s],\n",
    "            \"answer\": [\"\".join(sorted(s))]\n",
    "        }\n",
    "        row = pd.DataFrame(row)\n",
    "        val = pd.concat([val, pd.DataFrame(row)])\n",
    "print(len(train), len(val))\n",
    "\n",
    "train.to_csv(f\"../data/finetune/{TASK}/uniform_split/train.csv\", index=False)\n",
    "val.to_csv(f\"../data/finetune/{TASK}/uniform_split/val.csv\", index=False)\n",
    "\n",
    "#val.to_csv(f\"../data/finetune/{TASK}/uniform_large_split/val.csv\", index=False)\n"
   ]
  },
  {
   "cell_type": "code",
   "execution_count": 30,
   "metadata": {},
   "outputs": [
    {
     "name": "stdout",
     "output_type": "stream",
     "text": [
      "samples_per_num_digit = 1000\n"
     ]
    },
    {
     "name": "stderr",
     "output_type": "stream",
     "text": [
      "100%|██████████| 128/128 [00:03<00:00, 33.64it/s]\n"
     ]
    },
    {
     "name": "stdout",
     "output_type": "stream",
     "text": [
      "0 12800\n"
     ]
    }
   ],
   "source": [
    "# length_extrapolation split\n",
    "samples_per_num_digit_train, samples_per_num_digit_val = 0, 100\n",
    "\n",
    "data = json.load(open(f\"../data/finetune/{TASK}/finetune_129_256.json\", \"r\"))\n",
    "print(\"samples_per_num_digit = {}\".format(len(data[list(data.keys())[0]])))\n",
    "\n",
    "train = pd.DataFrame(columns=[\"input_str\", \"answer\"])\n",
    "val = pd.DataFrame(columns=[\"input_str\", \"answer\"])\n",
    "for num_digit in tqdm(data):\n",
    "    for s in data[num_digit][:samples_per_num_digit_train]:\n",
    "        row = {\n",
    "            \"input_str\": [s],\n",
    "            \"answer\": [\"\".join(sorted(s))]\n",
    "        }\n",
    "        row = pd.DataFrame(row)\n",
    "        train = pd.concat([train, pd.DataFrame(row)])\n",
    "    for s in data[num_digit][\n",
    "        samples_per_num_digit_train:samples_per_num_digit_train+samples_per_num_digit_val\n",
    "    ]:\n",
    "        row = {\n",
    "            \"input_str\": [s],\n",
    "            \"answer\": [\"\".join(sorted(s))]\n",
    "        }\n",
    "        row = pd.DataFrame(row)\n",
    "        val = pd.concat([val, pd.DataFrame(row)])\n",
    "print(len(train), len(val))\n",
    "\n",
    "val.to_csv(f\"../data/finetune/{TASK}/length_extrapolation/val.csv\", index=False)"
   ]
  },
  {
   "cell_type": "code",
   "execution_count": 2,
   "metadata": {},
   "outputs": [
    {
     "name": "stdout",
     "output_type": "stream",
     "text": [
      "samples_per_num_digit = 2000\n"
     ]
    },
    {
     "name": "stderr",
     "output_type": "stream",
     "text": [
      "  0%|          | 0/124 [00:00<?, ?it/s]"
     ]
    },
    {
     "name": "stderr",
     "output_type": "stream",
     "text": [
      "100%|██████████| 124/124 [00:05<00:00, 21.30it/s]\n"
     ]
    },
    {
     "name": "stdout",
     "output_type": "stream",
     "text": [
      "12400 12400\n"
     ]
    }
   ],
   "source": [
    "# Random labels\n",
    "samples_per_num_digit_train, samples_per_num_digit_val = 100, 100\n",
    "\n",
    "data = json.load(open(f\"../data/finetune/{TASK}/finetune.json\", \"r\"))\n",
    "print(\"samples_per_num_digit = {}\".format(len(data[list(data.keys())[0]])))\n",
    "\n",
    "train = pd.DataFrame(columns=[\"input_str\", \"answer\"])\n",
    "val = pd.DataFrame(columns=[\"input_str\", \"answer\"])\n",
    "for num_digit in tqdm(data):\n",
    "    for s in data[num_digit][:samples_per_num_digit_train]:\n",
    "        row = {\n",
    "            \"input_str\": [s],\n",
    "            \"answer\": [\"\".join([random.choice(\"0123456789\") for i in range(int(num_digit))])]\n",
    "        }\n",
    "        row = pd.DataFrame(row)\n",
    "        train = pd.concat([train, pd.DataFrame(row)])\n",
    "        val = pd.concat([val, pd.DataFrame(row)])\n",
    "print(len(train), len(val))\n",
    "\n",
    "train.to_csv(f\"../data/finetune/{TASK}/random_labels/train.csv\", index=False)\n",
    "val.to_csv(f\"../data/finetune/{TASK}/random_labels/val.csv\", index=False)\n",
    "\n",
    "#val.to_csv(f\"../data/finetune/{TASK}/uniform_large_split/val.csv\", index=False)\n"
   ]
  },
  {
   "cell_type": "code",
   "execution_count": null,
   "metadata": {},
   "outputs": [],
   "source": []
  },
  {
   "cell_type": "code",
   "execution_count": null,
   "metadata": {},
   "outputs": [],
   "source": []
  },
  {
   "cell_type": "markdown",
   "metadata": {},
   "source": [
    "### Draft"
   ]
  },
  {
   "cell_type": "code",
   "execution_count": 2,
   "metadata": {},
   "outputs": [
    {
     "name": "stdout",
     "output_type": "stream",
     "text": [
      "samples_per_num_digit = 1000\n"
     ]
    },
    {
     "name": "stderr",
     "output_type": "stream",
     "text": [
      "100%|██████████| 126/126 [00:06<00:00, 18.37it/s]\n"
     ]
    },
    {
     "name": "stdout",
     "output_type": "stream",
     "text": [
      "12600 12600\n"
     ]
    }
   ],
   "source": [
    "# odd_even_3:1 split\n",
    "samples_per_num_digit_val = 100\n",
    "\n",
    "data = json.load(open(f\"../data/finetune/{TASK}/finetune.json\", \"r\"))\n",
    "print(\"samples_per_num_digit = {}\".format(len(data[list(data.keys())[0]])))\n",
    "\n",
    "train = pd.DataFrame(columns=[\"input_str\", \"answer\"])\n",
    "val = pd.DataFrame(columns=[\"input_str\", \"answer\"])\n",
    "for num_digit in tqdm(data):\n",
    "    if int(num_digit)%2 == 1: samples_per_num_digit_train = 150\n",
    "    else: samples_per_num_digit_train = 50\n",
    "    for s in data[num_digit][:samples_per_num_digit_train]:\n",
    "        s1, s2 = s.split(\" + \")\n",
    "        s1, s2 = int(s1), int(s2)\n",
    "        row = {\n",
    "            \"input_str\": [s],\n",
    "            \"answer\": [str(s1+s2)]\n",
    "        }\n",
    "        row = pd.DataFrame(row)\n",
    "        train = pd.concat([train, pd.DataFrame(row)])\n",
    "    for s in data[num_digit][\n",
    "        samples_per_num_digit_train:samples_per_num_digit_train+samples_per_num_digit_val\n",
    "    ]:\n",
    "        s1, s2 = s.split(\" + \")\n",
    "        s1, s2 = int(s1), int(s2)\n",
    "        row = {\n",
    "            \"input_str\": [s],\n",
    "            \"answer\": [str(s1+s2)]\n",
    "        }\n",
    "        row = pd.DataFrame(row)\n",
    "        val = pd.concat([val, pd.DataFrame(row)])\n",
    "print(len(train), len(val))\n",
    "\n",
    "train.to_csv(f\"../data/finetune/{TASK}/odd_even_3:1_split/train.csv\", index=False)\n",
    "val.to_csv(f\"../data/finetune/{TASK}/odd_even_3:1_split/val.csv\", index=False)\n"
   ]
  },
  {
   "cell_type": "code",
   "execution_count": 3,
   "metadata": {},
   "outputs": [
    {
     "name": "stdout",
     "output_type": "stream",
     "text": [
      "samples_per_num_digit = 1000\n"
     ]
    },
    {
     "name": "stderr",
     "output_type": "stream",
     "text": [
      "100%|██████████| 126/126 [00:06<00:00, 18.19it/s]\n"
     ]
    },
    {
     "name": "stdout",
     "output_type": "stream",
     "text": [
      "12600 12600\n"
     ]
    }
   ],
   "source": [
    "# odd_even_9:1 split\n",
    "samples_per_num_digit_val = 100\n",
    "\n",
    "data = json.load(open(f\"../data/finetune/{TASK}/finetune.json\", \"r\"))\n",
    "print(\"samples_per_num_digit = {}\".format(len(data[list(data.keys())[0]])))\n",
    "\n",
    "train = pd.DataFrame(columns=[\"input_str\", \"answer\"])\n",
    "val = pd.DataFrame(columns=[\"input_str\", \"answer\"])\n",
    "for num_digit in tqdm(data):\n",
    "    if int(num_digit)%2 == 1: samples_per_num_digit_train = 180\n",
    "    else: samples_per_num_digit_train = 20\n",
    "    for s in data[num_digit][:samples_per_num_digit_train]:\n",
    "        s1, s2 = s.split(\" + \")\n",
    "        s1, s2 = int(s1), int(s2)\n",
    "        row = {\n",
    "            \"input_str\": [s],\n",
    "            \"answer\": [str(s1+s2)]\n",
    "        }\n",
    "        row = pd.DataFrame(row)\n",
    "        train = pd.concat([train, pd.DataFrame(row)])\n",
    "    for s in data[num_digit][\n",
    "        samples_per_num_digit_train:samples_per_num_digit_train+samples_per_num_digit_val\n",
    "    ]:\n",
    "        s1, s2 = s.split(\" + \")\n",
    "        s1, s2 = int(s1), int(s2)\n",
    "        row = {\n",
    "            \"input_str\": [s],\n",
    "            \"answer\": [str(s1+s2)]\n",
    "        }\n",
    "        row = pd.DataFrame(row)\n",
    "        val = pd.concat([val, pd.DataFrame(row)])\n",
    "print(len(train), len(val))\n",
    "\n",
    "train.to_csv(f\"../data/finetune/{TASK}/odd_even_9:1_split/train.csv\", index=False)\n",
    "val.to_csv(f\"../data/finetune/{TASK}/odd_even_9:1_split/val.csv\", index=False)\n"
   ]
  },
  {
   "cell_type": "code",
   "execution_count": 4,
   "metadata": {},
   "outputs": [
    {
     "name": "stdout",
     "output_type": "stream",
     "text": [
      "samples_per_num_digit = 1000\n"
     ]
    },
    {
     "name": "stderr",
     "output_type": "stream",
     "text": [
      "100%|██████████| 126/126 [00:05<00:00, 25.01it/s]"
     ]
    },
    {
     "name": "stdout",
     "output_type": "stream",
     "text": [
      "6300 12600\n"
     ]
    },
    {
     "name": "stderr",
     "output_type": "stream",
     "text": [
      "\n"
     ]
    }
   ],
   "source": [
    "# odd_only split\n",
    "samples_per_num_digit_val = 100\n",
    "\n",
    "data = json.load(open(f\"../data/finetune/{TASK}/finetune.json\", \"r\"))\n",
    "print(\"samples_per_num_digit = {}\".format(len(data[list(data.keys())[0]])))\n",
    "\n",
    "train = pd.DataFrame(columns=[\"input_str\", \"answer\"])\n",
    "val = pd.DataFrame(columns=[\"input_str\", \"answer\"])\n",
    "for num_digit in tqdm(data):\n",
    "    if int(num_digit)%2 == 1: samples_per_num_digit_train = 100\n",
    "    else: samples_per_num_digit_train = 0\n",
    "    for s in data[num_digit][:samples_per_num_digit_train]:\n",
    "        s1, s2 = s.split(\" + \")\n",
    "        s1, s2 = int(s1), int(s2)\n",
    "        row = {\n",
    "            \"input_str\": [s],\n",
    "            \"answer\": [str(s1+s2)]\n",
    "        }\n",
    "        row = pd.DataFrame(row)\n",
    "        train = pd.concat([train, pd.DataFrame(row)])\n",
    "    for s in data[num_digit][\n",
    "        samples_per_num_digit_train:samples_per_num_digit_train+samples_per_num_digit_val\n",
    "    ]:\n",
    "        s1, s2 = s.split(\" + \")\n",
    "        s1, s2 = int(s1), int(s2)\n",
    "        row = {\n",
    "            \"input_str\": [s],\n",
    "            \"answer\": [str(s1+s2)]\n",
    "        }\n",
    "        row = pd.DataFrame(row)\n",
    "        val = pd.concat([val, pd.DataFrame(row)])\n",
    "print(len(train), len(val))\n",
    "\n",
    "train.to_csv(f\"../data/finetune/{TASK}/odd_only_split/train.csv\", index=False)\n",
    "val.to_csv(f\"../data/finetune/{TASK}/odd_only_split/val.csv\", index=False)\n"
   ]
  },
  {
   "cell_type": "markdown",
   "metadata": {},
   "source": [
    "### Compute ACC"
   ]
  },
  {
   "cell_type": "code",
   "execution_count": 1,
   "metadata": {},
   "outputs": [],
   "source": [
    "from collections import Counter\n",
    "import json, re, math, sys\n",
    "from pprint import pprint\n",
    "import numpy as np\n",
    "from tqdm import tqdm\n",
    "sys.path.append(\"../scripts/\")\n",
    "from helper import *"
   ]
  },
  {
   "cell_type": "code",
   "execution_count": null,
   "metadata": {},
   "outputs": [],
   "source": []
  },
  {
   "cell_type": "code",
   "execution_count": 3,
   "metadata": {},
   "outputs": [
    {
     "name": "stderr",
     "output_type": "stream",
     "text": [
      "  0%|          | 0/12400 [00:00<?, ?it/s]"
     ]
    },
    {
     "name": "stderr",
     "output_type": "stream",
     "text": [
      "100%|██████████| 12400/12400 [00:14<00:00, 845.96it/s] "
     ]
    },
    {
     "name": "stdout",
     "output_type": "stream",
     "text": [
      "testing acc = 0.00024193548387096774\n",
      "avg lcs_error =  3.7843833185448092\n"
     ]
    },
    {
     "name": "stderr",
     "output_type": "stream",
     "text": [
      "\n"
     ]
    }
   ],
   "source": [
    "with open(\"../scripts/llama/output/1206_121802/eval_samples/1206_122016.txt\", \"r\") as f:\n",
    "    lines = f.readlines()\n",
    "em = 0\n",
    "lcs_errors = []\n",
    "all_preds = []\n",
    "for l in tqdm(lines):\n",
    "    gth, pred = json.loads(l)\n",
    "    gth_result = int(gth.split(\".\")[0])\n",
    "    pred_result = -1\n",
    "    find = re.findall(r'(\\d+)', pred)\n",
    "    if find: pred_result = int(find[0])\n",
    "    all_preds.append(pred_result)\n",
    "    em += int(gth_result == pred_result) # int(-10<=gth_len-pred_len<=10) #\n",
    "    if not int(gth_result == pred_result): lcs_errors.append(len(str(gth_result)) - lcs(str(gth_result), str(pred_result)))\n",
    "print(f\"testing acc = {em / len(lines)}\") \n",
    "print(f\"avg lcs_error = \", np.mean(lcs_errors))"
   ]
  },
  {
   "cell_type": "code",
   "execution_count": null,
   "metadata": {},
   "outputs": [],
   "source": []
  }
 ],
 "metadata": {
  "kernelspec": {
   "display_name": "llms_do_math",
   "language": "python",
   "name": "llms_do_math"
  },
  "language_info": {
   "codemirror_mode": {
    "name": "ipython",
    "version": 3
   },
   "file_extension": ".py",
   "mimetype": "text/x-python",
   "name": "python",
   "nbconvert_exporter": "python",
   "pygments_lexer": "ipython3",
   "version": "3.8.10"
  }
 },
 "nbformat": 4,
 "nbformat_minor": 2
}
