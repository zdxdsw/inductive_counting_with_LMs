{
 "cells": [
  {
   "cell_type": "code",
   "execution_count": 1,
   "metadata": {},
   "outputs": [],
   "source": [
    "import json, os, sys, numbers\n",
    "import numpy as np\n",
    "import matplotlib.pyplot as plt\n",
    "import pandas as pd\n",
    "from tqdm import tqdm\n",
    "sys.path.append(\"../scripts/\")\n",
    "from collections import defaultdict, Counter\n",
    "from pprint import pprint\n",
    "from helper import *"
   ]
  },
  {
   "cell_type": "code",
   "execution_count": 2,
   "metadata": {},
   "outputs": [
    {
     "name": "stdout",
     "output_type": "stream",
     "text": [
      "31365\n",
      "{'Input': 'Which is the biggest value?  (a) 0  (b) -3/49  (c) 370  (d) 0.3',\n",
      " 'Output Answer': ['370'],\n",
      " 'Output Program': ['from sympy import *\\n'\n",
      "                    'choices = [0, -3/49, 370, 0.3]\\n'\n",
      "                    'print(sorted(choices, reverse=True)[0])'],\n",
      " 'dataset': 'deepmind_mathematics_basicmath.json',\n",
      " 'dist': 'iid',\n",
      " 'split': 'test',\n",
      " 'text': 'Question: Which is the biggest value?  (a) 0  (b) -3/49  (c) 370  '\n",
      "         '(d) 0.3\\n'\n",
      "         '\\n'\n",
      "         'Answer: 370\\n'\n",
      "         '\\n'\n",
      "         'Program:\\n'\n",
      "         '```python\\n'\n",
      "         'from sympy import *\\n'\n",
      "         'choices = [0, -3/49, 370, 0.3]\\n'\n",
      "         'print(sorted(choices, reverse=True)[0])\\n'\n",
      "         '```'}\n"
     ]
    }
   ],
   "source": [
    "import json\n",
    "test = open(\"../data/lila/multi/iid/test.json\", \"r\").readlines()\n",
    "print(len(test))\n",
    "pprint(json.loads(test[0]))"
   ]
  },
  {
   "cell_type": "code",
   "execution_count": 3,
   "metadata": {},
   "outputs": [],
   "source": [
    "def rel_error(pred, gth, abs_err=False):\n",
    "    pred, gth = float(pred), float(gth)\n",
    "    if gth == 0: res = pred-gth\n",
    "    else: res = (pred - gth) / np.absolute(gth)\n",
    "    if abs_err: res = np.absolute(res)\n",
    "    return res"
   ]
  },
  {
   "cell_type": "code",
   "execution_count": 4,
   "metadata": {},
   "outputs": [
    {
     "name": "stdout",
     "output_type": "stream",
     "text": [
      "5342\n"
     ]
    },
    {
     "data": {
      "text/html": [
       "<div>\n",
       "<style scoped>\n",
       "    .dataframe tbody tr th:only-of-type {\n",
       "        vertical-align: middle;\n",
       "    }\n",
       "\n",
       "    .dataframe tbody tr th {\n",
       "        vertical-align: top;\n",
       "    }\n",
       "\n",
       "    .dataframe thead th {\n",
       "        text-align: right;\n",
       "    }\n",
       "</style>\n",
       "<table border=\"1\" class=\"dataframe\">\n",
       "  <thead>\n",
       "    <tr style=\"text-align: right;\">\n",
       "      <th></th>\n",
       "      <th>id</th>\n",
       "      <th>gth_ans</th>\n",
       "      <th>output_dir_ans</th>\n",
       "      <th>dir_ans_em</th>\n",
       "      <th>exec_ans</th>\n",
       "      <th>exec_ans_em</th>\n",
       "      <th>output_dir_ans_without_program</th>\n",
       "      <th>dir_ans_without_program_em</th>\n",
       "    </tr>\n",
       "  </thead>\n",
       "  <tbody>\n",
       "    <tr>\n",
       "      <th>0</th>\n",
       "      <td>0</td>\n",
       "      <td>370.000000</td>\n",
       "      <td>37.0</td>\n",
       "      <td>0</td>\n",
       "      <td>(a) is the biggest value</td>\n",
       "      <td>0</td>\n",
       "      <td>370</td>\n",
       "      <td>1</td>\n",
       "    </tr>\n",
       "    <tr>\n",
       "      <th>1</th>\n",
       "      <td>1</td>\n",
       "      <td>-5.000000</td>\n",
       "      <td>0.5300000000000001</td>\n",
       "      <td>0</td>\n",
       "      <td>-3.4</td>\n",
       "      <td>0</td>\n",
       "      <td>w</td>\n",
       "      <td>0</td>\n",
       "    </tr>\n",
       "    <tr>\n",
       "      <th>2</th>\n",
       "      <td>2</td>\n",
       "      <td>0.004494</td>\n",
       "      <td>0.2</td>\n",
       "      <td>0</td>\n",
       "      <td>-0.2222222222222222</td>\n",
       "      <td>0</td>\n",
       "      <td>0.2</td>\n",
       "      <td>0</td>\n",
       "    </tr>\n",
       "    <tr>\n",
       "      <th>3</th>\n",
       "      <td>3</td>\n",
       "      <td>0.000000</td>\n",
       "      <td>-0.13</td>\n",
       "      <td>0</td>\n",
       "      <td>NameError</td>\n",
       "      <td>0</td>\n",
       "      <td>-0.13</td>\n",
       "      <td>0</td>\n",
       "    </tr>\n",
       "    <tr>\n",
       "      <th>4</th>\n",
       "      <td>4</td>\n",
       "      <td>1.020000</td>\n",
       "      <td>1.02</td>\n",
       "      <td>1</td>\n",
       "      <td>SyntaxError</td>\n",
       "      <td>0</td>\n",
       "      <td>-0.463768115942029</td>\n",
       "      <td>0</td>\n",
       "    </tr>\n",
       "  </tbody>\n",
       "</table>\n",
       "</div>"
      ],
      "text/plain": [
       "   id     gth_ans      output_dir_ans  dir_ans_em                  exec_ans  \\\n",
       "0   0  370.000000                37.0           0  (a) is the biggest value   \n",
       "1   1   -5.000000  0.5300000000000001           0                      -3.4   \n",
       "2   2    0.004494                 0.2           0       -0.2222222222222222   \n",
       "3   3    0.000000               -0.13           0                 NameError   \n",
       "4   4    1.020000                1.02           1               SyntaxError   \n",
       "\n",
       "   exec_ans_em output_dir_ans_without_program  dir_ans_without_program_em  \n",
       "0            0                            370                           1  \n",
       "1            0                              w                           0  \n",
       "2            0                            0.2                           0  \n",
       "3            0                          -0.13                           0  \n",
       "4            0             -0.463768115942029                           0  "
      ]
     },
     "execution_count": 4,
     "metadata": {},
     "output_type": "execute_result"
    }
   ],
   "source": [
    "results = pd.read_csv(\n",
    "    \"../data/lila/results/vicuna-13b/iid_test_single_ans.csv\", \n",
    "    header=0, \n",
    "    keep_default_na=False # prevent from reading empty strings as nan\n",
    ")\n",
    "\n",
    "print(len(results))\n",
    "results.head(5)"
   ]
  },
  {
   "cell_type": "code",
   "execution_count": 9,
   "metadata": {},
   "outputs": [
    {
     "name": "stdout",
     "output_type": "stream",
     "text": [
      "dir 4876\n",
      "guess_program 4853\n",
      "exec 4185\n"
     ]
    }
   ],
   "source": [
    "rel_errors = {\n",
    "    \"dir\": [],\n",
    "    \"guess_program\": [],\n",
    "    \"exec\": []\n",
    "}\n",
    "abs_err = True\n",
    "for i in range(len(results)):\n",
    "    d = results.loc[i].to_dict()\n",
    "    gth = d['gth_ans']\n",
    "    x = d[\"id\"]\n",
    "    try:\n",
    "        pred = float(d[\"output_dir_ans_without_program\"])\n",
    "        rel_errors[\"dir\"].append(rel_error(pred, gth, abs_err))\n",
    "    except: pass\n",
    "    try:\n",
    "        pred = float(d[\"output_dir_ans\"])\n",
    "        rel_errors[\"guess_program\"].append(rel_error(pred, gth, abs_err))\n",
    "    except: pass\n",
    "    try:\n",
    "        pred = float(d[\"exec_ans\"])\n",
    "        rel_errors[\"exec\"].append(rel_error(pred, gth, abs_err))\n",
    "    except: pass\n",
    "    \n",
    "for k, v in rel_errors.items():\n",
    "    print(k, len(v))"
   ]
  },
  {
   "cell_type": "code",
   "execution_count": 10,
   "metadata": {},
   "outputs": [
    {
     "name": "stdout",
     "output_type": "stream",
     "text": [
      "dir 3885\n",
      "guess_program 4002\n",
      "exec 3132\n"
     ]
    },
    {
     "data": {
      "image/png": "[encoded data removed]",
      "text/plain": [
       "<Figure size 1200x400 with 1 Axes>"
      ]
     },
     "metadata": {},
     "output_type": "display_data"
    }
   ],
   "source": [
    "fig, ax = plt.subplots(figsize=(12, 4))\n",
    "colors = iter(['#D65CB8', '#3E64AF', '#3EAF5D'])\n",
    "bar_types = 3\n",
    "ticks = [\n",
    "            0,\n",
    "            0.25, 0.5, 0.75, 1, 2, 3, 5, 10,\n",
    "            20, 100, 1000, 5000\n",
    "        ]\n",
    "for i, k in enumerate(rel_errors.keys()):\n",
    "    v = rel_errors[k]\n",
    "    \n",
    "    values = [_v for _v in v if not -0.001 < _v < 0.001]\n",
    "    print(k, len(values))    \n",
    "    bins = [np.min(values)] + ticks[1:-1] + [np.max(values)]\n",
    "    frq, edges = np.histogram(values, bins=bins)\n",
    "    edges = [0] + list(edges)[1:-1] + [ticks[-1]]\n",
    "\n",
    "    edges_ = [0]\n",
    "    frq_ = [0]\n",
    "    prev_e = 0\n",
    "    for f, e in zip(frq, list(range(1, len(edges)))): \n",
    "        edges_.extend([\n",
    "            prev_e + i/bar_types,\n",
    "            prev_e + (i+1)/bar_types\n",
    "        ])\n",
    "        frq_.extend([f/len(values), 0])\n",
    "        prev_e = e\n",
    "    edges_.append(edges[-1])\n",
    "\n",
    "    ax.stairs(frq_, edges_, fill=True, color=next(colors), alpha=0.5, label=k)\n",
    "    ax.vlines(list(range(len(ticks))), 0, frq.max(), colors='w')\n",
    "plt.ylim((0, 0.28))\n",
    "plt.xlim((0, len(ticks)-1))\n",
    "plt.xticks(list(range(len(ticks))), ticks, rotation=310)\n",
    "plt.legend()\n",
    "plt.show()\n",
    "\n"
   ]
  },
  {
   "cell_type": "code",
   "execution_count": 5,
   "metadata": {},
   "outputs": [],
   "source": [
    "iid_test = [json.loads(l) for l in open(\"../data/lila/multi/iid/test.json\", \"r\").readlines()]\n",
    "tmp = json.load(open(\"../data/lila/single_number_ans_ids.json\", \"r\"))\n",
    "iid_selected_ids = tmp['iid_test']"
   ]
  },
  {
   "cell_type": "code",
   "execution_count": 27,
   "metadata": {},
   "outputs": [
    {
     "data": {
      "text/plain": [
       "Counter({3: 885,\n",
       "         1: 1585,\n",
       "         -1: 7,\n",
       "         0.0: 56,\n",
       "         9: 4,\n",
       "         6: 26,\n",
       "         2: 2412,\n",
       "         5: 88,\n",
       "         7: 7,\n",
       "         4: 263,\n",
       "         12: 1,\n",
       "         -5: 1,\n",
       "         8: 4,\n",
       "         -4: 2,\n",
       "         -2: 1})"
      ]
     },
     "execution_count": 27,
     "metadata": {},
     "output_type": "execute_result"
    }
   ],
   "source": [
    "c = Counter()\n",
    "for x in iid_selected_ids:\n",
    "    #length = len(iid_test[x]['Input'].strip()) // 30\n",
    "    gth = float(iid_test[x]['Output Answer'][0])\n",
    "    if not gth == 0:\n",
    "        gth = int(np.log10(np.abs(gth))) + 1\n",
    "    c[gth] += 1\n",
    "c\n"
   ]
  },
  {
   "cell_type": "code",
   "execution_count": 19,
   "metadata": {},
   "outputs": [
    {
     "name": "stdout",
     "output_type": "stream",
     "text": [
      "Diffculty measure: number count in question\n",
      "Difficulty #questions avg EM     avg rel_error\n",
      "     0          199   0.341709    12.123951\n",
      "     1          373   0.128686   130.050118\n",
      "     2         1643   0.359099    63.861246\n",
      "     3         1458   0.168724   114.971864\n",
      "     4          746   0.099196   158.358117\n",
      "     5          365   0.073973   147.438065\n",
      "     6          245   0.044898   157.748814\n",
      "     7          111   0.027027    42.028699\n",
      "     8           57   0.035088    62.138121\n",
      "     9           48   0.062500    38.085920\n",
      "    10           30   0.033333  1004.792556\n",
      "    11           67   0.044776    81.205901\n"
     ]
    }
   ],
   "source": [
    "EM = defaultdict(list)\n",
    "RELERROR = defaultdict(list)\n",
    "max_rel_error = 5000\n",
    "for i in range(len(results)):\n",
    "    d = results.loc[i].to_dict()\n",
    "    gth = d['gth_ans']\n",
    "    x = d[\"id\"]\n",
    "    number_count = len(count_numbers_in_str(iid_test[x]['Input']))\n",
    "    if number_count > 10: number_count = 11\n",
    "    EM[number_count].append(int(d[\"exec_ans_em\"]))\n",
    "    try: \n",
    "        pred = float(d[\"exec_ans\"])\n",
    "        e = min(max_rel_error, rel_error(pred, gth, abs_err=True))\n",
    "        RELERROR[number_count].append(e)\n",
    "    except:\n",
    "        pass #e = max_rel_error\n",
    "    \n",
    "\n",
    "print(\"Diffculty measure: number count in question\")\n",
    "print(\"{:10} {:10} {:10} {:12}\".format(\"Difficulty\", \"#questions\", \"avg EM\", \"avg rel_error\"))\n",
    "for k in range(12):\n",
    "    print(\"{:6} {:12} {:10.6f} {:12.6f}\".format(k, len(EM[k]), np.mean(EM[k]), np.mean(RELERROR[k])))\n"
   ]
  },
  {
   "cell_type": "code",
   "execution_count": 16,
   "metadata": {},
   "outputs": [
    {
     "name": "stdout",
     "output_type": "stream",
     "text": [
      "Diffculty measure: question length\n",
      "Difficulty #questions avg EM     avg rel_error\n",
      "0-30             88   0.204545    19.540137\n",
      "30-60           491   0.112016   117.348363\n",
      "60-90           436   0.346330    75.935837\n",
      "90-120          841   0.334126     9.613641\n",
      "120-150         884   0.227376     3.349257\n",
      "150-180         761   0.172142     8.956646\n",
      "180-210         552   0.121377     1.965943\n",
      "210-240         398   0.113065    16.622240\n",
      "240-270         280   0.107143    21.789506\n",
      "270-300         197   0.086294    30.209825\n",
      "300-330         128   0.070312    15.888199\n",
      "330-360         286   0.080420    11.512067\n"
     ]
    }
   ],
   "source": [
    "EM = defaultdict(list)\n",
    "RELERROR = defaultdict(list)\n",
    "bin_width = 30\n",
    "max_rel_error = 5000\n",
    "for i in range(len(results)):\n",
    "    d = results.loc[i].to_dict()\n",
    "    gth = d['gth_ans']\n",
    "    x = d[\"id\"]\n",
    "    length = len(iid_test[x]['Input'].strip()) // bin_width\n",
    "    if length > 10: length = 11\n",
    "    EM[length].append(int(d[\"dir_ans_without_program_em\"]))\n",
    "\n",
    "    try: \n",
    "        pred = float(d[\"output_dir_ans_without_program\"])\n",
    "        e = min(max_rel_error, rel_error(pred, gth, abs_err=True))\n",
    "        RELERROR[length].append(e)\n",
    "    except:\n",
    "        pass #e = max_rel_error\n",
    "    \n",
    "\n",
    "print(\"Diffculty measure: question length\")\n",
    "print(\"{:10} {:10} {:10} {:12}\".format(\"Difficulty\", \"#questions\", \"avg EM\", \"avg rel_error\"))\n",
    "for k in range(12):\n",
    "    print(\"{:10} {:8} {:10.6f} {:12.6f}\".format(\n",
    "        f\"{str(k*bin_width)}-{str((1+k)*bin_width)}\", \n",
    "        len(EM[k]), \n",
    "        np.mean(EM[k]), \n",
    "        np.mean(RELERROR[k])\n",
    "    ))"
   ]
  },
  {
   "cell_type": "code",
   "execution_count": 10,
   "metadata": {},
   "outputs": [
    {
     "name": "stdout",
     "output_type": "stream",
     "text": [
      "Diffculty measure: source dataset\n",
      "src                                 #questions avg EM     avg rel_error\n",
      "deepmind_mathematics_basicmath            90   0.244444   201.796605\n",
      "mathqa_gain                              391   0.084399   281.366326\n",
      "draw_structured                          200   0.010000    77.233604\n",
      "mathqa_probability                        24   0.000000    31.679449\n",
      "deepmind_mathematics_calculus             30   0.133333    94.611111\n",
      "singleop                                 159   0.704403    27.034015\n",
      "deepmind_mathematics_algebra             298   0.117450   327.437350\n",
      "NumGLUE_Type_8_crowdsourced              175   0.400000    40.637433\n",
      "mathqa_physics                           488   0.032787   205.314526\n",
      "asdiv                                    614   0.431596    36.368987\n",
      "simuleq                                  146   0.020548    66.904096\n",
      "svamp_structured                         299   0.307692    11.673383\n",
      "multiarith                               174   0.281609     4.726974\n",
      "deepmind_mathematics_muldiv              133   0.263158   312.451966\n",
      "NumGLUE_Type_1_crowdsourced               68   0.147059   118.412023\n",
      "GSM8k_structured                        1310   0.108397    67.011175\n",
      "singleq                                  109   0.688073    47.427313\n",
      "mathqa_other                              91   0.043956   209.037795\n",
      "deepmind_mathematics_numbertheory        182   0.192308   391.106664\n",
      "addsub                                   109   0.559633    47.765914\n",
      "NumGLUE_Type_2_crowdsourced              252   0.043651   130.748676\n"
     ]
    }
   ],
   "source": [
    "EM = defaultdict(list)\n",
    "RELERROR = defaultdict(list)\n",
    "max_rel_error = 5000\n",
    "for i in range(len(results)):\n",
    "    d = results.loc[i].to_dict()\n",
    "    gth = d['gth_ans']\n",
    "    x = d[\"id\"]\n",
    "    src_dataset = iid_test[x]['dataset'].split(\".json\")[0]\n",
    "    EM[src_dataset].append(int(d[\"exec_ans_em\"]))\n",
    "\n",
    "    try: \n",
    "        pred = float(d[\"exec_ans\"])\n",
    "        e = min(max_rel_error, rel_error(pred, gth, abs_err=True))\n",
    "        RELERROR[src_dataset].append(e)\n",
    "    except:\n",
    "        pass #e = max_rel_error\n",
    "    \n",
    "\n",
    "print(\"Diffculty measure: source dataset\")\n",
    "print(\"{:35} {:10} {:10} {:12}\".format(\"src\", \"#questions\", \"avg EM\", \"avg rel_error\"))\n",
    "for k in EM.keys():\n",
    "    print(\"{:35} {:8} {:10.6f} {:12.6f}\".format(\n",
    "        k, \n",
    "        len(EM[k]), \n",
    "        np.mean(EM[k]), \n",
    "        np.mean(RELERROR[k])\n",
    "    ))"
   ]
  },
  {
   "cell_type": "markdown",
   "metadata": {},
   "source": []
  },
  {
   "cell_type": "code",
   "execution_count": 31,
   "metadata": {},
   "outputs": [
    {
     "name": "stdout",
     "output_type": "stream",
     "text": [
      "Diffculty measure: magnitude of gth answer\n",
      "Difficulty #questions avg EM     avg rel_error\n",
      "        -5        1   0.000000   985.835041\n",
      "        -4        2   0.000000    52.204554\n",
      "        -2        1   0.000000   319.000000\n",
      "        -1        7   0.142857    37.747706\n",
      "       0.0       56   0.196429   155.642337\n",
      "         1     1585   0.226498    45.977615\n",
      "         2     2412   0.204809    14.660236\n",
      "         3      885   0.133333     1.804107\n",
      "         4      263   0.091255    23.977129\n",
      "         5       88   0.102273     0.824256\n",
      "         6       26   0.153846   239.152948\n",
      "         7        7   0.428571     0.649393\n",
      "         8        4   0.500000     2.986068\n",
      "         9        4   0.500000  1250.423310\n",
      "        12        1   1.000000     0.000000\n"
     ]
    }
   ],
   "source": [
    "EM = defaultdict(list)\n",
    "RELERROR = defaultdict(list)\n",
    "max_rel_error = 5000\n",
    "for i in range(len(results)):\n",
    "    d = results.loc[i].to_dict()\n",
    "    gth = d['gth_ans']\n",
    "    x = d[\"id\"]\n",
    "    mag = float(iid_test[x]['Output Answer'][0])\n",
    "    if not mag == 0:\n",
    "        mag = int(np.log10(np.abs(mag))) + 1\n",
    "    EM[mag].append(int(d[\"dir_ans_without_program_em\"]))\n",
    "\n",
    "    try: \n",
    "        pred = float(d[\"output_dir_ans_without_program\"])\n",
    "        e = min(max_rel_error, rel_error(pred, gth, abs_err=True))\n",
    "        RELERROR[mag].append(e)\n",
    "    except:\n",
    "        pass #e = max_rel_error\n",
    "    \n",
    "\n",
    "print(\"Diffculty measure: magnitude of gth answer\")\n",
    "print(\"{:10} {:10} {:10} {:12}\".format(\"Difficulty\", \"#questions\", \"avg EM\", \"avg rel_error\"))\n",
    "for k in sorted(list(EM.keys())):\n",
    "    print(\"{:10} {:8} {:10.6f} {:12.6f}\".format(\n",
    "        k, \n",
    "        len(EM[k]), \n",
    "        np.mean(EM[k]), \n",
    "        np.mean(RELERROR[k])\n",
    "    ))\n"
   ]
  },
  {
   "cell_type": "code",
   "execution_count": null,
   "metadata": {},
   "outputs": [],
   "source": []
  }
 ],
 "metadata": {
  "kernelspec": {
   "display_name": "venv",
   "language": "python",
   "name": "python3"
  },
  "language_info": {
   "codemirror_mode": {
    "name": "ipython",
    "version": 3
   },
   "file_extension": ".py",
   "mimetype": "text/x-python",
   "name": "python",
   "nbconvert_exporter": "python",
   "pygments_lexer": "ipython3",
   "version": "3.8.10"
  },
  "orig_nbformat": 4
 },
 "nbformat": 4,
 "nbformat_minor": 2
}
