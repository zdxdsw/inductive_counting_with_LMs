{
 "cells": [
  {
   "cell_type": "code",
   "execution_count": 14,
   "metadata": {},
   "outputs": [],
   "source": [
    "import random, os, re, json\n",
    "import numpy as np\n",
    "from collections import Counter, defaultdict"
   ]
  },
  {
   "cell_type": "code",
   "execution_count": 26,
   "metadata": {},
   "outputs": [],
   "source": [
    "repeat = 10\n",
    "J = []\n",
    "input_lengths = [32, 64, 128, 256]\n",
    "\n",
    "dir = \"../data/feed_decoder_LM/regular/max\"\n",
    "with open(f\"{dir}/try.txt\", \"w\") as f:\n",
    "    for input_len in input_lengths:\n",
    "        inputs = []\n",
    "        for m in range(2, 11):\n",
    "            for n in range(repeat):\n",
    "                seq = [random.choice(list(range(m))) for i in range(input_len)]\n",
    "                l = \"\".join([str(d) for d in seq])\n",
    "                inputs.append(l)\n",
    "                f.write(l + f\", {max(seq)}\\n\")\n",
    "        if Counter(inputs).most_common(1)[0][1] > 1:\n",
    "            print(Counter(inputs).most_common(3))"
   ]
  },
  {
   "cell_type": "code",
   "execution_count": 25,
   "metadata": {},
   "outputs": [],
   "source": [
    "repeat = 10\n",
    "input_lengths = list(range(32, 129))\n",
    "dir = \"../data/feed_decoder_LM/regular/len\"\n",
    "with open(f\"{dir}/try.txt\", \"w\") as f:  \n",
    "    for input_len in input_lengths:\n",
    "        inputs = []\n",
    "        for n in range(repeat):\n",
    "            seq = [random.choice(list(range(10))) for i in range(input_len)]\n",
    "            l = \"\".join([str(d) for d in seq])\n",
    "            inputs.append(l)\n",
    "            f.write(l + f\", {input_len}\\n\")\n",
    "        if Counter(inputs).most_common(1)[0][1] > 1:\n",
    "            print(Counter(inputs).most_common(3))"
   ]
  },
  {
   "cell_type": "code",
   "execution_count": 27,
   "metadata": {},
   "outputs": [
    {
     "name": "stdout",
     "output_type": "stream",
     "text": [
      "The maximum digit in the input string \"1434120042\" is 4.\n",
      "The maximum digit in the input string \"55268671843682070635\" is 8.\n",
      "The maximum digit in the input string \"162070043302355023562650627406\" is 7.\n",
      "The maximum digit in the input string \"{}\" is\n",
      "The maximum digit in the input string \"1434120042\" is 4.\n",
      "The maximum digit in the input string \"55268671843682070635\" is 8.\n",
      "The maximum digit in the input string \"162070043302355023562650627406\" is 7.\n",
      "The maximum digit in the input string \"1345678965432\" is\n"
     ]
    }
   ],
   "source": [
    "with open(f\"{dir}/prompt.txt\", \"r\") as f:\n",
    "    prompt = \"\".join(f.readlines()).strip()\n",
    "s = \"1345678965432\"\n",
    "print(prompt)\n",
    "print(prompt.format(s))"
   ]
  },
  {
   "cell_type": "code",
   "execution_count": 14,
   "metadata": {},
   "outputs": [],
   "source": [
    "repeat = 10\n",
    "input_lengths = list(range(32, 129))\n",
    "with open(\"../data/feed_decoder_LM/regular/sum/try.txt\", \"w\") as f:\n",
    "    for input_len in input_lengths:\n",
    "        for n in range(repeat):\n",
    "            seq = [random.choice(list(range(10))) for i in range(input_len)]\n",
    "            l = \"\".join([str(d) for d in seq])\n",
    "            f.write(l + f\", {sum(seq)}\\n\")"
   ]
  },
  {
   "cell_type": "code",
   "execution_count": 39,
   "metadata": {},
   "outputs": [
    {
     "data": {
      "text/plain": [
       "Counter({1: 979,\n",
       "         7: 988,\n",
       "         5: 961,\n",
       "         3: 949,\n",
       "         6: 958,\n",
       "         0: 1019,\n",
       "         8: 1013,\n",
       "         4: 912,\n",
       "         9: 965,\n",
       "         2: 956})"
      ]
     },
     "execution_count": 39,
     "metadata": {},
     "output_type": "execute_result"
    }
   ],
   "source": [
    "repeat = 100\n",
    "input_lengths = list(range(32, 129))\n",
    "gths = []\n",
    "with open(\"../data/feed_decoder_LM/regular/summod10/try.txt\", \"w\") as f:\n",
    "    for input_len in input_lengths:\n",
    "        for n in range(repeat):\n",
    "            seq = [random.choice(list(range(10))) for i in range(input_len)]\n",
    "            l = \"\".join([str(d) for d in seq])\n",
    "            gth = sum(seq)%10\n",
    "            gths.append(gth)\n",
    "            f.write(l + f\", {gth}\\n\")\n",
    "Counter(gths)"
   ]
  },
  {
   "cell_type": "code",
   "execution_count": 42,
   "metadata": {},
   "outputs": [],
   "source": [
    "repeat = 100\n",
    "input_lengths = list(range(32, 129))\n",
    "with open(\"../data/feed_decoder_LM/regular/reverse/try.txt\", \"w\") as f:\n",
    "    for input_len in input_lengths:\n",
    "        for n in range(repeat):\n",
    "            seq = [random.choice(list(range(10))) for i in range(input_len)]\n",
    "            l = \"\".join([str(d) for d in seq])\n",
    "            f.write(l + f\", {l[::-1]}\\n\")"
   ]
  },
  {
   "cell_type": "code",
   "execution_count": 40,
   "metadata": {},
   "outputs": [],
   "source": [
    "def LD(s, t):\n",
    "    \"\"\" \n",
    "        iterative_levenshtein(s, t) -> ldist\n",
    "        ldist is the Levenshtein distance between the strings \n",
    "        s and t.\n",
    "        For all i and j, dist[i,j] will contain the Levenshtein \n",
    "        distance between the first i characters of s and the \n",
    "        first j characters of t\n",
    "    \"\"\"\n",
    "\n",
    "    rows = len(s)+1\n",
    "    cols = len(t)+1\n",
    "    dist = [[0 for x in range(cols)] for x in range(rows)]\n",
    "\n",
    "    # source prefixes can be transformed into empty strings \n",
    "    # by deletions:\n",
    "    for i in range(1, rows):\n",
    "        dist[i][0] = i\n",
    "\n",
    "    # target prefixes can be created from an empty source string\n",
    "    # by inserting the characters\n",
    "    for i in range(1, cols):\n",
    "        dist[0][i] = i\n",
    "        \n",
    "    for col in range(1, cols):\n",
    "        for row in range(1, rows):\n",
    "            if s[row-1] == t[col-1]:\n",
    "                cost = 0\n",
    "            else:\n",
    "                cost = 1\n",
    "            dist[row][col] = min(dist[row-1][col] + 1,      # deletion\n",
    "                                 dist[row][col-1] + 1,      # insertion\n",
    "                                 dist[row-1][col-1] + cost) # substitution\n",
    "\n",
    "    #for r in range(rows):\n",
    "        #print(dist[r])\n",
    "    \n",
    " \n",
    "    return dist[row][col]"
   ]
  },
  {
   "cell_type": "code",
   "execution_count": 53,
   "metadata": {},
   "outputs": [
    {
     "name": "stdout",
     "output_type": "stream",
     "text": [
      "0000111112222222333333333344444445555556666666667777777777888899999\n",
      "41\n"
     ]
    }
   ],
   "source": [
    "s = \"2607922156353361272199834490538576765728670235433443867310741674697\"\n",
    "print(\"\".join(sorted(s)))\n",
    "print(LD(\"\".join(sorted(s)), \"0121222333444445556666777777777888999992235566677779\"))"
   ]
  },
  {
   "cell_type": "code",
   "execution_count": 85,
   "metadata": {},
   "outputs": [
    {
     "name": "stdout",
     "output_type": "stream",
     "text": [
      "1023\n"
     ]
    }
   ],
   "source": [
    "from math import comb\n",
    "x = 0\n",
    "for i in range(1,11):\n",
    "    x += comb(10, i)\n",
    "print(x)\n"
   ]
  },
  {
   "cell_type": "code",
   "execution_count": 84,
   "metadata": {},
   "outputs": [
    {
     "data": {
      "text/plain": [
       "[('00000112222333345555667778888999', 1),\n",
       " ('00001122333444555566666677788999', 1),\n",
       " ('00000112233334444445566667788999', 1)]"
      ]
     },
     "execution_count": 84,
     "metadata": {},
     "output_type": "execute_result"
    }
   ],
   "source": [
    "repeat = 100\n",
    "input_lengths = list(range(32, 129))\n",
    "gths = []\n",
    "with open(\"../data/feed_decoder_LM/regular/sort/try.txt\", \"w\") as f:\n",
    "    for input_len in input_lengths:\n",
    "        for n in range(repeat):\n",
    "            digits = \"1234567890\" + \"\".join([random.choice(\"1234567890\") for i in range(input_len-10)])\n",
    "            gth = \"\".join(sorted(digits))\n",
    "            gths.append(gth)\n",
    "            seq = np.random.permutation(sorted(digits))\n",
    "            l = \"\".join([d for d in seq])\n",
    "            f.write(l + f\", {gth}\\n\")\n",
    "Counter(gths).most_common(3)"
   ]
  },
  {
   "cell_type": "code",
   "execution_count": 74,
   "metadata": {},
   "outputs": [
    {
     "data": {
      "text/plain": [
       "12"
      ]
     },
     "execution_count": 74,
     "metadata": {},
     "output_type": "execute_result"
    }
   ],
   "source": [
    "LD(\"012233344556667778889999\", \"00001112233344455666666777788888999\")"
   ]
  },
  {
   "cell_type": "code",
   "execution_count": null,
   "metadata": {},
   "outputs": [],
   "source": []
  }
 ],
 "metadata": {
  "kernelspec": {
   "display_name": "venv",
   "language": "python",
   "name": "python3"
  },
  "language_info": {
   "codemirror_mode": {
    "name": "ipython",
    "version": 3
   },
   "file_extension": ".py",
   "mimetype": "text/x-python",
   "name": "python",
   "nbconvert_exporter": "python",
   "pygments_lexer": "ipython3",
   "version": "3.8.10"
  },
  "orig_nbformat": 4
 },
 "nbformat": 4,
 "nbformat_minor": 2
}
