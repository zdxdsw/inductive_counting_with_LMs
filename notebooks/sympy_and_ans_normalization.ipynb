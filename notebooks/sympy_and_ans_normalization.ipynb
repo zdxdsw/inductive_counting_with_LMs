{
 "cells": [
  {
   "cell_type": "code",
   "execution_count": 1,
   "metadata": {},
   "outputs": [],
   "source": [
    "from answer_normalization import normalize_final_answer\n",
    "\n",
    "from sympy import *\n",
    "import re, random, json\n",
    "from pprint import pprint"
   ]
  },
  {
   "cell_type": "code",
   "execution_count": 2,
   "metadata": {},
   "outputs": [],
   "source": [
    "split = 'test'\n",
    "mathqa = json.load(open(f\"../MathQA/{split}.json\", \"r\"))"
   ]
  },
  {
   "cell_type": "code",
   "execution_count": 3,
   "metadata": {},
   "outputs": [
    {
     "name": "stdout",
     "output_type": "stream",
     "text": [
      "401\n"
     ]
    }
   ],
   "source": [
    "with open(f\"../MathQA/vicuna_output/test_problems_debug_CoT.jsonl\", \"r\") as f:\n",
    "    predictions = f.readlines()\n",
    "print(len(predictions))"
   ]
  },
  {
   "cell_type": "code",
   "execution_count": 103,
   "metadata": {},
   "outputs": [
    {
     "name": "stdout",
     "output_type": "stream",
     "text": [
      "197\n",
      "{'Problem': 'if ( 18 ^ a ) * 9 ^ ( 3 a – 1 ) = ( 2 ^ 3 ) ( 3 ^ b ) and a and b '\n",
      "            'are positive integers , what is the value of a ?',\n",
      " 'Rationale': '18 ^ a ) * 9 ^ ( 3 a – 1 ) = ( 2 ^ 3 ) ( 3 ^ b ) = 2 ^ a . 9 ^ '\n",
      "              'a . 9 ^ ( 3 a – 1 ) = ( 2 ^ 3 ) ( 3 ^ b ) just compare powers '\n",
      "              'of 2 from both sides ( no need to calculate powers of 3 , 9 as '\n",
      "              'value of b is not asked ) answer = 3 answer : e',\n",
      " 'annotated_formula': 'multiply(3, 1)',\n",
      " 'category': 'general',\n",
      " 'correct': 'e',\n",
      " 'linear_formula': 'multiply(n2,n3)',\n",
      " 'options': 'a ) 22 , b ) 11 , c ) 9 , d ) 6 , e ) 3'}\n",
      "---------------------------------------\n",
      "---------------------------------------\n"
     ]
    }
   ],
   "source": [
    "i = random.choice(list(range(len(predictions))))\n",
    "print(i)\n",
    "pprint(mathqa[i])\n",
    "print(\"---------------------------------------\")\n",
    "p = predictions[i]\n",
    "#print(json.loads(p)['text'])\n",
    "match = re.search(r' answer is (?P<answer>.+)\\. .*?', json.loads(p)['text'].replace('\\n', ' '))\n",
    "print(\"---------------------------------------\")\n",
    "if match is not None: print(match.group('answer'))\n"
   ]
  },
  {
   "cell_type": "code",
   "execution_count": 90,
   "metadata": {},
   "outputs": [
    {
     "name": "stdout",
     "output_type": "stream",
     "text": [
      "Let's call the number of red beans in jar A \"x\" and the number of yellow beans in jar A \"y\". The number of red beans in jar B is \"x + 20% * (x + y)\". The number of yellow beans in jar B is \"y - 10% * (x + y)\".\n",
      "\n",
      "We know that the number of red beans in jar A is twice the number of yellow beans in jar A, so \"x + y\" is equal to \"2 \\* y\". Substituting this into the equation for the number of red beans in jar B, we get \"x + 20% \\* (x + y)\" = \"2 \\* y + 20% \\* (2 \\* y + x)\". Solving for \"x\", we get \"x + 20% \\* (x + y) = 2 \\* y + 20% \\* (2 \\* y + x)\" becomes \"x = 2 \\* y - 20% \\* (2 \\* y + x)\".\n",
      "\n",
      "Substituting this expression for \"x\" into the equation for the number of yellow beans in jar B, we get \"y - 10% \\* (x + y)\" = \"y - 10% \\* (2 \\* y - 20% \\* (2 \\* y + x) + x)\". Solving for \"x\", we get \"y - 10% \\* (x + y)\" = \"y - 10% \\* (2 \\* y - 20% \\* (2 \\* y + x) + x)\" becomes \"x = 2 \\* y - 20% \\* (2 \\* y + x) - 10% \\* (2 \\* y - 20% \\* (2 \\* y + x) + x)\".\n",
      "\n",
      "We can simplify this expression for \"x\" by first simplifying the expression inside the parentheses on the right-hand side: \"2 \\* y - 20% \\* (2 \\* y + x) - 10% \\* (2 \\* y - 20% \\* (2 \\* y + x) + x)\" = \"2 \\* y\n"
     ]
    }
   ],
   "source": [
    "print(json.loads(p)['text'])"
   ]
  },
  {
   "cell_type": "code",
   "execution_count": 2,
   "metadata": {},
   "outputs": [],
   "source": []
  },
  {
   "cell_type": "code",
   "execution_count": 23,
   "metadata": {},
   "outputs": [
    {
     "name": "stdout",
     "output_type": "stream",
     "text": [
      "3/5 0.6\n",
      "3/5 0.600000000000000\n"
     ]
    },
    {
     "data": {
      "text/plain": [
       "True"
      ]
     },
     "execution_count": 23,
     "metadata": {},
     "output_type": "execute_result"
    }
   ],
   "source": [
    "from sympy.parsing.latex import parse_latex\n",
    "s = normalize_final_answer(\"3/5\")\n",
    "t = normalize_final_answer(\"0.6\")\n",
    "print(s, t)\n",
    "s = parse_latex(r'{}'.format(s))\n",
    "t = parse_latex(r'{}'.format(t))\n",
    "print(s, t)\n",
    "s = simplify(s)\n",
    "t = simplify(t)\n",
    "s - t == 0"
   ]
  },
  {
   "cell_type": "code",
   "execution_count": null,
   "metadata": {},
   "outputs": [],
   "source": []
  }
 ],
 "metadata": {
  "kernelspec": {
   "display_name": "venv",
   "language": "python",
   "name": "python3"
  },
  "language_info": {
   "codemirror_mode": {
    "name": "ipython",
    "version": 3
   },
   "file_extension": ".py",
   "mimetype": "text/x-python",
   "name": "python",
   "nbconvert_exporter": "python",
   "pygments_lexer": "ipython3",
   "version": "3.8.3"
  },
  "orig_nbformat": 4
 },
 "nbformat": 4,
 "nbformat_minor": 2
}
