{
 "cells": [
  {
   "cell_type": "code",
   "execution_count": 1,
   "metadata": {},
   "outputs": [
    {
     "name": "stderr",
     "output_type": "stream",
     "text": [
      "/home/yingshac/workspace/llms_do_math/venv/lib/python3.8/site-packages/tqdm/auto.py:21: TqdmWarning: IProgress not found. Please update jupyter and ipywidgets. See https://ipywidgets.readthedocs.io/en/stable/user_install.html\n",
      "  from .autonotebook import tqdm as notebook_tqdm\n"
     ]
    }
   ],
   "source": [
    "import torch, os\n",
    "os.environ['HF_HOME'] = '/data/yingshac/hf_cache'\n",
    "#torch.set_default_tensor_type(torch.cuda.FloatTensor)\n",
    "import transformers\n",
    "from transformers import pipeline\n",
    "import json, random, os, io, pickle\n",
    "import numpy as np\n",
    "from pprint import pprint"
   ]
  },
  {
   "cell_type": "code",
   "execution_count": null,
   "metadata": {},
   "outputs": [],
   "source": [
    "pipe = pipeline(\"text-generation\", model=\"HuggingFaceH4/starchat-alpha\", torch_dtype=torch.float16, device_map=\"auto\")\n",
    "\n",
    "prompt_template = \"<|system|>\\n<|end|>\\n<|user|>\\n{query}<|end|>\\n<|assistant|>\"\n"
   ]
  },
  {
   "cell_type": "code",
   "execution_count": 4,
   "metadata": {},
   "outputs": [
    {
     "name": "stderr",
     "output_type": "stream",
     "text": [
      "Setting `pad_token_id` to `eos_token_id`:49155 for open-end generation.\n"
     ]
    },
    {
     "name": "stdout",
     "output_type": "stream",
     "text": [
      "<|system|>\n",
      "<|end|>\n",
      "<|user|>\n",
      "Let g(i) = i**2 + i + 13. Let u be 3 + 3/(1/(-1)). What is the tens digit of g(u)?<|end|>\n",
      "<|assistant|>\n",
      "The tens digit of g(u) is 3.\n",
      "\n",
      "To find the tens digit of g(u), we need to find the tens digit of the following expression:\n",
      "\n",
      "g(u) = (3 + 3/(1/(-1)))**2 + (3 + 3/(1/(-1))) + 13\n",
      "\n",
      "We can simplify this expression by canceling out the common factor of 3 in the numerator and denominator:\n",
      "\n",
      "g(u) = 3**2 + 3 + 3/(1/(-1)) + 3/(1/(-1)) + 13\n",
      "\n",
      "Now we can cancel out the 3 in the numerator and denominator, which gives us:\n",
      "\n",
      "g(u) = 3 + 3/(1/(-1)) + 13\n",
      "\n",
      "The tens digit of this expression is 3.\n"
     ]
    }
   ],
   "source": [
    "query = \"Let g(i) = i**2 + i + 13. Let u be 3 + 3/(1/(-1)). What is the tens digit of g(u)?\"\n",
    "prompt = prompt_template.format(query=query)\n",
    "# We use a special <|end|> token with ID 49155 to denote ends of a turn\n",
    "#outputs = pipe(prompt, max_new_tokens=256, do_sample=True, temperature=0.2, top_k=50, top_p=0.95, eos_token_id=49155)\n",
    "outputs = pipe(prompt, max_new_tokens=256, do_sample=False, eos_token_id=49155)\n",
    "\n",
    "print(outputs[0]['generated_text'])"
   ]
  },
  {
   "cell_type": "code",
   "execution_count": null,
   "metadata": {},
   "outputs": [],
   "source": []
  }
 ],
 "metadata": {
  "kernelspec": {
   "display_name": "venv",
   "language": "python",
   "name": "python3"
  },
  "language_info": {
   "codemirror_mode": {
    "name": "ipython",
    "version": 3
   },
   "file_extension": ".py",
   "mimetype": "text/x-python",
   "name": "python",
   "nbconvert_exporter": "python",
   "pygments_lexer": "ipython3",
   "version": "3.8.10"
  },
  "orig_nbformat": 4
 },
 "nbformat": 4,
 "nbformat_minor": 2
}
