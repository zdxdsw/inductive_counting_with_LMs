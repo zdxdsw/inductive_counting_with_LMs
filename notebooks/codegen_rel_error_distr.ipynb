{
 "cells": [
  {
   "cell_type": "code",
   "execution_count": 23,
   "metadata": {},
   "outputs": [],
   "source": [
    "import json, os, sys, numbers, math\n",
    "import numpy as np\n",
    "import matplotlib.pyplot as plt\n",
    "import pandas as pd\n",
    "from tqdm import tqdm\n",
    "sys.path.append(\"../scripts/\")\n",
    "from collections import defaultdict, Counter\n",
    "from pprint import pprint\n",
    "from helper import *"
   ]
  },
  {
   "cell_type": "code",
   "execution_count": 8,
   "metadata": {},
   "outputs": [],
   "source": [
    "def rel_error(pred, gth, abs_err=False):\n",
    "    pred, gth = float(pred), float(gth)\n",
    "    if gth == 0: res = pred-gth\n",
    "    else: res = (pred - gth) / np.absolute(gth)\n",
    "    if abs_err: res = np.absolute(res)\n",
    "    return res"
   ]
  },
  {
   "cell_type": "code",
   "execution_count": 2,
   "metadata": {},
   "outputs": [
    {
     "name": "stdout",
     "output_type": "stream",
     "text": [
      "5342\n"
     ]
    },
    {
     "data": {
      "text/html": [
       "<div>\n",
       "<style scoped>\n",
       "    .dataframe tbody tr th:only-of-type {\n",
       "        vertical-align: middle;\n",
       "    }\n",
       "\n",
       "    .dataframe tbody tr th {\n",
       "        vertical-align: top;\n",
       "    }\n",
       "\n",
       "    .dataframe thead th {\n",
       "        text-align: right;\n",
       "    }\n",
       "</style>\n",
       "<table border=\"1\" class=\"dataframe\">\n",
       "  <thead>\n",
       "    <tr style=\"text-align: right;\">\n",
       "      <th></th>\n",
       "      <th>id</th>\n",
       "      <th>gth_ans</th>\n",
       "      <th>exec_ans_var_a</th>\n",
       "      <th>em_var_a</th>\n",
       "      <th>exec_ans_deffunc</th>\n",
       "      <th>em_deffunc</th>\n",
       "    </tr>\n",
       "  </thead>\n",
       "  <tbody>\n",
       "    <tr>\n",
       "      <th>0</th>\n",
       "      <td>0</td>\n",
       "      <td>370.000000</td>\n",
       "      <td></td>\n",
       "      <td>0</td>\n",
       "      <td></td>\n",
       "      <td>0</td>\n",
       "    </tr>\n",
       "    <tr>\n",
       "      <th>1</th>\n",
       "      <td>1</td>\n",
       "      <td>-5.000000</td>\n",
       "      <td></td>\n",
       "      <td>0</td>\n",
       "      <td>SyntaxError</td>\n",
       "      <td>0</td>\n",
       "    </tr>\n",
       "    <tr>\n",
       "      <th>2</th>\n",
       "      <td>2</td>\n",
       "      <td>0.004494</td>\n",
       "      <td></td>\n",
       "      <td>0</td>\n",
       "      <td>SyntaxError</td>\n",
       "      <td>0</td>\n",
       "    </tr>\n",
       "    <tr>\n",
       "      <th>3</th>\n",
       "      <td>3</td>\n",
       "      <td>0.000000</td>\n",
       "      <td>-16</td>\n",
       "      <td>0</td>\n",
       "      <td></td>\n",
       "      <td>0</td>\n",
       "    </tr>\n",
       "    <tr>\n",
       "      <th>4</th>\n",
       "      <td>4</td>\n",
       "      <td>1.020000</td>\n",
       "      <td>1.02</td>\n",
       "      <td>1</td>\n",
       "      <td>1.02</td>\n",
       "      <td>1</td>\n",
       "    </tr>\n",
       "  </tbody>\n",
       "</table>\n",
       "</div>"
      ],
      "text/plain": [
       "   id     gth_ans exec_ans_var_a  em_var_a exec_ans_deffunc  em_deffunc\n",
       "0   0  370.000000                        0                            0\n",
       "1   1   -5.000000                        0      SyntaxError           0\n",
       "2   2    0.004494                        0      SyntaxError           0\n",
       "3   3    0.000000            -16         0                            0\n",
       "4   4    1.020000           1.02         1             1.02           1"
      ]
     },
     "execution_count": 2,
     "metadata": {},
     "output_type": "execute_result"
    }
   ],
   "source": [
    "llm_rel_path = \"codegen25-7b-instruct\"\n",
    "results = pd.read_csv(\n",
    "    f\"../data/lila/results/{llm_rel_path}/iid_test_single_ans.csv\", \n",
    "    header=0, \n",
    "    keep_default_na=False # prevent from reading empty strings as nan\n",
    ")\n",
    "\n",
    "print(len(results))\n",
    "results.head(5)"
   ]
  },
  {
   "cell_type": "code",
   "execution_count": 24,
   "metadata": {},
   "outputs": [
    {
     "name": "stdout",
     "output_type": "stream",
     "text": [
      "var_a = 3798\n",
      "def func( 2466\n"
     ]
    }
   ],
   "source": [
    "rel_errors = {\n",
    "    \"var_a =\": [],\n",
    "    \"def func(\": [],\n",
    "}\n",
    "abs_err = True\n",
    "for i in range(len(results)):\n",
    "    d = results.loc[i].to_dict()\n",
    "    gth = d['gth_ans']\n",
    "    x = d[\"id\"]\n",
    "    try:\n",
    "        pred = float(d[\"exec_ans_var_a\"])\n",
    "        if not math.isinf(pred):\n",
    "            rel_errors[\"var_a =\"].append(rel_error(pred, gth, abs_err))\n",
    "    except ValueError: pass\n",
    "    except: raise\n",
    "    try:\n",
    "        pred = float(d[\"exec_ans_deffunc\"])\n",
    "        if not math.isinf(pred):\n",
    "            rel_errors[\"def func(\"].append(rel_error(pred, gth, abs_err))\n",
    "    except ValueError: pass\n",
    "    except: raise\n",
    "    \n",
    "for k, v in rel_errors.items():\n",
    "    print(k, len(v))"
   ]
  },
  {
   "cell_type": "code",
   "execution_count": 65,
   "metadata": {},
   "outputs": [
    {
     "name": "stdout",
     "output_type": "stream",
     "text": [
      "var_a = 2578\n",
      "def func( 2018\n"
     ]
    },
    {
     "data": {
      "image/png": "[encoded data removed]",
      "text/plain": [
       "<Figure size 1200x400 with 1 Axes>"
      ]
     },
     "metadata": {},
     "output_type": "display_data"
    }
   ],
   "source": [
    "fig, ax = plt.subplots(figsize=(12, 4))\n",
    "colors = iter(['#ffb21a', '#cc661a'])\n",
    "bar_types = 2\n",
    "ticks = [\n",
    "            0,\n",
    "            0.25, 0.5, 0.75, 1, 2, 3, 5, 10,\n",
    "            20, 100, 1000, 5000\n",
    "        ]\n",
    "for i, k in enumerate(rel_errors.keys()):\n",
    "    v = rel_errors[k]\n",
    "    \n",
    "    values = [_v for _v in v if not -0.001 < _v < 0.001]\n",
    "    print(k, len(values))    \n",
    "    bins = [np.min(values)] + ticks[1:-1] + [np.max(values)]\n",
    "    frq, edges = np.histogram(values, bins=bins)\n",
    "    edges = [0] + list(edges)[1:-1] + [ticks[-1]]\n",
    "\n",
    "    edges_ = [0]\n",
    "    frq_ = [0]\n",
    "    prev_e = 0\n",
    "    for f, e in zip(frq, list(range(1, len(edges)))): \n",
    "        edges_.extend([\n",
    "            prev_e + i/bar_types,\n",
    "            prev_e + (i+1)/bar_types\n",
    "        ])\n",
    "        frq_.extend([f/len(values), 0])\n",
    "        prev_e = e\n",
    "    edges_.append(edges[-1])\n",
    "\n",
    "    ax.stairs(frq_, edges_, fill=True, color=next(colors), alpha=0.5, label=k)\n",
    "    ax.vlines(list(range(len(ticks))), 0, frq.max(), colors='w')\n",
    "plt.ylim((0, 0.28))\n",
    "plt.xlim((0, len(ticks)-1))\n",
    "plt.xticks(list(range(len(ticks))), ticks, rotation=310)\n",
    "plt.legend()\n",
    "plt.show()\n"
   ]
  },
  {
   "cell_type": "code",
   "execution_count": 31,
   "metadata": {},
   "outputs": [
    {
     "data": {
      "text/plain": [
       "1.204428152e+24"
      ]
     },
     "execution_count": 31,
     "metadata": {},
     "output_type": "execute_result"
    }
   ],
   "source": [
    "max(rel_errors['var_a ='])"
   ]
  },
  {
   "cell_type": "code",
   "execution_count": null,
   "metadata": {},
   "outputs": [],
   "source": []
  }
 ],
 "metadata": {
  "kernelspec": {
   "display_name": "venv",
   "language": "python",
   "name": "python3"
  },
  "language_info": {
   "codemirror_mode": {
    "name": "ipython",
    "version": 3
   },
   "file_extension": ".py",
   "mimetype": "text/x-python",
   "name": "python",
   "nbconvert_exporter": "python",
   "pygments_lexer": "ipython3",
   "version": "3.8.10"
  },
  "orig_nbformat": 4
 },
 "nbformat": 4,
 "nbformat_minor": 2
}
