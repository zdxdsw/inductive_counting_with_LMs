{
 "cells": [
  {
   "cell_type": "markdown",
   "metadata": {},
   "source": [
    "### Generate Data --- MODE"
   ]
  },
  {
   "cell_type": "code",
   "execution_count": 1,
   "metadata": {},
   "outputs": [],
   "source": [
    "import os, random, json, re\n",
    "import pandas as pd\n",
    "import numpy as np\n",
    "from tqdm import trange, tqdm\n",
    "import numpy as np\n",
    "from collections import Counter\n",
    "TASK = \"mode\""
   ]
  },
  {
   "cell_type": "code",
   "execution_count": 23,
   "metadata": {},
   "outputs": [
    {
     "name": "stderr",
     "output_type": "stream",
     "text": [
      "100%|██████████| 128/128 [00:09<00:00, 13.60it/s]\n"
     ]
    }
   ],
   "source": [
    "# length_extrapolation\n",
    "samples_per_num_digit = 1000\n",
    "data = {}\n",
    "for num_digit in trange(129, 257):\n",
    "    unique_buckets = set()\n",
    "    strings = []\n",
    "    while len(strings) < samples_per_num_digit:\n",
    "        partition = sorted(random.sample(list(range(1, num_digit+10)), 9))\n",
    "        prev = 0\n",
    "        buckets = []\n",
    "        for b in partition:\n",
    "            buckets.append(b-prev-1)\n",
    "            prev = b\n",
    "        buckets.append(num_digit+10-prev-1)\n",
    "        s = \"\".join([str(d)*n for n, d in zip(buckets, list(range(10)))])\n",
    "\n",
    "        try: \n",
    "            most_common1, most_common2 = Counter(s).most_common(2)\n",
    "            if most_common1[1] == most_common2[1]: continue # to ensure mode is unique\n",
    "        except ValueError: continue # to ensure there are at least 2 distinct digits\n",
    "\n",
    "        if \"\".join([str(x) for x in buckets]) not in unique_buckets:\n",
    "            unique_buckets.add(\"\".join([str(x) for x in buckets]))\n",
    "            strings.append(\"\".join(random.sample(s, len(s))))\n",
    "\n",
    "    data[num_digit] = strings\n",
    "#json.dump(data, open(f\"../data/finetune/{TASK}/finetune.json\", \"w\"), indent=2)\n",
    "json.dump(data, open(f\"../data/finetune/{TASK}/finetune_129_256.json\", \"w\"), indent=2)\n",
    "            "
   ]
  },
  {
   "cell_type": "code",
   "execution_count": 27,
   "metadata": {},
   "outputs": [
    {
     "name": "stderr",
     "output_type": "stream",
     "text": [
      "100%|██████████| 59/59 [00:01<00:00, 32.14it/s]\n"
     ]
    }
   ],
   "source": [
    "# uniform, uniform_hard, uniform_hard+\n",
    "samples_per_num_digit = 1000\n",
    "data = {}\n",
    "for num_digit in trange(6, 65):\n",
    "    unique_buckets = set()\n",
    "    strings = []\n",
    "    while len(strings) < samples_per_num_digit:\n",
    "        partition = sorted(random.sample(list(range(1, num_digit+10)), 9))\n",
    "        prev = 0\n",
    "        buckets = []\n",
    "        for b in partition:\n",
    "            buckets.append(b-prev-1)\n",
    "            prev = b\n",
    "        buckets.append(num_digit+10-prev-1)\n",
    "        s = \"\".join([str(d)*n for n, d in zip(buckets, list(range(10)))])\n",
    "\n",
    "        try: \n",
    "            counts = Counter(s).most_common()\n",
    "            if counts[0][1] == counts[1][1]: continue # to ensure mode is unique\n",
    "            if counts[0][1] - counts[2][1] > 10: continue # to ensure the most_common frequency - the third_common frequency <= 10\n",
    "        except IndexError: continue # to ensure there are at least 2 distinct digits\n",
    "\n",
    "        if \"\".join([str(x) for x in buckets]) not in unique_buckets:\n",
    "            unique_buckets.add(\"\".join([str(x) for x in buckets]))\n",
    "            strings.append(\"\".join(random.sample(s, len(s))))\n",
    "\n",
    "    data[num_digit] = strings\n",
    "\n",
    "json.dump(data, open(f\"../data/finetune/{TASK}/finetune_hard_6_64.json\", \"w\"), indent=2)\n",
    "            \n"
   ]
  },
  {
   "cell_type": "code",
   "execution_count": 22,
   "metadata": {},
   "outputs": [
    {
     "name": "stdout",
     "output_type": "stream",
     "text": [
      "samples_per_num_digit = 1000\n"
     ]
    },
    {
     "name": "stderr",
     "output_type": "stream",
     "text": [
      "  0%|          | 0/123 [00:00<?, ?it/s]"
     ]
    },
    {
     "name": "stderr",
     "output_type": "stream",
     "text": [
      "100%|██████████| 123/123 [00:06<00:00, 19.04it/s]\n"
     ]
    },
    {
     "name": "stdout",
     "output_type": "stream",
     "text": [
      "12300 12300\n",
      "Check if answers are uniformly distributed across 0-9\n",
      "[('9', 1270), ('8', 1260), ('7', 1243), ('2', 1233), ('5', 1230), ('6', 1230), ('4', 1225), ('3', 1216), ('1', 1212), ('0', 1181)]\n"
     ]
    }
   ],
   "source": [
    "# Uniform split\n",
    "samples_per_num_digit_train, samples_per_num_digit_val = 100, 100\n",
    "\n",
    "data = json.load(open(f\"../data/finetune/{TASK}/finetune.json\", \"r\"))\n",
    "print(\"samples_per_num_digit = {}\".format(len(data[list(data.keys())[0]])))\n",
    "\n",
    "answers = []\n",
    "\n",
    "train = pd.DataFrame(columns=[\"input_str\", \"answer\"])\n",
    "val = pd.DataFrame(columns=[\"input_str\", \"answer\"])\n",
    "for num_digit in tqdm(data):\n",
    "    for s in data[num_digit][:samples_per_num_digit_train]:\n",
    "        answer = Counter(s).most_common(1)[0][0]\n",
    "        answers.append(answer)\n",
    "        row = {\n",
    "            \"input_str\": [s],\n",
    "            \"answer\": [answer]\n",
    "        }\n",
    "        row = pd.DataFrame(row)\n",
    "        train = pd.concat([train, pd.DataFrame(row)])\n",
    "    for s in data[num_digit][\n",
    "        samples_per_num_digit_train:samples_per_num_digit_train+samples_per_num_digit_val\n",
    "    ]:\n",
    "        row = {\n",
    "            \"input_str\": [s],\n",
    "            \"answer\": [Counter(s).most_common(1)[0][0]]\n",
    "        }\n",
    "        row = pd.DataFrame(row)\n",
    "        val = pd.concat([val, pd.DataFrame(row)])\n",
    "print(len(train), len(val))\n",
    "\n",
    "print(\"Check if answers are uniformly distributed across 0-9\")\n",
    "print(Counter(answers).most_common(10))\n",
    "train.to_csv(f\"../data/finetune/{TASK}/uniform_split/train.csv\", index=False)\n",
    "val.to_csv(f\"../data/finetune/{TASK}/uniform_split/val.csv\", index=False)\n",
    "\n",
    "#val.to_csv(f\"../data/finetune/{TASK}/uniform_large_split/val.csv\", index=False)\n"
   ]
  },
  {
   "cell_type": "code",
   "execution_count": 8,
   "metadata": {},
   "outputs": [
    {
     "name": "stdout",
     "output_type": "stream",
     "text": [
      "samples_per_num_digit = 1000\n"
     ]
    },
    {
     "name": "stderr",
     "output_type": "stream",
     "text": [
      "  0%|          | 0/128 [00:00<?, ?it/s]"
     ]
    },
    {
     "name": "stderr",
     "output_type": "stream",
     "text": [
      "100%|██████████| 128/128 [01:36<00:00,  1.32it/s]\n"
     ]
    },
    {
     "name": "stdout",
     "output_type": "stream",
     "text": [
      "0 115200\n"
     ]
    }
   ],
   "source": [
    "# length_extrapolation split\n",
    "samples_per_num_digit_train, samples_per_num_digit_val = 0, 900\n",
    "\n",
    "data = json.load(open(f\"../data/finetune/{TASK}/finetune_129_256.json\", \"r\"))\n",
    "print(\"samples_per_num_digit = {}\".format(len(data[list(data.keys())[0]])))\n",
    "\n",
    "train = pd.DataFrame(columns=[\"input_str\", \"answer\"])\n",
    "val = pd.DataFrame(columns=[\"input_str\", \"answer\"])\n",
    "for num_digit in tqdm(data):\n",
    "    for s in data[num_digit][:samples_per_num_digit_train]:\n",
    "        row = {\n",
    "            \"input_str\": [s],\n",
    "            \"answer\": [Counter(s).most_common(1)[0][0]]\n",
    "        }\n",
    "        row = pd.DataFrame(row)\n",
    "        train = pd.concat([train, pd.DataFrame(row)])\n",
    "    for s in data[num_digit][\n",
    "        samples_per_num_digit_train:samples_per_num_digit_train+samples_per_num_digit_val\n",
    "    ]:\n",
    "        row = {\n",
    "            \"input_str\": [s],\n",
    "            \"answer\": [Counter(s).most_common(1)[0][0]]\n",
    "        }\n",
    "        row = pd.DataFrame(row)\n",
    "        val = pd.concat([val, pd.DataFrame(row)])\n",
    "print(len(train), len(val))\n",
    "\n",
    "val.to_csv(f\"../data/finetune/{TASK}/length_extrapolation_large/val.csv\", index=False)"
   ]
  },
  {
   "cell_type": "code",
   "execution_count": 4,
   "metadata": {},
   "outputs": [
    {
     "name": "stdout",
     "output_type": "stream",
     "text": [
      "samples_per_num_digit = 1000\n"
     ]
    },
    {
     "name": "stderr",
     "output_type": "stream",
     "text": [
      "  0%|          | 0/123 [00:00<?, ?it/s]"
     ]
    },
    {
     "name": "stderr",
     "output_type": "stream",
     "text": [
      "100%|██████████| 123/123 [00:02<00:00, 43.70it/s]"
     ]
    },
    {
     "name": "stdout",
     "output_type": "stream",
     "text": [
      "5900 5900\n",
      "Check if answers are uniformly distributed across 0-9\n",
      "[('6', 616), ('4', 612), ('9', 609), ('7', 596), ('8', 592), ('5', 590), ('1', 587), ('2', 583), ('0', 565), ('3', 550)]\n"
     ]
    },
    {
     "name": "stderr",
     "output_type": "stream",
     "text": [
      "\n"
     ]
    }
   ],
   "source": [
    "# Uniform hard split\n",
    "samples_per_num_digit_train, samples_per_num_digit_val = 100, 100\n",
    "\n",
    "data = json.load(open(f\"../data/finetune/{TASK}/finetune_hard+.json\", \"r\"))\n",
    "print(\"samples_per_num_digit = {}\".format(len(data[list(data.keys())[0]])))\n",
    "\n",
    "answers = []\n",
    "\n",
    "train = pd.DataFrame(columns=[\"input_str\", \"answer\"])\n",
    "val = pd.DataFrame(columns=[\"input_str\", \"answer\"])\n",
    "for num_digit in tqdm(data):\n",
    "    if int(num_digit) > 64: continue\n",
    "    for s in data[num_digit][:samples_per_num_digit_train]:\n",
    "        answer = Counter(s).most_common(1)[0][0]\n",
    "        answers.append(answer)\n",
    "        row = {\n",
    "            \"input_str\": [s],\n",
    "            \"answer\": [answer]\n",
    "        }\n",
    "        row = pd.DataFrame(row)\n",
    "        train = pd.concat([train, pd.DataFrame(row)])\n",
    "    for s in data[num_digit][\n",
    "        samples_per_num_digit_train:samples_per_num_digit_train+samples_per_num_digit_val\n",
    "    ]:\n",
    "        row = {\n",
    "            \"input_str\": [s],\n",
    "            \"answer\": [Counter(s).most_common(1)[0][0]]\n",
    "        }\n",
    "        row = pd.DataFrame(row)\n",
    "        val = pd.concat([val, pd.DataFrame(row)])\n",
    "print(len(train), len(val))\n",
    "\n",
    "print(\"Check if answers are uniformly distributed across 0-9\")\n",
    "print(Counter(answers).most_common(10))\n",
    "train.to_csv(f\"../data/finetune/{TASK}/uniform_hard+_6_64_split/train.csv\", index=False)\n",
    "val.to_csv(f\"../data/finetune/{TASK}/uniform_hard+_6_64_split/val.csv\", index=False)\n",
    "\n",
    "#val.to_csv(f\"../data/finetune/{TASK}/uniform_large_split/val.csv\", index=False)\n"
   ]
  },
  {
   "cell_type": "code",
   "execution_count": 3,
   "metadata": {},
   "outputs": [
    {
     "name": "stdout",
     "output_type": "stream",
     "text": [
      "samples_per_num_digit = 1000\n"
     ]
    },
    {
     "name": "stderr",
     "output_type": "stream",
     "text": [
      "100%|██████████| 123/123 [00:05<00:00, 22.21it/s]\n"
     ]
    },
    {
     "name": "stdout",
     "output_type": "stream",
     "text": [
      "12300 12300\n",
      "Check if answers are uniformly distributed across 0-9\n",
      "[('1', 1279), ('5', 1259), ('2', 1257), ('7', 1257), ('0', 1250), ('9', 1242), ('8', 1220), ('6', 1215), ('4', 1161), ('3', 1160)]\n"
     ]
    }
   ],
   "source": [
    "# Random labels\n",
    "samples_per_num_digit_train, samples_per_num_digit_val = 100, 100\n",
    "\n",
    "data = json.load(open(f\"../data/finetune/{TASK}/finetune.json\", \"r\"))\n",
    "print(\"samples_per_num_digit = {}\".format(len(data[list(data.keys())[0]])))\n",
    "\n",
    "answers = []\n",
    "\n",
    "train = pd.DataFrame(columns=[\"input_str\", \"answer\"])\n",
    "val = pd.DataFrame(columns=[\"input_str\", \"answer\"])\n",
    "for num_digit in tqdm(data):\n",
    "    for s in data[num_digit][:samples_per_num_digit_train]:\n",
    "        answer = random.choice(\"0123456789\")\n",
    "        answers.append(answer)\n",
    "        row = {\n",
    "            \"input_str\": [s],\n",
    "            \"answer\": [answer]\n",
    "        }\n",
    "        row = pd.DataFrame(row)\n",
    "        train = pd.concat([train, pd.DataFrame(row)])\n",
    "        val = pd.concat([val, pd.DataFrame(row)])\n",
    "print(len(train), len(val))\n",
    "\n",
    "print(\"Check if answers are uniformly distributed across 0-9\")\n",
    "print(Counter(answers).most_common(10))\n",
    "train.to_csv(f\"../data/finetune/{TASK}/random_labels/train.csv\", index=False)\n",
    "val.to_csv(f\"../data/finetune/{TASK}/random_labels/val.csv\", index=False)\n"
   ]
  },
  {
   "cell_type": "markdown",
   "metadata": {},
   "source": [
    "### Draft"
   ]
  },
  {
   "cell_type": "code",
   "execution_count": 2,
   "metadata": {},
   "outputs": [
    {
     "name": "stdout",
     "output_type": "stream",
     "text": [
      "samples_per_num_digit = 1000\n"
     ]
    },
    {
     "name": "stderr",
     "output_type": "stream",
     "text": [
      "100%|██████████| 126/126 [00:06<00:00, 18.37it/s]\n"
     ]
    },
    {
     "name": "stdout",
     "output_type": "stream",
     "text": [
      "12600 12600\n"
     ]
    }
   ],
   "source": [
    "# odd_even_3:1 split\n",
    "samples_per_num_digit_val = 100\n",
    "\n",
    "data = json.load(open(f\"../data/finetune/{TASK}/finetune.json\", \"r\"))\n",
    "print(\"samples_per_num_digit = {}\".format(len(data[list(data.keys())[0]])))\n",
    "\n",
    "train = pd.DataFrame(columns=[\"input_str\", \"answer\"])\n",
    "val = pd.DataFrame(columns=[\"input_str\", \"answer\"])\n",
    "for num_digit in tqdm(data):\n",
    "    if int(num_digit)%2 == 1: samples_per_num_digit_train = 150\n",
    "    else: samples_per_num_digit_train = 50\n",
    "    for s in data[num_digit][:samples_per_num_digit_train]:\n",
    "        s1, s2 = s.split(\" + \")\n",
    "        s1, s2 = int(s1), int(s2)\n",
    "        row = {\n",
    "            \"input_str\": [s],\n",
    "            \"answer\": [str(s1+s2)]\n",
    "        }\n",
    "        row = pd.DataFrame(row)\n",
    "        train = pd.concat([train, pd.DataFrame(row)])\n",
    "    for s in data[num_digit][\n",
    "        samples_per_num_digit_train:samples_per_num_digit_train+samples_per_num_digit_val\n",
    "    ]:\n",
    "        s1, s2 = s.split(\" + \")\n",
    "        s1, s2 = int(s1), int(s2)\n",
    "        row = {\n",
    "            \"input_str\": [s],\n",
    "            \"answer\": [str(s1+s2)]\n",
    "        }\n",
    "        row = pd.DataFrame(row)\n",
    "        val = pd.concat([val, pd.DataFrame(row)])\n",
    "print(len(train), len(val))\n",
    "\n",
    "train.to_csv(f\"../data/finetune/{TASK}/odd_even_3:1_split/train.csv\", index=False)\n",
    "val.to_csv(f\"../data/finetune/{TASK}/odd_even_3:1_split/val.csv\", index=False)\n"
   ]
  },
  {
   "cell_type": "code",
   "execution_count": 3,
   "metadata": {},
   "outputs": [
    {
     "name": "stdout",
     "output_type": "stream",
     "text": [
      "samples_per_num_digit = 1000\n"
     ]
    },
    {
     "name": "stderr",
     "output_type": "stream",
     "text": [
      "100%|██████████| 126/126 [00:06<00:00, 18.19it/s]\n"
     ]
    },
    {
     "name": "stdout",
     "output_type": "stream",
     "text": [
      "12600 12600\n"
     ]
    }
   ],
   "source": [
    "# odd_even_9:1 split\n",
    "samples_per_num_digit_val = 100\n",
    "\n",
    "data = json.load(open(f\"../data/finetune/{TASK}/finetune.json\", \"r\"))\n",
    "print(\"samples_per_num_digit = {}\".format(len(data[list(data.keys())[0]])))\n",
    "\n",
    "train = pd.DataFrame(columns=[\"input_str\", \"answer\"])\n",
    "val = pd.DataFrame(columns=[\"input_str\", \"answer\"])\n",
    "for num_digit in tqdm(data):\n",
    "    if int(num_digit)%2 == 1: samples_per_num_digit_train = 180\n",
    "    else: samples_per_num_digit_train = 20\n",
    "    for s in data[num_digit][:samples_per_num_digit_train]:\n",
    "        s1, s2 = s.split(\" + \")\n",
    "        s1, s2 = int(s1), int(s2)\n",
    "        row = {\n",
    "            \"input_str\": [s],\n",
    "            \"answer\": [str(s1+s2)]\n",
    "        }\n",
    "        row = pd.DataFrame(row)\n",
    "        train = pd.concat([train, pd.DataFrame(row)])\n",
    "    for s in data[num_digit][\n",
    "        samples_per_num_digit_train:samples_per_num_digit_train+samples_per_num_digit_val\n",
    "    ]:\n",
    "        s1, s2 = s.split(\" + \")\n",
    "        s1, s2 = int(s1), int(s2)\n",
    "        row = {\n",
    "            \"input_str\": [s],\n",
    "            \"answer\": [str(s1+s2)]\n",
    "        }\n",
    "        row = pd.DataFrame(row)\n",
    "        val = pd.concat([val, pd.DataFrame(row)])\n",
    "print(len(train), len(val))\n",
    "\n",
    "train.to_csv(f\"../data/finetune/{TASK}/odd_even_9:1_split/train.csv\", index=False)\n",
    "val.to_csv(f\"../data/finetune/{TASK}/odd_even_9:1_split/val.csv\", index=False)\n"
   ]
  },
  {
   "cell_type": "code",
   "execution_count": 4,
   "metadata": {},
   "outputs": [
    {
     "name": "stdout",
     "output_type": "stream",
     "text": [
      "samples_per_num_digit = 1000\n"
     ]
    },
    {
     "name": "stderr",
     "output_type": "stream",
     "text": [
      "100%|██████████| 126/126 [00:05<00:00, 25.01it/s]"
     ]
    },
    {
     "name": "stdout",
     "output_type": "stream",
     "text": [
      "6300 12600\n"
     ]
    },
    {
     "name": "stderr",
     "output_type": "stream",
     "text": [
      "\n"
     ]
    }
   ],
   "source": [
    "# odd_only split\n",
    "samples_per_num_digit_val = 100\n",
    "\n",
    "data = json.load(open(f\"../data/finetune/{TASK}/finetune.json\", \"r\"))\n",
    "print(\"samples_per_num_digit = {}\".format(len(data[list(data.keys())[0]])))\n",
    "\n",
    "train = pd.DataFrame(columns=[\"input_str\", \"answer\"])\n",
    "val = pd.DataFrame(columns=[\"input_str\", \"answer\"])\n",
    "for num_digit in tqdm(data):\n",
    "    if int(num_digit)%2 == 1: samples_per_num_digit_train = 100\n",
    "    else: samples_per_num_digit_train = 0\n",
    "    for s in data[num_digit][:samples_per_num_digit_train]:\n",
    "        s1, s2 = s.split(\" + \")\n",
    "        s1, s2 = int(s1), int(s2)\n",
    "        row = {\n",
    "            \"input_str\": [s],\n",
    "            \"answer\": [str(s1+s2)]\n",
    "        }\n",
    "        row = pd.DataFrame(row)\n",
    "        train = pd.concat([train, pd.DataFrame(row)])\n",
    "    for s in data[num_digit][\n",
    "        samples_per_num_digit_train:samples_per_num_digit_train+samples_per_num_digit_val\n",
    "    ]:\n",
    "        s1, s2 = s.split(\" + \")\n",
    "        s1, s2 = int(s1), int(s2)\n",
    "        row = {\n",
    "            \"input_str\": [s],\n",
    "            \"answer\": [str(s1+s2)]\n",
    "        }\n",
    "        row = pd.DataFrame(row)\n",
    "        val = pd.concat([val, pd.DataFrame(row)])\n",
    "print(len(train), len(val))\n",
    "\n",
    "train.to_csv(f\"../data/finetune/{TASK}/odd_only_split/train.csv\", index=False)\n",
    "val.to_csv(f\"../data/finetune/{TASK}/odd_only_split/val.csv\", index=False)\n"
   ]
  },
  {
   "cell_type": "markdown",
   "metadata": {},
   "source": [
    "### Compute ACC"
   ]
  },
  {
   "cell_type": "code",
   "execution_count": 1,
   "metadata": {},
   "outputs": [],
   "source": [
    "from collections import Counter\n",
    "import json, re, math, sys\n",
    "from pprint import pprint\n",
    "import numpy as np\n",
    "import pandas as pd\n",
    "from tqdm import tqdm\n",
    "from matplotlib import pyplot as plt\n",
    "sys.path.append(\"../scripts/\")\n",
    "from helper import *"
   ]
  },
  {
   "cell_type": "code",
   "execution_count": 2,
   "metadata": {},
   "outputs": [
    {
     "name": "stdout",
     "output_type": "stream",
     "text": [
      "{'data_dir': '../../data/finetune/mode/length_extrapolation',\n",
      " 'load_from_ckpt': 'checkpoint-6921'}\n",
      "testing acc = 0.983984375\n"
     ]
    }
   ],
   "source": [
    "exp_handle = \"1208_130832\"\n",
    "infr_handle = \"0326_121127\"\n",
    "split = \"test\"\n",
    "with open(f\"../scripts/llama/output/{exp_handle}/{split}_samples/{infr_handle}.txt\", \"r\") as f:\n",
    "    lines = f.readlines()\n",
    "    filename = json.loads(lines[0])['data_dir']\n",
    "\n",
    "header, lines = json.loads(lines[0]), lines[1:]\n",
    "pprint(header)\n",
    "\n",
    "df = pd.read_csv(f\"{filename[3:]}/val.csv\")\n",
    "\n",
    "em = 0\n",
    "errors = []\n",
    "histogram_wrt_length = Counter()\n",
    "all_preds = []\n",
    "for l, input_str in zip(lines, df['input_str'].to_list()):\n",
    "    _gth, _pred = json.loads(l)[:2]\n",
    "    gth = int(_gth.split(\".\")[0])\n",
    "    pred = -1\n",
    "    find = re.findall(r'(\\d+)', _pred)\n",
    "    if find: pred = int(find[0])\n",
    "    all_preds.append(pred)\n",
    "    cor = int(gth == pred)\n",
    "    #if set(str(gth)) == set(str(pred)): cor = 1\n",
    "    em += cor\n",
    "    if cor == 0: \n",
    "        errors.append((gth, pred))\n",
    "        histogram_wrt_length[len(input_str)] += 1\n",
    "print(f\"testing acc = {em / len(lines)}\") "
   ]
  },
  {
   "cell_type": "code",
   "execution_count": 3,
   "metadata": {},
   "outputs": [
    {
     "data": {
      "image/png": "[encoded data removed]",
      "text/plain": [
       "<Figure size 640x480 with 1 Axes>"
      ]
     },
     "metadata": {},
     "output_type": "display_data"
    }
   ],
   "source": [
    "plt.figure()\n",
    "\n",
    "plt.plot(list(histogram_wrt_length.keys()), list(histogram_wrt_length.values()), \".\")\n",
    "plt.xlabel(\"input length\")\n",
    "plt.ylabel(\"num_errors\")\n",
    "plt.title(\"num_errors per input length\")\n",
    "plt.show()"
   ]
  },
  {
   "cell_type": "code",
   "execution_count": 4,
   "metadata": {},
   "outputs": [
    {
     "name": "stdout",
     "output_type": "stream",
     "text": [
      "5 0.02\n"
     ]
    }
   ],
   "source": [
    "count = 0\n",
    "for e in errors:\n",
    "    if set(str(e[0])) == set(str(e[1])): count += 1\n",
    "    #else: print(e)\n",
    "print(count, round(count/len(errors), 2))"
   ]
  },
  {
   "cell_type": "markdown",
   "metadata": {},
   "source": [
    "### Analysis"
   ]
  },
  {
   "cell_type": "code",
   "execution_count": 3,
   "metadata": {},
   "outputs": [
    {
     "data": {
      "text/html": [
       "<div>\n",
       "<style scoped>\n",
       "    .dataframe tbody tr th:only-of-type {\n",
       "        vertical-align: middle;\n",
       "    }\n",
       "\n",
       "    .dataframe tbody tr th {\n",
       "        vertical-align: top;\n",
       "    }\n",
       "\n",
       "    .dataframe thead th {\n",
       "        text-align: right;\n",
       "    }\n",
       "</style>\n",
       "<table border=\"1\" class=\"dataframe\">\n",
       "  <thead>\n",
       "    <tr style=\"text-align: right;\">\n",
       "      <th></th>\n",
       "      <th>input_str</th>\n",
       "      <th>answer</th>\n",
       "    </tr>\n",
       "  </thead>\n",
       "  <tbody>\n",
       "    <tr>\n",
       "      <th>0</th>\n",
       "      <td>844887</td>\n",
       "      <td>8</td>\n",
       "    </tr>\n",
       "    <tr>\n",
       "      <th>1</th>\n",
       "      <td>741747</td>\n",
       "      <td>7</td>\n",
       "    </tr>\n",
       "    <tr>\n",
       "      <th>2</th>\n",
       "      <td>391444</td>\n",
       "      <td>4</td>\n",
       "    </tr>\n",
       "    <tr>\n",
       "      <th>3</th>\n",
       "      <td>047188</td>\n",
       "      <td>8</td>\n",
       "    </tr>\n",
       "    <tr>\n",
       "      <th>4</th>\n",
       "      <td>662931</td>\n",
       "      <td>6</td>\n",
       "    </tr>\n",
       "  </tbody>\n",
       "</table>\n",
       "</div>"
      ],
      "text/plain": [
       "  input_str  answer\n",
       "0    844887       8\n",
       "1    741747       7\n",
       "2    391444       4\n",
       "3    047188       8\n",
       "4    662931       6"
      ]
     },
     "execution_count": 3,
     "metadata": {},
     "output_type": "execute_result"
    }
   ],
   "source": [
    "train_df = pd.read_csv(\"../data/finetune/mode/uniform_hard_split/train.csv\")\n",
    "train_df.head()"
   ]
  },
  {
   "cell_type": "code",
   "execution_count": 5,
   "metadata": {},
   "outputs": [
    {
     "name": "stdout",
     "output_type": "stream",
     "text": [
      "12300\n",
      "largest bucket_size in training: 40\n"
     ]
    }
   ],
   "source": [
    "unique_tr_buckets = []\n",
    "largest_bucket_size = 0\n",
    "for s in train_df['input_str']:\n",
    "    buckets = [s.count(d) for d in \"0123456789\"]\n",
    "    largest_bucket_size = max(largest_bucket_size, max(buckets))\n",
    "    unique_tr_buckets.append(\"|\".join([str(x) for x in buckets]))\n",
    "print(len(set(unique_tr_buckets)))\n",
    "print(f\"largest bucket_size in training: {largest_bucket_size}\")"
   ]
  },
  {
   "cell_type": "code",
   "execution_count": 4,
   "metadata": {},
   "outputs": [
    {
     "name": "stdout",
     "output_type": "stream",
     "text": [
      "12300\n",
      "largest bucket_size in validation: 40\n"
     ]
    }
   ],
   "source": [
    "valid_df = pd.read_csv(\"../data/finetune/mode/uniform_hard_split/val.csv\")\n",
    "unique_va_buckets = []\n",
    "largest_bucket_size = 0\n",
    "for s in valid_df['input_str']:\n",
    "    buckets = [s.count(d) for d in \"0123456789\"]\n",
    "    largest_bucket_size = max(largest_bucket_size, max(buckets))\n",
    "    unique_va_buckets.append(\"|\".join([str(x) for x in buckets]))\n",
    "print(len(set(unique_va_buckets)))\n",
    "print(f\"largest bucket_size in validation: {largest_bucket_size}\")"
   ]
  },
  {
   "cell_type": "code",
   "execution_count": 24,
   "metadata": {},
   "outputs": [
    {
     "name": "stdout",
     "output_type": "stream",
     "text": [
      "12800\n",
      "largest bucket_size in testing: 176\n"
     ]
    }
   ],
   "source": [
    "test_df = pd.read_csv(\"../data/finetune/mode/length_extrapolation/val.csv\")\n",
    "unique_te_buckets = []\n",
    "largest_bucket_size = 0\n",
    "for s in test_df['input_str']:\n",
    "    buckets = [s.count(d) for d in \"0123456789\"]\n",
    "    largest_bucket_size = max(largest_bucket_size, max(buckets))\n",
    "    unique_te_buckets.append(\"|\".join([str(x) for x in buckets]))\n",
    "print(len(set(unique_te_buckets)))\n",
    "print(f\"largest bucket_size in testing: {largest_bucket_size}\")"
   ]
  },
  {
   "cell_type": "code",
   "execution_count": 6,
   "metadata": {},
   "outputs": [
    {
     "name": "stdout",
     "output_type": "stream",
     "text": [
      "187\n"
     ]
    }
   ],
   "source": [
    "with open(\"../scripts/llama/output/1207_165938/eval_samples/1207_174824.txt\", \"r\") as f:\n",
    "    lines = f.readlines()\n",
    "all_preds = []\n",
    "analysis = pd.DataFrame(columns = [\"input_str\", \"answer\", \"pred\", \"second_common\", \"gap\", \"largest_counter_state\"])\n",
    "for l, s in zip(lines, valid_df['input_str']):\n",
    "    gth, pred = json.loads(l)\n",
    "    gth_mode = int(gth.split(\".\")[0])\n",
    "    pred_mode = -1\n",
    "    find = re.findall(r'(\\d+)', pred)\n",
    "    if find: pred_mode = int(find[0])\n",
    "    all_preds.append(pred_mode)\n",
    "\n",
    "    if not pred_mode == gth_mode:\n",
    "        most_common1, most_common2 = Counter(s).most_common(2)\n",
    "        row = {\n",
    "            \"input_str\": [s],\n",
    "            \"answer\": [gth_mode],\n",
    "            \"pred\": [pred_mode],\n",
    "            \"second_common\": [most_common2[0]],\n",
    "            \"gap\": [most_common1[1] - most_common2[1]],\n",
    "            \"largest_counter_state\": max([s.count(d) for d in \"0123456789\"])\n",
    "        }\n",
    "        analysis = pd.concat([analysis, pd.DataFrame(row)])\n",
    "print(len(analysis))"
   ]
  },
  {
   "cell_type": "code",
   "execution_count": 7,
   "metadata": {},
   "outputs": [
    {
     "data": {
      "text/plain": [
       "[(1, 169), (2, 18)]"
      ]
     },
     "execution_count": 7,
     "metadata": {},
     "output_type": "execute_result"
    }
   ],
   "source": [
    "Counter(analysis['gap']).most_common(5)"
   ]
  },
  {
   "cell_type": "code",
   "execution_count": 9,
   "metadata": {},
   "outputs": [],
   "source": [
    "analysis.to_csv(\"../scripts/llama/output/1207_165938/analysis/eval_100samples_failures_1207_174824.csv\", index=False)"
   ]
  },
  {
   "cell_type": "code",
   "execution_count": 37,
   "metadata": {},
   "outputs": [
    {
     "name": "stdout",
     "output_type": "stream",
     "text": [
      "937\n"
     ]
    }
   ],
   "source": [
    "exp_handle = \"1208_130832\"\n",
    "infr_handle = \"0325_163743\"\n",
    "split = \"test\"\n",
    "test_df = pd.read_csv(\"../data/finetune/mode/length_extrapolation_large/val.csv\")\n",
    "with open(f\"../scripts/llama/output/{exp_handle}/{split}_samples/{infr_handle}.txt\", \"r\") as f:\n",
    "    lines = f.readlines()[1:]\n",
    "all_preds = []\n",
    "errors = []\n",
    "analysis = pd.DataFrame(columns = [\"group\", \"input_str\", \"answer\", \"pred\", \"frequency_gap\", \"frequency_in_order\", \"all_gaps\"])\n",
    "for l, s in zip(lines, test_df['input_str']):\n",
    "    gth, pred = json.loads(l)[:2]\n",
    "    gth_mode = int(gth.split(\".\")[0])\n",
    "    pred_mode = -1\n",
    "    find = re.findall(r'(\\d+)', pred)\n",
    "    if find: pred_mode = int(find[0])\n",
    "    all_preds.append(pred_mode)\n",
    "\n",
    "    if not pred_mode == gth_mode:\n",
    "        if set(str(gth_mode)) == set(str(pred_mode)): group = \"missing_fullstop\" \n",
    "        else: group = \"ordinary\"\n",
    "        counts = Counter(s).most_common()\n",
    "        row = {\n",
    "            \"group\": group,\n",
    "            \"input_str\": [s],\n",
    "            \"answer\": [gth_mode],\n",
    "            \"pred\": [pred_mode],\n",
    "            \"frequency_gap\": counts[0][1] - s.count(str(pred_mode)),\n",
    "            \"frequency_in_order\": [\"\".join([x[0] for x in counts])],\n",
    "            \"all_gaps\": [\"|\".join([str(counts[i][1] - counts[i+1][1]) for i in range(len(counts)-1)])],\n",
    "        }\n",
    "        analysis = pd.concat([analysis, pd.DataFrame(row)])\n",
    "analysis = analysis.sort_values(by=['group'])\n",
    "print(len(analysis))"
   ]
  },
  {
   "cell_type": "code",
   "execution_count": 34,
   "metadata": {},
   "outputs": [
    {
     "data": {
      "text/plain": [
       "[(1, 1433),\n",
       " (2, 626),\n",
       " (3, 329),\n",
       " (4, 127),\n",
       " (5, 52),\n",
       " (6, 27),\n",
       " (7, 12),\n",
       " (8, 8),\n",
       " (9, 5),\n",
       " (10, 1),\n",
       " (11, 1)]"
      ]
     },
     "execution_count": 34,
     "metadata": {},
     "output_type": "execute_result"
    }
   ],
   "source": [
    "Counter(analysis['frequency_gap']).most_common(15)"
   ]
  },
  {
   "cell_type": "code",
   "execution_count": 35,
   "metadata": {},
   "outputs": [
    {
     "data": {
      "text/html": [
       "<div>\n",
       "<style scoped>\n",
       "    .dataframe tbody tr th:only-of-type {\n",
       "        vertical-align: middle;\n",
       "    }\n",
       "\n",
       "    .dataframe tbody tr th {\n",
       "        vertical-align: top;\n",
       "    }\n",
       "\n",
       "    .dataframe thead th {\n",
       "        text-align: right;\n",
       "    }\n",
       "</style>\n",
       "<table border=\"1\" class=\"dataframe\">\n",
       "  <thead>\n",
       "    <tr style=\"text-align: right;\">\n",
       "      <th></th>\n",
       "      <th>group</th>\n",
       "      <th>input_str</th>\n",
       "      <th>answer</th>\n",
       "      <th>pred</th>\n",
       "      <th>frequency_gap</th>\n",
       "      <th>frequency_in_order</th>\n",
       "      <th>all_gaps</th>\n",
       "    </tr>\n",
       "  </thead>\n",
       "  <tbody>\n",
       "    <tr>\n",
       "      <th>0</th>\n",
       "      <td>ordinary</td>\n",
       "      <td>0715814005505740854437181900847158700497518057...</td>\n",
       "      <td>5</td>\n",
       "      <td>0</td>\n",
       "      <td>1</td>\n",
       "      <td>5087419362</td>\n",
       "      <td>1|0|4|0|7|2|6|1|1</td>\n",
       "    </tr>\n",
       "    <tr>\n",
       "      <th>0</th>\n",
       "      <td>ordinary</td>\n",
       "      <td>6877471801110108607218998870008116007281784914...</td>\n",
       "      <td>8</td>\n",
       "      <td>0</td>\n",
       "      <td>2</td>\n",
       "      <td>801947265</td>\n",
       "      <td>2|22|15|2|1|6|5|5</td>\n",
       "    </tr>\n",
       "    <tr>\n",
       "      <th>0</th>\n",
       "      <td>ordinary</td>\n",
       "      <td>0244033548883830055404594954844454355043508005...</td>\n",
       "      <td>4</td>\n",
       "      <td>0</td>\n",
       "      <td>2</td>\n",
       "      <td>4058329671</td>\n",
       "      <td>2|5|2|14|4|5|8|2|2</td>\n",
       "    </tr>\n",
       "  </tbody>\n",
       "</table>\n",
       "</div>"
      ],
      "text/plain": [
       "      group                                          input_str answer pred  \\\n",
       "0  ordinary  0715814005505740854437181900847158700497518057...      5    0   \n",
       "0  ordinary  6877471801110108607218998870008116007281784914...      8    0   \n",
       "0  ordinary  0244033548883830055404594954844454355043508005...      4    0   \n",
       "\n",
       "  frequency_gap frequency_in_order            all_gaps  \n",
       "0             1         5087419362   1|0|4|0|7|2|6|1|1  \n",
       "0             2          801947265   2|22|15|2|1|6|5|5  \n",
       "0             2         4058329671  2|5|2|14|4|5|8|2|2  "
      ]
     },
     "execution_count": 35,
     "metadata": {},
     "output_type": "execute_result"
    }
   ],
   "source": [
    "analysis.head(3)"
   ]
  },
  {
   "cell_type": "code",
   "execution_count": 30,
   "metadata": {},
   "outputs": [],
   "source": [
    "analysis.to_csv(\n",
    "    f\"../scripts/llama/output/{exp_handle}/analysis/{split}_samples_failures_{infr_handle}.csv\", \n",
    "    index=False)"
   ]
  },
  {
   "cell_type": "code",
   "execution_count": null,
   "metadata": {},
   "outputs": [],
   "source": []
  }
 ],
 "metadata": {
  "kernelspec": {
   "display_name": "llms_do_math",
   "language": "python",
   "name": "llms_do_math"
  },
  "language_info": {
   "codemirror_mode": {
    "name": "ipython",
    "version": 3
   },
   "file_extension": ".py",
   "mimetype": "text/x-python",
   "name": "python",
   "nbconvert_exporter": "python",
   "pygments_lexer": "ipython3",
   "version": "3.8.10"
  }
 },
 "nbformat": 4,
 "nbformat_minor": 2
}
