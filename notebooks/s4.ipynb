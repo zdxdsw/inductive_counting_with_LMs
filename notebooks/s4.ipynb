{
 "cells": [
  {
   "cell_type": "code",
   "execution_count": 1,
   "metadata": {},
   "outputs": [
    {
     "name": "stderr",
     "output_type": "stream",
     "text": [
      "/home/yingshac/workspace/llms_do_math/venv/lib/python3.8/site-packages/tqdm/auto.py:21: TqdmWarning: IProgress not found. Please update jupyter and ipywidgets. See https://ipywidgets.readthedocs.io/en/stable/user_install.html\n",
      "  from .autonotebook import tqdm as notebook_tqdm\n"
     ]
    }
   ],
   "source": [
    "import os, sys, json, random, pytz\n",
    "os.chdir(\"../scripts/s4\")\n",
    "\n",
    "import torch\n",
    "import torch.nn as nn\n",
    "import torch.optim as optim\n",
    "import torch.backends.cudnn as cudnn\n",
    "from tqdm.auto import tqdm, trange"
   ]
  },
  {
   "cell_type": "code",
   "execution_count": 2,
   "metadata": {},
   "outputs": [
    {
     "name": "stderr",
     "output_type": "stream",
     "text": [
      "/home/yingshac/workspace/llms_do_math/scripts/s4/model.py:41: UserWarning: CUDA extension for structured kernels (Cauchy and Vandermonde multiplication) not found. Install by going to extensions/kernels/ and running `python setup.py install`, for improved speed and memory efficiency. Note that the kernel changed for state-spaces 4.0 and must be recompiled.\n",
      "  warnings.warn(\n",
      "/home/yingshac/workspace/llms_do_math/scripts/s4/model.py:139: UserWarning: Falling back on slow Cauchy and Vandermonde kernel. Install at least one of pykeops or the CUDA extension for better speed and memory efficiency.\n",
      "  warnings.warn(\n"
     ]
    }
   ],
   "source": [
    "from model import S4Model, LSTMModel  # Can use full version instead of minimal S4D standalone below\n",
    "from config import *\n",
    "sys.path.append(\"../\")\n",
    "from causal_transformer.config_taskspecific import *\n",
    "from causal_transformer.utils import trim_task\n",
    "from causal_transformer.dataset import sequences_collator\n",
    "from functools import partial\n",
    "from torch.utils.data import DataLoader\n",
    "from datasets import load_dataset, concatenate_datasets"
   ]
  },
  {
   "cell_type": "code",
   "execution_count": 3,
   "metadata": {},
   "outputs": [],
   "source": [
    "device = 'cuda'\n",
    "task = \"counting_samesymbol_plain3_addbigram_nullseq\"\n",
    "config = eval(f\"{task}_Config()\")"
   ]
  },
  {
   "cell_type": "code",
   "execution_count": 4,
   "metadata": {},
   "outputs": [
    {
     "name": "stderr",
     "output_type": "stream",
     "text": [
      "/home/yingshac/workspace/llms_do_math/venv/lib/python3.8/site-packages/torch/nn/modules/rnn.py:83: UserWarning: dropout option adds dropout after all but last recurrent layer, so non-zero dropout expects num_layers greater than 1, but got dropout=0.1 and num_layers=1\n",
      "  warnings.warn(\"dropout option adds dropout after all but last \"\n"
     ]
    }
   ],
   "source": [
    "model = eval(f\"{config.model}Model\")(config)\n",
    "model = model.to(device)\n",
    "if device == 'cuda': cudnn.benchmark = True"
   ]
  },
  {
   "cell_type": "code",
   "execution_count": 7,
   "metadata": {},
   "outputs": [
    {
     "data": {
      "text/plain": [
       "<All keys matched successfully>"
      ]
     },
     "execution_count": 7,
     "metadata": {},
     "output_type": "execute_result"
    }
   ],
   "source": [
    "model.load_state_dict(torch.load(\"/data/yingshac/llms_do_math/scripts/s4/output/0506_152821/ckpts/3_25000_LSTM.pt\"\n",
    "    , map_location=device), strict=True)"
   ]
  },
  {
   "cell_type": "code",
   "execution_count": 8,
   "metadata": {},
   "outputs": [
    {
     "data": {
      "text/plain": [
       "Parameter containing:\n",
       "tensor([[-1.2166e-03,  4.7733e-04,  1.0582e-03,  ...,  3.2001e-04,\n",
       "         -1.0826e-03, -1.2724e-03],\n",
       "        [ 3.5081e-01, -3.0018e-02,  7.6148e-01,  ...,  1.0225e+00,\n",
       "          8.0272e-01,  4.3185e-01],\n",
       "        [-2.1265e-03, -6.3462e-04,  3.1366e-03,  ...,  1.8967e-03,\n",
       "          1.7241e-03, -2.5580e-04],\n",
       "        ...,\n",
       "        [-9.2113e-04,  4.9682e-04,  1.3838e-03,  ...,  1.0064e-03,\n",
       "          8.7424e-04,  1.6728e-03],\n",
       "        [ 7.2630e-05,  1.6659e-03,  2.2529e-03,  ...,  9.2221e-04,\n",
       "         -2.3593e-03, -2.6002e-03],\n",
       "        [ 7.2826e-03, -9.4100e-03, -1.0196e-02,  ..., -1.7992e-02,\n",
       "          1.7425e-02,  1.8791e-03]], device='cuda:0', requires_grad=True)"
      ]
     },
     "execution_count": 8,
     "metadata": {},
     "output_type": "execute_result"
    }
   ],
   "source": [
    "model.encoder.weight_train"
   ]
  },
  {
   "cell_type": "code",
   "execution_count": 9,
   "metadata": {},
   "outputs": [
    {
     "data": {
      "text/plain": [
       "Parameter containing:\n",
       "tensor([[0., 0., 0., 0., 0., 0., 0., 0., 0., 0., 0., 0., 0., 0., 0., 0., 0., 0., 0., 0., 0., 0., 0., 0.,\n",
       "         0., 0., 0., 0., 0., 0., 0., 0., 0., 0., 0., 0., 0., 0., 0., 0., 0., 0., 0., 0., 0., 0., 0., 0.,\n",
       "         0., 0., 0., 0., 0., 0., 0., 0., 0., 0., 0., 0., 0., 0., 0., 0., 0., 0., 0., 0., 0., 0., 0., 0.,\n",
       "         0., 0., 0., 0., 0., 0., 0., 0., 0., 0., 0., 0., 0., 0., 0., 0., 0., 0., 0., 0., 0., 0., 0., 0.,\n",
       "         0., 0., 0., 0., 0., 0., 0., 0., 0., 0., 0., 0., 0., 0., 0., 0., 0., 0., 0., 0., 0., 0., 0., 0.,\n",
       "         0., 0., 0., 0., 0., 0., 0., 0.]], device='cuda:0')"
      ]
     },
     "execution_count": 9,
     "metadata": {},
     "output_type": "execute_result"
    }
   ],
   "source": [
    "model.encoder.weight_freeze"
   ]
  },
  {
   "cell_type": "code",
   "execution_count": 6,
   "metadata": {},
   "outputs": [],
   "source": [
    "tasks = [trim_task(task)] + config.aux_tasks\n",
    "\n",
    "train_data = concatenate_datasets(\n",
    "                    [load_dataset(\n",
    "                            \"text\", \n",
    "                            data_files={\"train\": f\"{config.train_data_path}/{task}/train.txt\"}\n",
    "                            )['train'] for task in tasks]\n",
    "                )\n",
    "val_data = load_dataset(\n",
    "                    \"text\", \n",
    "                    data_files={\"validation\": f\"{config.eval_data_path}/{trim_task(task)}/val.txt\"}\n",
    "                    )['validation']\n",
    "\n",
    "# args.max_seen_len = max([len([x for x in json.loads(l['text'])[0] if x != \"<pad>\"]) for l in val_data])\n",
    "# Print(f\"max_seen_len for {args.task} = {args.max_seen_len}\")\n",
    "\n",
    "collator = partial(sequences_collator, \n",
    "                    w2i={w:i for i,w in enumerate(config.vocab)}, \n",
    "                    max_seq_len=config.max_seq_len,\n",
    "                    max_position_embeddings=config.max_seq_len,\n",
    "                    augmentation=None,\n",
    "                )\n",
    "\n",
    "train_dataloader = DataLoader(train_data, shuffle=True, batch_size=config.per_device_train_batch_size, collate_fn=collator)\n",
    "val_dataloader = DataLoader(val_data, shuffle=False, batch_size=config.per_device_eval_batch_size, collate_fn=collator)"
   ]
  },
  {
   "cell_type": "code",
   "execution_count": 7,
   "metadata": {},
   "outputs": [],
   "source": [
    "def setup_optimizer(model, lr, weight_decay, epochs):\n",
    "    \"\"\"\n",
    "    S4 requires a specific optimizer setup.\n",
    "\n",
    "    The S4 layer (A, B, C, dt) parameters typically\n",
    "    require a smaller learning rate (typically 0.001), with no weight decay.\n",
    "\n",
    "    The rest of the model can be trained with a higher learning rate (e.g. 0.004, 0.01)\n",
    "    and weight decay (if desired).\n",
    "    \"\"\"\n",
    "\n",
    "    # All parameters in the model\n",
    "    all_parameters = list(model.parameters())\n",
    "\n",
    "    # General parameters don't contain the special _optim key\n",
    "    params = [p for p in all_parameters if not hasattr(p, \"_optim\")]\n",
    "\n",
    "    # Create an optimizer with the general parameters\n",
    "    optimizer = optim.AdamW(params, lr=lr, weight_decay=weight_decay)\n",
    "\n",
    "    # Add parameters with special hyperparameters\n",
    "    hps = [getattr(p, \"_optim\") for p in all_parameters if hasattr(p, \"_optim\")]\n",
    "    hps = [\n",
    "        dict(s) for s in sorted(list(dict.fromkeys(frozenset(hp.items()) for hp in hps)))\n",
    "    ]  # Unique dicts\n",
    "    for hp in hps:\n",
    "        params = [p for p in all_parameters if getattr(p, \"_optim\", None) == hp]\n",
    "        optimizer.add_param_group(\n",
    "            {\"params\": params, **hp}\n",
    "        )\n",
    "\n",
    "    # Create a lr scheduler\n",
    "    # scheduler = torch.optim.lr_scheduler.ReduceLROnPlateau(optimizer, patience=patience, factor=0.2)\n",
    "    scheduler = torch.optim.lr_scheduler.CosineAnnealingLR(optimizer, epochs)\n",
    "\n",
    "    # Print optimizer info\n",
    "    keys = sorted(set([k for hp in hps for k in hp.keys()]))\n",
    "    for i, g in enumerate(optimizer.param_groups):\n",
    "        group_hps = {k: g.get(k, None) for k in keys}\n",
    "        print(' | '.join([\n",
    "            f\"Optimizer group {i}\",\n",
    "            f\"{len(g['params'])} tensors\",\n",
    "        ] + [f\"{k} {v}\" for k, v in group_hps.items()]))\n",
    "\n",
    "    return optimizer, scheduler\n"
   ]
  },
  {
   "cell_type": "code",
   "execution_count": 8,
   "metadata": {},
   "outputs": [
    {
     "name": "stdout",
     "output_type": "stream",
     "text": [
      "Optimizer group 0 | 22 tensors | lr 0.01 | weight_decay 0.01\n",
      "Optimizer group 1 | 4 tensors | lr 0.001 | weight_decay 0.01\n",
      "Optimizer group 2 | 20 tensors | lr 0.001 | weight_decay 0.0\n"
     ]
    }
   ],
   "source": [
    "criterion = nn.CrossEntropyLoss(ignore_index=-1)\n",
    "optimizer, scheduler = setup_optimizer(\n",
    "    model, lr=config.learning_rate, weight_decay=config.weight_decay, epochs=config.num_epochs\n",
    ")"
   ]
  },
  {
   "cell_type": "code",
   "execution_count": 10,
   "metadata": {},
   "outputs": [],
   "source": [
    "best_acc = 0  # best test accuracy\n",
    "start_epoch = 0  # start from epoch 0 or last checkpoint epoch\n",
    "def train():\n",
    "    model.train()\n",
    "    train_loss = 0\n",
    "    correct = 0\n",
    "    total = 0\n",
    "    pbar = tqdm(enumerate(train_dataloader), total=len(train_dataloader))\n",
    "    for batch_idx, batch in pbar:\n",
    "        inputs, targets = batch['input_id'], batch['label']\n",
    "        inputs, targets = inputs.to(device), targets.to(device).view(-1)\n",
    "        optimizer.zero_grad()\n",
    "        logits = model(inputs) # B, seq_len, vocab_size\n",
    "        logits = logits.view(-1, logits.size(-1))\n",
    "        loss = criterion(\n",
    "            logits, # bs*seq_len, vocab_size\n",
    "            targets,\n",
    "        )\n",
    "        loss.backward()\n",
    "        optimizer.step()\n",
    "\n",
    "        train_loss += loss.item()\n",
    "        _, predicted = logits.max(1)\n",
    "        total += targets.size(0)\n",
    "        correct += predicted.eq(targets).sum().item()\n",
    "\n",
    "        pbar.set_description(\n",
    "            'Batch Idx: (%d/%d) | Loss: %.3f | Acc: %.3f%% (%d/%d)' %\n",
    "            (batch_idx, len(train_dataloader), train_loss/(batch_idx+1), 100.*correct/total, correct, total)\n",
    "        )\n",
    "\n",
    "def eval(epoch, dataloader, checkpoint=False):\n",
    "    global best_acc\n",
    "    model.eval()\n",
    "    eval_loss = 0\n",
    "    correct = 0\n",
    "    total = 0\n",
    "    with torch.no_grad():\n",
    "        pbar = tqdm(enumerate(dataloader), total=len(dataloader))\n",
    "        for batch_idx, batch in pbar:\n",
    "            inputs, targets = batch['input_id'], batch['label']\n",
    "            inputs, targets = inputs.to(device), targets.to(device).view(-1)\n",
    "            logits = model(inputs) # B, seq_len, vocab_size\n",
    "            logits = logits.view(-1, logits.size(-1))\n",
    "            loss = criterion(\n",
    "                logits, # bs*seq_len, vocab_size\n",
    "                targets,\n",
    "            )\n",
    "\n",
    "            eval_loss += loss.item()\n",
    "            _, predicted = logits.max(1)\n",
    "            total += targets.size(0)\n",
    "            correct += predicted.eq(targets).sum().item()\n",
    "\n",
    "            pbar.set_description(\n",
    "                'Batch Idx: (%d/%d) | Loss: %.3f | Acc: %.3f%% (%d/%d)' %\n",
    "                (batch_idx, len(dataloader), eval_loss/(batch_idx+1), 100.*correct/total, correct, total)\n",
    "            )\n",
    "\n",
    "    # Save checkpoint.\n",
    "    if checkpoint:\n",
    "        acc = 100.*correct/total\n",
    "        if acc > best_acc:\n",
    "            state = {\n",
    "                'model': model.state_dict(),\n",
    "                'acc': acc,\n",
    "                'epoch': epoch,\n",
    "            }\n",
    "            if not os.path.isdir('checkpoint'):\n",
    "                os.mkdir('checkpoint')\n",
    "            torch.save(state, './checkpoint/ckpt.pth')\n",
    "            best_acc = acc\n",
    "\n",
    "        return acc\n"
   ]
  },
  {
   "cell_type": "code",
   "execution_count": null,
   "metadata": {},
   "outputs": [],
   "source": [
    "#pbar = tqdm(range(start_epoch, config.num_epochs))\n",
    "for epoch in start_epoch, config.num_epochs:\n",
    "    print(f\"start epoch {epoch}\")\n",
    "    # if epoch == 0:\n",
    "    #     pbar.set_description('Epoch: %d' % (epoch))\n",
    "    # else:\n",
    "    #     pbar.set_description('Epoch: %d | Val acc: %1.3f' % (epoch, val_acc))\n",
    "    train()\n",
    "    val_acc = eval(epoch, val_dataloader, checkpoint=True)\n",
    "    #eval(epoch, testloader)\n",
    "    scheduler.step()\n"
   ]
  },
  {
   "cell_type": "markdown",
   "metadata": {},
   "source": [
    "## Draft"
   ]
  },
  {
   "cell_type": "code",
   "execution_count": 4,
   "metadata": {},
   "outputs": [],
   "source": [
    "from tqdm import tqdm\n",
    "import sys"
   ]
  },
  {
   "cell_type": "code",
   "execution_count": 5,
   "metadata": {},
   "outputs": [
    {
     "name": "stderr",
     "output_type": "stream",
     "text": [
      "  0%|          | 0/10 [01:17<?, ?it/s]\n"
     ]
    }
   ],
   "source": [
    "bar = tqdm(range(10), file=sys.stderr)\n"
   ]
  },
  {
   "cell_type": "code",
   "execution_count": 6,
   "metadata": {},
   "outputs": [
    {
     "name": "stderr",
     "output_type": "stream",
     "text": []
    },
    {
     "data": {
      "text/plain": [
       "True"
      ]
     },
     "execution_count": 6,
     "metadata": {},
     "output_type": "execute_result"
    }
   ],
   "source": [
    "bar.update(10)"
   ]
  },
  {
   "cell_type": "code",
   "execution_count": null,
   "metadata": {},
   "outputs": [],
   "source": [
    "class LitProgressBar(TQDMProgressBar):\n",
    "...     def init_validation_tqdm(self):\n",
    "...         bar = super().init_validation_tqdm()\n",
    "...         bar.set_description('running validation ...')\n",
    "...         return bar"
   ]
  }
 ],
 "metadata": {
  "kernelspec": {
   "display_name": "llms_do_math",
   "language": "python",
   "name": "llms_do_math"
  },
  "language_info": {
   "codemirror_mode": {
    "name": "ipython",
    "version": 3
   },
   "file_extension": ".py",
   "mimetype": "text/x-python",
   "name": "python",
   "nbconvert_exporter": "python",
   "pygments_lexer": "ipython3",
   "version": "3.8.10"
  }
 },
 "nbformat": 4,
 "nbformat_minor": 2
}
