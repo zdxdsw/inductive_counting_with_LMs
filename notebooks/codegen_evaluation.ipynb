{
 "cells": [
  {
   "cell_type": "code",
   "execution_count": 1,
   "metadata": {},
   "outputs": [],
   "source": [
    "import subprocess\n",
    "import os, random, re, json, numbers, sys\n",
    "sys.path.append(\"../scripts\")\n",
    "from helper import *\n",
    "from tqdm import tqdm\n",
    "from pprint import pprint\n",
    "import pytz\n",
    "from datetime import datetime\n",
    "timezone = pytz.timezone('America/New_York') \n",
    "from collections import Counter, defaultdict\n",
    "import numpy as np\n",
    "import pandas as pd\n",
    "pd.set_option('display.float_format', '{:.4f}'.format)\n"
   ]
  },
  {
   "cell_type": "code",
   "execution_count": 2,
   "metadata": {},
   "outputs": [],
   "source": [
    "iid_test = [json.loads(l) for l in open(\"../data/lila/multi/iid/test.json\", \"r\").readlines()]\n",
    "ood_test = [json.loads(l) for l in open(\"../data/lila/multi/ood/test.json\", \"r\").readlines()]\n",
    "tmp = json.load(open(\"../data/lila/single_number_ans_ids.json\", \"r\"))\n",
    "iid_selected_ids, ood_selected_ids = tmp['iid_test'], tmp['ood_test']\n",
    "\n",
    "llm_rel_path = \"codegen25-7b-instruct/deffunc\""
   ]
  },
  {
   "cell_type": "code",
   "execution_count": 3,
   "metadata": {},
   "outputs": [],
   "source": [
    "def EM(pred, gth):\n",
    "    # check if ratio pred/gth \\in [0.999, 1.001]\n",
    "    # This would give credits to fractions, e.g. 1/7 = 0.1428\n",
    "    gth = float(gth)\n",
    "    if gth == 0: return pred == gth\n",
    "    return np.absolute(pred/gth - 1) <= 0.001"
   ]
  },
  {
   "cell_type": "code",
   "execution_count": 4,
   "metadata": {},
   "outputs": [],
   "source": [
    "def parse_outputs(outputs):\n",
    "    ## Postprocess output to extract answer spans\n",
    "    p = outputs.split(\"<reponame>\")[0]\n",
    "    return p\n",
    "\n",
    "def get_program_stdout(outputs, time_limit=10):\n",
    "    try:\n",
    "        p = parse_outputs(outputs)\n",
    "    except: return \"PostprocessingError\"\n",
    "    \n",
    "    ## Execute program with a timer\n",
    "    try: \n",
    "        output = subprocess.run(\n",
    "            [\"python\", '-c', p], \n",
    "            stdout=subprocess.PIPE, \n",
    "            stderr=subprocess.STDOUT, \n",
    "            universal_newlines=True,\n",
    "            timeout=time_limit\n",
    "        )\n",
    "        return output.stdout.strip()\n",
    "    except subprocess.SubprocessError: return \"TimeoutError\""
   ]
  },
  {
   "cell_type": "code",
   "execution_count": 5,
   "metadata": {},
   "outputs": [
    {
     "name": "stdout",
     "output_type": "stream",
     "text": [
      "5342\n"
     ]
    }
   ],
   "source": [
    "output_llm_folder = f\"../data/output_decoder_LM/{llm_rel_path}\"\n",
    "output_llm_files = sorted(os.listdir(output_llm_folder))\n",
    "\n",
    "output_llm_lines = []\n",
    "for file in output_llm_files[1:]:\n",
    "    with open(os.path.join(output_llm_folder, file), \"r\") as f:\n",
    "        output_llm_lines.extend(f.readlines()[1:])\n",
    "print(len(output_llm_lines))"
   ]
  },
  {
   "cell_type": "code",
   "execution_count": 6,
   "metadata": {},
   "outputs": [
    {
     "name": "stderr",
     "output_type": "stream",
     "text": [
      "100%|██████████| 5342/5342 [22:19<00:00,  3.99it/s]  \n"
     ]
    }
   ],
   "source": [
    "# Save execution output to anther file\n",
    "date = datetime.now(timezone).strftime(\"%m%d_%H%M%S\")\n",
    "with open(f\"../data/program_eval/{llm_rel_path}/lila_iid_test_single_number_ans_{date}.jsonl\", \"w\") as f:\n",
    "    for l in tqdm(output_llm_lines[:]):\n",
    "        i, outputs = list(json.loads(l).items())[0]\n",
    "        f.write(json.dumps({i:get_program_stdout(outputs)})+\"\\n\")\n"
   ]
  },
  {
   "cell_type": "markdown",
   "metadata": {},
   "source": [
    "#### Re exec some output programs after installing scipy"
   ]
  },
  {
   "cell_type": "code",
   "execution_count": 20,
   "metadata": {},
   "outputs": [
    {
     "name": "stdout",
     "output_type": "stream",
     "text": [
      "42\n",
      "5342\n"
     ]
    },
    {
     "name": "stderr",
     "output_type": "stream",
     "text": [
      "100%|██████████| 5342/5342 [00:01<00:00, 3620.88it/s] \n"
     ]
    }
   ],
   "source": [
    "exec_ans_d = json.load(open(f\"../data/lila/results/{llm_rel_path}/iid_test_single_ans_exec_ans_types.json\", \"r\"))\n",
    "ids = exec_ans_d[\"ModuleNotFoundError\"]\n",
    "print(len(ids))\n",
    "\n",
    "output_llm_folder = f\"../data/output_decoder_LM/{llm_rel_path}\"\n",
    "output_llm_files = sorted(os.listdir(output_llm_folder))\n",
    "\n",
    "output_llm_lines = []\n",
    "for file in output_llm_files[:8]:\n",
    "    with open(os.path.join(output_llm_folder, file), \"r\") as f:\n",
    "        output_llm_lines.extend(f.readlines()[1:])\n",
    "print(len(output_llm_lines))\n",
    "\n",
    "date = datetime.now(timezone).strftime(\"%m%d_%H%M%S\")\n",
    "with open(f\"../data/program_eval/{llm_rel_path}/lila_iid_test_single_number_ans_{date}.jsonl\", \"w\") as f:\n",
    "    for l in tqdm(output_llm_lines[:]):\n",
    "        i, outputs = list(json.loads(l).items())[0]\n",
    "        if i in ids:\n",
    "            f.write(json.dumps({i:get_program_stdout(outputs)})+\"\\n\")\n"
   ]
  },
  {
   "cell_type": "code",
   "execution_count": 16,
   "metadata": {},
   "outputs": [
    {
     "name": "stdout",
     "output_type": "stream",
     "text": [
      "5342 52\n"
     ]
    }
   ],
   "source": [
    "## Merge new program outputs with old file\n",
    "with open(f\"../data/program_eval/{llm_rel_path}/lila_iid_test_single_number_ans_0912_163559.jsonl\", \"r\") as f:\n",
    "    old = {}\n",
    "    for l in f.readlines():\n",
    "        d = json.loads(l)\n",
    "        k = list(d.keys())[0]\n",
    "        old[k] = d[k]\n",
    "with open(f\"../data/program_eval/{llm_rel_path}/lila_iid_test_single_number_ans_0919_195650_reexec_after_install_scipy.jsonl\", \"r\") as f:\n",
    "    new = {}\n",
    "    for l in f.readlines():\n",
    "        d = json.loads(l)\n",
    "        k = list(d.keys())[0]\n",
    "        new[k] = d[k]\n",
    "print(len(old),len(new))\n",
    "with open(f\"../data/program_eval/{llm_rel_path}/lila_iid_test_single_number_ans_merge_0919_191745_0919_195650.jsonl\", \"w\") as f:\n",
    "    for i, o in old.items():\n",
    "        if i in new: outputs = new[i]\n",
    "        else: outputs = old[i]\n",
    "        f.write(json.dumps({i:outputs})+\"\\n\")"
   ]
  },
  {
   "cell_type": "markdown",
   "metadata": {},
   "source": [
    "#### Categorize exec outputs"
   ]
  },
  {
   "cell_type": "code",
   "execution_count": 6,
   "metadata": {},
   "outputs": [
    {
     "name": "stdout",
     "output_type": "stream",
     "text": [
      "lila_iid_test_single_number_ans_merge_0919_191745_0919_195650.jsonl\n",
      "5342\n"
     ]
    }
   ],
   "source": [
    "# Eval execution outputs\n",
    "output_execution_folder = f\"../data/program_eval/{llm_rel_path}\"\n",
    "output_execution_files = sorted(os.listdir(output_execution_folder))\n",
    "\n",
    "output_execution_lines = []\n",
    "for file in output_execution_files[-1:]:\n",
    "    print(file)\n",
    "    with open(os.path.join(output_execution_folder, file), \"r\") as f:\n",
    "        output_execution_lines.extend(f.readlines())\n",
    "print(len(output_execution_lines))"
   ]
  },
  {
   "cell_type": "code",
   "execution_count": 7,
   "metadata": {},
   "outputs": [
    {
     "name": "stderr",
     "output_type": "stream",
     "text": [
      "100%|██████████| 5342/5342 [00:00<00:00, 149030.38it/s]"
     ]
    },
    {
     "name": "stdout",
     "output_type": "stream",
     "text": [
      "Categorized 5342 direct answer outputs\n",
      "String 1078\n",
      "SyntaxError 1438\n",
      "Number 2466\n",
      "MultiNumbers 130\n",
      "TypeError 24\n",
      "NameError 24\n",
      "TimeoutError 115\n",
      "RecursionError 14\n",
      "ValueError 9\n",
      "MemoryError 22\n",
      "ZeroDivisionError 17\n",
      "OverflowError 1\n",
      "ImportError 2\n",
      "AttributeError 1\n",
      "UnboundLocalError 1\n"
     ]
    },
    {
     "name": "stderr",
     "output_type": "stream",
     "text": [
      "\n"
     ]
    }
   ],
   "source": [
    "# Categorize execution outputs\n",
    "\n",
    "exec_ans_d = defaultdict(list)\n",
    "for l in tqdm(output_execution_lines):\n",
    "    i, o = list(json.loads(l).items())[0]\n",
    "    \n",
    "    if \"SyntaxError: invalid syntax\" in o:\n",
    "        exec_ans_d['SyntaxError'].append(i)\n",
    "        continue\n",
    "    match = re.findall(r'(?P<errortype>[A-Z].*Error)', o)\n",
    "    if len(match): \n",
    "        exec_ans_d[match[-1]].append(i)\n",
    "        continue\n",
    "    \n",
    "    cate, a = find_num_from_str(o)\n",
    "    exec_ans_d[cate].append((i, a))\n",
    "\n",
    "print(f\"Categorized {sum([len(v) for v in exec_ans_d.values()])} direct answer outputs\")\n",
    "for k, v in exec_ans_d.items():\n",
    "    print(k, len(v))"
   ]
  },
  {
   "cell_type": "code",
   "execution_count": 8,
   "metadata": {},
   "outputs": [
    {
     "name": "stdout",
     "output_type": "stream",
     "text": [
      "448\n",
      "471\n"
     ]
    }
   ],
   "source": [
    "## Eval execution outputs that are numbers\n",
    "exec_ans_em = defaultdict(int)\n",
    "for i, o in exec_ans_d['Number']:\n",
    "    gth = iid_test[int(i)]['Output Answer'][0]\n",
    "    if EM(o, gth):\n",
    "       exec_ans_em[i] = 1\n",
    "print(sum(exec_ans_em.values()))\n",
    "for i, o in exec_ans_d['MultiNumbers']:\n",
    "    gth = iid_test[int(i)]['Output Answer'][0]\n",
    "    if any([EM(x, gth) for x in o]):\n",
    "        exec_ans_em[i] = 1\n",
    "print(sum(exec_ans_em.values()))\n",
    "exec_ans_d[\"EM\"] = list(exec_ans_em.keys())"
   ]
  },
  {
   "cell_type": "code",
   "execution_count": 9,
   "metadata": {},
   "outputs": [
    {
     "name": "stdout",
     "output_type": "stream",
     "text": [
      "Overall EM = 471 / 5342 = 8.816922500935979%\n",
      "EM when output is number = 471 / 2596 = 18.143297380585516%\n"
     ]
    }
   ],
   "source": [
    "print(\"Overall EM = {} / 5342 = {}%\".format(len(exec_ans_d[\"EM\"]), len(exec_ans_d[\"EM\"])/53.42))\n",
    "de = len(exec_ans_d['Number']) + len(exec_ans_d['MultiNumbers'])\n",
    "print(\"EM when output is number = {} / {} = {}%\".format(len(exec_ans_d[\"EM\"]), de, len(exec_ans_d[\"EM\"])*100/de))"
   ]
  },
  {
   "cell_type": "code",
   "execution_count": 19,
   "metadata": {},
   "outputs": [
    {
     "name": "stdout",
     "output_type": "stream",
     "text": [
      "codegen25-7b-instruct/deffunc\n"
     ]
    }
   ],
   "source": [
    "# Save categorized answers \n",
    "print(llm_rel_path)\n",
    "json.dump(exec_ans_d, open(f\"../data/lila/results/{llm_rel_path}/iid_test_single_ans_exec_ans_types.json\", \"w\"))\n"
   ]
  },
  {
   "cell_type": "code",
   "execution_count": 15,
   "metadata": {},
   "outputs": [
    {
     "name": "stdout",
     "output_type": "stream",
     "text": [
      "1277 471\n"
     ]
    },
    {
     "data": {
      "image/png": "[encoded data removed]",
      "text/plain": [
       "<Figure size 640x480 with 1 Axes>"
      ]
     },
     "metadata": {},
     "output_type": "display_data"
    }
   ],
   "source": [
    "# Do \"var_a =\" and \"def func(\" fail on different clusters of examples?\n",
    "import matplotlib.pyplot as plt\n",
    "from matplotlib_venn import venn2, venn2_circles, venn3, venn3_circles\n",
    "\n",
    "# Examine how often do different generation strategies agree\n",
    "var_a_em_ids = json.load(open(\"../data/lila/results/codegen25-7b-instruct/var_a/iid_test_single_ans_exec_ans_types.json\", \"r\"))[\"EM\"]\n",
    "deffunc_em_ids = json.load(open(\"../data/lila/results/codegen25-7b-instruct/deffunc/iid_test_single_ans_exec_ans_types.json\", \"r\"))[\"EM\"]\n",
    "print(len(var_a_em_ids), len(deffunc_em_ids))\n",
    "venn2(\n",
    "    [set(var_a_em_ids), set(deffunc_em_ids)],\n",
    "    set_colors=('#3E64AF', '#3EAF5D'),#, '#E6E600'), \n",
    "    set_labels = (\n",
    "        f'Start generating with \"var_a =\"\\n#EM=1: {len(var_a_em_ids)}/5342',\n",
    "        f'Start generating with \"def func(\"\\n#EM=1: {len(deffunc_em_ids)}/5342',\n",
    "    )\n",
    ")\n",
    "venn2_circles([set(var_a_em_ids), set(deffunc_em_ids)], lw=0.5)\n",
    "\n",
    "plt.show()"
   ]
  },
  {
   "cell_type": "code",
   "execution_count": 16,
   "metadata": {},
   "outputs": [
    {
     "name": "stdout",
     "output_type": "stream",
     "text": [
      "5342\n"
     ]
    }
   ],
   "source": [
    "# save post-processed results to csv\n",
    "import csv\n",
    "var_a_ans_d = json.load(open(\"../data/lila/results/codegen25-7b-instruct/var_a/iid_test_single_ans_exec_ans_types.json\", \"r\"))\n",
    "deffunc_ans_d = json.load(open(\"../data/lila/results/codegen25-7b-instruct/deffunc/iid_test_single_ans_exec_ans_types.json\", \"r\"))\n",
    "\n",
    "rows = {}\n",
    "for var_a_ans_cate, ids in var_a_ans_d.items():\n",
    "    if var_a_ans_cate == \"EM\": continue\n",
    "    for x in ids:\n",
    "        if isinstance(x, (tuple, list)):\n",
    "            i, dir_ans = x\n",
    "            gth = float(iid_test[int(i)]['Output Answer'][0])\n",
    "            rows[i] = [i, gth, dir_ans, int(i in var_a_ans_d[\"EM\"])]\n",
    "        else:\n",
    "            gth = float(iid_test[int(x)]['Output Answer'][0])\n",
    "            rows[x] = [x, gth, var_a_ans_cate, 0]\n",
    "for deffunc_ans_cate, ids in deffunc_ans_d.items():\n",
    "    if deffunc_ans_cate == \"EM\": continue\n",
    "    for x in ids:\n",
    "        if isinstance(x, (tuple, list)):\n",
    "            i, exec_ans = x\n",
    "            rows[i].extend([exec_ans, int(i in deffunc_ans_d[\"EM\"])])\n",
    "        else:\n",
    "            rows[x].extend([deffunc_ans_cate, 0])\n",
    "\n",
    "rows = [x[1] for x in sorted(rows.items(), key=lambda x: int(x[0]))]\n",
    "print(len(rows))\n",
    "\n",
    "with open(\"../data/lila/results/iid_test_single_ans.csv\", \"w\") as f:\n",
    "    w = csv.writer(f, delimiter= ',')\n",
    "    w.writerow([\"id\", \"gth_ans\", \"exec_ans_var_a\", \"em_var_a\", \"exec_ans_deffunc\", \"em_deffunc\"])\n",
    "    for r in rows: w.writerow(r)\n"
   ]
  },
  {
   "cell_type": "code",
   "execution_count": 18,
   "metadata": {},
   "outputs": [
    {
     "name": "stdout",
     "output_type": "stream",
     "text": [
      "5342\n"
     ]
    },
    {
     "data": {
      "text/html": [
       "<div>\n",
       "<style scoped>\n",
       "    .dataframe tbody tr th:only-of-type {\n",
       "        vertical-align: middle;\n",
       "    }\n",
       "\n",
       "    .dataframe tbody tr th {\n",
       "        vertical-align: top;\n",
       "    }\n",
       "\n",
       "    .dataframe thead th {\n",
       "        text-align: right;\n",
       "    }\n",
       "</style>\n",
       "<table border=\"1\" class=\"dataframe\">\n",
       "  <thead>\n",
       "    <tr style=\"text-align: right;\">\n",
       "      <th></th>\n",
       "      <th>id</th>\n",
       "      <th>gth_ans</th>\n",
       "      <th>exec_ans_var_a</th>\n",
       "      <th>em_var_a</th>\n",
       "      <th>exec_ans_deffunc</th>\n",
       "      <th>em_deffunc</th>\n",
       "    </tr>\n",
       "  </thead>\n",
       "  <tbody>\n",
       "    <tr>\n",
       "      <th>0</th>\n",
       "      <td>0</td>\n",
       "      <td>370.0000</td>\n",
       "      <td></td>\n",
       "      <td>0</td>\n",
       "      <td></td>\n",
       "      <td>0</td>\n",
       "    </tr>\n",
       "    <tr>\n",
       "      <th>1</th>\n",
       "      <td>1</td>\n",
       "      <td>-5.0000</td>\n",
       "      <td></td>\n",
       "      <td>0</td>\n",
       "      <td>SyntaxError</td>\n",
       "      <td>0</td>\n",
       "    </tr>\n",
       "    <tr>\n",
       "      <th>2</th>\n",
       "      <td>2</td>\n",
       "      <td>0.0045</td>\n",
       "      <td></td>\n",
       "      <td>0</td>\n",
       "      <td>SyntaxError</td>\n",
       "      <td>0</td>\n",
       "    </tr>\n",
       "    <tr>\n",
       "      <th>3</th>\n",
       "      <td>3</td>\n",
       "      <td>0.0000</td>\n",
       "      <td>-16</td>\n",
       "      <td>0</td>\n",
       "      <td></td>\n",
       "      <td>0</td>\n",
       "    </tr>\n",
       "    <tr>\n",
       "      <th>4</th>\n",
       "      <td>4</td>\n",
       "      <td>1.0200</td>\n",
       "      <td>1.02</td>\n",
       "      <td>1</td>\n",
       "      <td>1.02</td>\n",
       "      <td>1</td>\n",
       "    </tr>\n",
       "    <tr>\n",
       "      <th>5</th>\n",
       "      <td>5</td>\n",
       "      <td>-6.0000</td>\n",
       "      <td></td>\n",
       "      <td>0</td>\n",
       "      <td>0.6666666666666666</td>\n",
       "      <td>0</td>\n",
       "    </tr>\n",
       "    <tr>\n",
       "      <th>6</th>\n",
       "      <td>6</td>\n",
       "      <td>0.5000</td>\n",
       "      <td>0</td>\n",
       "      <td>0</td>\n",
       "      <td>0</td>\n",
       "      <td>0</td>\n",
       "    </tr>\n",
       "    <tr>\n",
       "      <th>7</th>\n",
       "      <td>7</td>\n",
       "      <td>5.0000</td>\n",
       "      <td>-0.3999999999999986</td>\n",
       "      <td>0</td>\n",
       "      <td></td>\n",
       "      <td>0</td>\n",
       "    </tr>\n",
       "    <tr>\n",
       "      <th>8</th>\n",
       "      <td>8</td>\n",
       "      <td>0.2000</td>\n",
       "      <td>13</td>\n",
       "      <td>0</td>\n",
       "      <td>-534</td>\n",
       "      <td>0</td>\n",
       "    </tr>\n",
       "    <tr>\n",
       "      <th>9</th>\n",
       "      <td>9</td>\n",
       "      <td>1.5800</td>\n",
       "      <td></td>\n",
       "      <td>0</td>\n",
       "      <td>1.58</td>\n",
       "      <td>1</td>\n",
       "    </tr>\n",
       "    <tr>\n",
       "      <th>10</th>\n",
       "      <td>10</td>\n",
       "      <td>0.5714</td>\n",
       "      <td></td>\n",
       "      <td>0</td>\n",
       "      <td>4.0</td>\n",
       "      <td>0</td>\n",
       "    </tr>\n",
       "    <tr>\n",
       "      <th>11</th>\n",
       "      <td>11</td>\n",
       "      <td>-0.0600</td>\n",
       "      <td>-0.06</td>\n",
       "      <td>1</td>\n",
       "      <td>0.6399999999999999</td>\n",
       "      <td>0</td>\n",
       "    </tr>\n",
       "    <tr>\n",
       "      <th>12</th>\n",
       "      <td>12</td>\n",
       "      <td>0.1176</td>\n",
       "      <td></td>\n",
       "      <td>0</td>\n",
       "      <td>SyntaxError</td>\n",
       "      <td>0</td>\n",
       "    </tr>\n",
       "    <tr>\n",
       "      <th>13</th>\n",
       "      <td>13</td>\n",
       "      <td>-5.0000</td>\n",
       "      <td></td>\n",
       "      <td>0</td>\n",
       "      <td>138</td>\n",
       "      <td>0</td>\n",
       "    </tr>\n",
       "    <tr>\n",
       "      <th>14</th>\n",
       "      <td>14</td>\n",
       "      <td>7.0000</td>\n",
       "      <td>7.0</td>\n",
       "      <td>1</td>\n",
       "      <td>SyntaxError</td>\n",
       "      <td>0</td>\n",
       "    </tr>\n",
       "    <tr>\n",
       "      <th>15</th>\n",
       "      <td>15</td>\n",
       "      <td>-648231289.8000</td>\n",
       "      <td>-648231289.8</td>\n",
       "      <td>1</td>\n",
       "      <td>648231289.8</td>\n",
       "      <td>0</td>\n",
       "    </tr>\n",
       "    <tr>\n",
       "      <th>16</th>\n",
       "      <td>16</td>\n",
       "      <td>-2.0000</td>\n",
       "      <td></td>\n",
       "      <td>0</td>\n",
       "      <td>SyntaxError</td>\n",
       "      <td>0</td>\n",
       "    </tr>\n",
       "    <tr>\n",
       "      <th>17</th>\n",
       "      <td>17</td>\n",
       "      <td>-0.4000</td>\n",
       "      <td></td>\n",
       "      <td>0</td>\n",
       "      <td></td>\n",
       "      <td>0</td>\n",
       "    </tr>\n",
       "    <tr>\n",
       "      <th>18</th>\n",
       "      <td>18</td>\n",
       "      <td>325.4600</td>\n",
       "      <td>325.46</td>\n",
       "      <td>1</td>\n",
       "      <td></td>\n",
       "      <td>0</td>\n",
       "    </tr>\n",
       "    <tr>\n",
       "      <th>19</th>\n",
       "      <td>19</td>\n",
       "      <td>4.0000</td>\n",
       "      <td>SyntaxError</td>\n",
       "      <td>0</td>\n",
       "      <td>-36.0</td>\n",
       "      <td>0</td>\n",
       "    </tr>\n",
       "    <tr>\n",
       "      <th>20</th>\n",
       "      <td>20</td>\n",
       "      <td>1.2500</td>\n",
       "      <td>-0.30000000000000004</td>\n",
       "      <td>0</td>\n",
       "      <td>-0.9666666666660604</td>\n",
       "      <td>0</td>\n",
       "    </tr>\n",
       "    <tr>\n",
       "      <th>21</th>\n",
       "      <td>21</td>\n",
       "      <td>-5.0000</td>\n",
       "      <td>-3.0</td>\n",
       "      <td>0</td>\n",
       "      <td>16.5612</td>\n",
       "      <td>0</td>\n",
       "    </tr>\n",
       "    <tr>\n",
       "      <th>22</th>\n",
       "      <td>22</td>\n",
       "      <td>1.0000</td>\n",
       "      <td></td>\n",
       "      <td>0</td>\n",
       "      <td>SyntaxError</td>\n",
       "      <td>0</td>\n",
       "    </tr>\n",
       "    <tr>\n",
       "      <th>23</th>\n",
       "      <td>23</td>\n",
       "      <td>-660085.2758</td>\n",
       "      <td>660085.2758</td>\n",
       "      <td>0</td>\n",
       "      <td>SyntaxError</td>\n",
       "      <td>0</td>\n",
       "    </tr>\n",
       "    <tr>\n",
       "      <th>24</th>\n",
       "      <td>24</td>\n",
       "      <td>-109.0000</td>\n",
       "      <td></td>\n",
       "      <td>0</td>\n",
       "      <td>-1.0</td>\n",
       "      <td>0</td>\n",
       "    </tr>\n",
       "    <tr>\n",
       "      <th>25</th>\n",
       "      <td>25</td>\n",
       "      <td>-0.5270</td>\n",
       "      <td></td>\n",
       "      <td>0</td>\n",
       "      <td></td>\n",
       "      <td>0</td>\n",
       "    </tr>\n",
       "    <tr>\n",
       "      <th>26</th>\n",
       "      <td>26</td>\n",
       "      <td>-37.0000</td>\n",
       "      <td>-37.0</td>\n",
       "      <td>1</td>\n",
       "      <td>-97.95</td>\n",
       "      <td>0</td>\n",
       "    </tr>\n",
       "    <tr>\n",
       "      <th>27</th>\n",
       "      <td>27</td>\n",
       "      <td>220733.0000</td>\n",
       "      <td>220733</td>\n",
       "      <td>1</td>\n",
       "      <td></td>\n",
       "      <td>0</td>\n",
       "    </tr>\n",
       "    <tr>\n",
       "      <th>28</th>\n",
       "      <td>28</td>\n",
       "      <td>0.1100</td>\n",
       "      <td></td>\n",
       "      <td>0</td>\n",
       "      <td></td>\n",
       "      <td>0</td>\n",
       "    </tr>\n",
       "    <tr>\n",
       "      <th>29</th>\n",
       "      <td>29</td>\n",
       "      <td>-0.5000</td>\n",
       "      <td>-1.0</td>\n",
       "      <td>0</td>\n",
       "      <td>-1.4</td>\n",
       "      <td>0</td>\n",
       "    </tr>\n",
       "  </tbody>\n",
       "</table>\n",
       "</div>"
      ],
      "text/plain": [
       "    id         gth_ans        exec_ans_var_a  em_var_a     exec_ans_deffunc  \\\n",
       "0    0        370.0000                               0                        \n",
       "1    1         -5.0000                               0          SyntaxError   \n",
       "2    2          0.0045                               0          SyntaxError   \n",
       "3    3          0.0000                   -16         0                        \n",
       "4    4          1.0200                  1.02         1                 1.02   \n",
       "5    5         -6.0000                               0   0.6666666666666666   \n",
       "6    6          0.5000                     0         0                    0   \n",
       "7    7          5.0000   -0.3999999999999986         0                        \n",
       "8    8          0.2000                    13         0                 -534   \n",
       "9    9          1.5800                               0                 1.58   \n",
       "10  10          0.5714                               0                  4.0   \n",
       "11  11         -0.0600                 -0.06         1   0.6399999999999999   \n",
       "12  12          0.1176                               0          SyntaxError   \n",
       "13  13         -5.0000                               0                  138   \n",
       "14  14          7.0000                   7.0         1          SyntaxError   \n",
       "15  15 -648231289.8000          -648231289.8         1          648231289.8   \n",
       "16  16         -2.0000                               0          SyntaxError   \n",
       "17  17         -0.4000                               0                        \n",
       "18  18        325.4600                325.46         1                        \n",
       "19  19          4.0000           SyntaxError         0                -36.0   \n",
       "20  20          1.2500  -0.30000000000000004         0  -0.9666666666660604   \n",
       "21  21         -5.0000                  -3.0         0              16.5612   \n",
       "22  22          1.0000                               0          SyntaxError   \n",
       "23  23    -660085.2758           660085.2758         0          SyntaxError   \n",
       "24  24       -109.0000                               0                 -1.0   \n",
       "25  25         -0.5270                               0                        \n",
       "26  26        -37.0000                 -37.0         1               -97.95   \n",
       "27  27     220733.0000                220733         1                        \n",
       "28  28          0.1100                               0                        \n",
       "29  29         -0.5000                  -1.0         0                 -1.4   \n",
       "\n",
       "    em_deffunc  \n",
       "0            0  \n",
       "1            0  \n",
       "2            0  \n",
       "3            0  \n",
       "4            1  \n",
       "5            0  \n",
       "6            0  \n",
       "7            0  \n",
       "8            0  \n",
       "9            1  \n",
       "10           0  \n",
       "11           0  \n",
       "12           0  \n",
       "13           0  \n",
       "14           0  \n",
       "15           0  \n",
       "16           0  \n",
       "17           0  \n",
       "18           0  \n",
       "19           0  \n",
       "20           0  \n",
       "21           0  \n",
       "22           0  \n",
       "23           0  \n",
       "24           0  \n",
       "25           0  \n",
       "26           0  \n",
       "27           0  \n",
       "28           0  \n",
       "29           0  "
      ]
     },
     "execution_count": 18,
     "metadata": {},
     "output_type": "execute_result"
    }
   ],
   "source": [
    "results = pd.read_csv(\n",
    "    f\"../data/lila/results/{llm_rel_path}/iid_test_single_ans.csv\", \n",
    "    header=0, \n",
    "    keep_default_na=False,\n",
    ")\n",
    "print(len(results))\n",
    "results.head(30)"
   ]
  },
  {
   "cell_type": "markdown",
   "metadata": {},
   "source": [
    "### Cluster failures according to some measure of difficulty"
   ]
  },
  {
   "cell_type": "code",
   "execution_count": 4,
   "metadata": {},
   "outputs": [
    {
     "name": "stderr",
     "output_type": "stream",
     "text": [
      "100%|██████████| 5342/5342 [00:00<00:00, 83113.75it/s]\n"
     ]
    }
   ],
   "source": [
    "# Treat number_count as a measure of difficulty\n",
    "iid_test = [json.loads(l) for l in open(\"../data/lila/multi/iid/test.json\", \"r\").readlines()]\n",
    "tmp = json.load(open(\"../data/lila/single_number_ans_ids.json\", \"r\"))\n",
    "iid_selected_ids = tmp['iid_test']\n",
    "\n",
    "number_counts = {}\n",
    "for i in tqdm(iid_selected_ids):\n",
    "    number_counts[i] = len(count_numbers_in_str(iid_test[i]['Input']))"
   ]
  },
  {
   "cell_type": "code",
   "execution_count": 7,
   "metadata": {},
   "outputs": [
    {
     "data": {
      "text/plain": [
       "(162.90228378884314, 90.85821419393105)"
      ]
     },
     "execution_count": 7,
     "metadata": {},
     "output_type": "execute_result"
    }
   ],
   "source": [
    "lengths = [len(iid_test[i]['Input'].strip()) for i in iid_selected_ids]\n",
    "np.mean(lengths), np.std(lengths)"
   ]
  },
  {
   "cell_type": "code",
   "execution_count": 8,
   "metadata": {},
   "outputs": [
    {
     "data": {
      "text/plain": [
       "Counter({2: 436,\n",
       "         3: 841,\n",
       "         1: 491,\n",
       "         5: 761,\n",
       "         0: 88,\n",
       "         4: 884,\n",
       "         7: 398,\n",
       "         6: 552,\n",
       "         11: 102,\n",
       "         8: 280,\n",
       "         9: 197,\n",
       "         10: 128,\n",
       "         12: 48,\n",
       "         14: 30,\n",
       "         13: 41,\n",
       "         16: 12,\n",
       "         17: 16,\n",
       "         15: 22,\n",
       "         20: 3,\n",
       "         18: 7,\n",
       "         19: 2,\n",
       "         28: 1,\n",
       "         23: 2})"
      ]
     },
     "execution_count": 8,
     "metadata": {},
     "output_type": "execute_result"
    }
   ],
   "source": [
    "Counter([l//30 for l in lengths])"
   ]
  },
  {
   "cell_type": "code",
   "execution_count": null,
   "metadata": {},
   "outputs": [],
   "source": []
  }
 ],
 "metadata": {
  "kernelspec": {
   "display_name": "venv",
   "language": "python",
   "name": "python3"
  },
  "language_info": {
   "codemirror_mode": {
    "name": "ipython",
    "version": 3
   },
   "file_extension": ".py",
   "mimetype": "text/x-python",
   "name": "python",
   "nbconvert_exporter": "python",
   "pygments_lexer": "ipython3",
   "version": "3.8.10"
  },
  "orig_nbformat": 4
 },
 "nbformat": 4,
 "nbformat_minor": 2
}
