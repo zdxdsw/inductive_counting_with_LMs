{
 "cells": [
  {
   "cell_type": "markdown",
   "metadata": {},
   "source": [
    "### Generate Data --- ADD"
   ]
  },
  {
   "cell_type": "code",
   "execution_count": 6,
   "metadata": {},
   "outputs": [],
   "source": [
    "import os, random, json, re\n",
    "import pandas as pd\n",
    "import numpy as np\n",
    "from tqdm import trange, tqdm\n",
    "TASK = \"add\""
   ]
  },
  {
   "cell_type": "code",
   "execution_count": 12,
   "metadata": {},
   "outputs": [
    {
     "name": "stderr",
     "output_type": "stream",
     "text": [
      "100%|██████████| 126/126 [00:12<00:00,  9.98it/s]\n"
     ]
    }
   ],
   "source": [
    "samples_per_num_digit = 2000\n",
    "data = {}\n",
    "for num_digit in trange(3, 129):\n",
    "    unique_two_strings = set()\n",
    "    strings = []\n",
    "    while len(strings) < samples_per_num_digit:\n",
    "        s1 = \"\".join([random.choice(\"1234567890\") for i in range(num_digit)])\n",
    "        s2 = \"\".join([random.choice(\"1234567890\") for i in range(num_digit)])\n",
    "        if s1[0]=='0' or s2[0]=='0': continue\n",
    "        if \"\".join(sorted([s1, s2])) not in unique_two_strings:\n",
    "            unique_two_strings.add(\"\".join(sorted([s1, s2])))\n",
    "            strings.append(s1+\" + \"+s2)\n",
    "\n",
    "    data[num_digit] = list(strings)\n",
    "json.dump(data, open(f\"../data/finetune/{TASK}/finetune.json\", \"w\"), indent=2)\n",
    "            "
   ]
  },
  {
   "cell_type": "code",
   "execution_count": 13,
   "metadata": {},
   "outputs": [
    {
     "name": "stdout",
     "output_type": "stream",
     "text": [
      "samples_per_num_digit = 2000\n"
     ]
    },
    {
     "name": "stderr",
     "output_type": "stream",
     "text": [
      "100%|██████████| 126/126 [03:55<00:00,  1.87s/it]\n"
     ]
    },
    {
     "name": "stdout",
     "output_type": "stream",
     "text": [
      "126000 12600\n"
     ]
    }
   ],
   "source": [
    "# Uniform split\n",
    "samples_per_num_digit_train, samples_per_num_digit_val = 1000, 100\n",
    "\n",
    "data = json.load(open(f\"../data/finetune/{TASK}/finetune.json\", \"r\"))\n",
    "print(\"samples_per_num_digit = {}\".format(len(data[list(data.keys())[0]])))\n",
    "\n",
    "train = pd.DataFrame(columns=[\"input_str\", \"answer\"])\n",
    "val = pd.DataFrame(columns=[\"input_str\", \"answer\"])\n",
    "for num_digit in tqdm(data):\n",
    "    for s in data[num_digit][:samples_per_num_digit_train]:\n",
    "        s1, s2 = s.split(\" + \")\n",
    "        s1, s2 = int(s1), int(s2)\n",
    "        row = {\n",
    "            \"input_str\": [s],\n",
    "            \"answer\": [str(s1+s2)]\n",
    "        }\n",
    "        row = pd.DataFrame(row)\n",
    "        train = pd.concat([train, pd.DataFrame(row)])\n",
    "    for s in data[num_digit][\n",
    "        samples_per_num_digit_train:samples_per_num_digit_train+samples_per_num_digit_val\n",
    "    ]:\n",
    "        s1, s2 = s.split(\" + \")\n",
    "        s1, s2 = int(s1), int(s2)\n",
    "        row = {\n",
    "            \"input_str\": [s],\n",
    "            \"answer\": [str(s1+s2)]\n",
    "        }\n",
    "        row = pd.DataFrame(row)\n",
    "        val = pd.concat([val, pd.DataFrame(row)])\n",
    "print(len(train), len(val))\n",
    "\n",
    "train.to_csv(f\"../data/finetune/{TASK}/uniform_split2/train.csv\", index=False)\n",
    "val.to_csv(f\"../data/finetune/{TASK}/uniform_split2/val.csv\", index=False)\n",
    "\n",
    "#val.to_csv(f\"../data/finetune/{TASK}/uniform_large_split/val.csv\", index=False)\n"
   ]
  },
  {
   "cell_type": "code",
   "execution_count": 4,
   "metadata": {},
   "outputs": [
    {
     "name": "stdout",
     "output_type": "stream",
     "text": [
      "samples_per_num_digit = 1000\n"
     ]
    },
    {
     "name": "stderr",
     "output_type": "stream",
     "text": [
      "100%|██████████| 128/128 [00:03<00:00, 35.17it/s]\n"
     ]
    },
    {
     "name": "stdout",
     "output_type": "stream",
     "text": [
      "0 12800\n"
     ]
    }
   ],
   "source": [
    "# length_extrapolation split\n",
    "samples_per_num_digit_train, samples_per_num_digit_val = 0, 100\n",
    "\n",
    "data = json.load(open(f\"../data/finetune/{TASK}/finetune_129_256.json\", \"r\"))\n",
    "print(\"samples_per_num_digit = {}\".format(len(data[list(data.keys())[0]])))\n",
    "\n",
    "train = pd.DataFrame(columns=[\"input_str\", \"answer\"])\n",
    "val = pd.DataFrame(columns=[\"input_str\", \"answer\"])\n",
    "for num_digit in tqdm(data):\n",
    "    for s in data[num_digit][:samples_per_num_digit_train]:\n",
    "        s1, s2 = s.split(\" + \")\n",
    "        s1, s2 = int(s1), int(s2)\n",
    "        row = {\n",
    "            \"input_str\": [s],\n",
    "            \"answer\": [str(s1+s2)]\n",
    "        }\n",
    "        row = pd.DataFrame(row)\n",
    "        train = pd.concat([train, pd.DataFrame(row)])\n",
    "    for s in data[num_digit][\n",
    "        samples_per_num_digit_train:samples_per_num_digit_train+samples_per_num_digit_val\n",
    "    ]:\n",
    "        s1, s2 = s.split(\" + \")\n",
    "        s1, s2 = int(s1), int(s2)\n",
    "        row = {\n",
    "            \"input_str\": [s],\n",
    "            \"answer\": [str(s1+s2)]\n",
    "        }\n",
    "        row = pd.DataFrame(row)\n",
    "        val = pd.concat([val, pd.DataFrame(row)])\n",
    "print(len(train), len(val))\n",
    "\n",
    "val.to_csv(f\"../data/finetune/{TASK}/length_extrapolation/val.csv\", index=False)"
   ]
  },
  {
   "cell_type": "code",
   "execution_count": 7,
   "metadata": {},
   "outputs": [
    {
     "name": "stdout",
     "output_type": "stream",
     "text": [
      "samples_per_num_digit = 2000\n"
     ]
    },
    {
     "name": "stderr",
     "output_type": "stream",
     "text": [
      "100%|██████████| 126/126 [00:06<00:00, 20.16it/s]\n"
     ]
    },
    {
     "name": "stdout",
     "output_type": "stream",
     "text": [
      "12600 12600\n"
     ]
    }
   ],
   "source": [
    "# Random labels\n",
    "samples_per_num_digit_train, samples_per_num_digit_val = 100, 100\n",
    "\n",
    "data = json.load(open(f\"../data/finetune/{TASK}/finetune.json\", \"r\"))\n",
    "print(\"samples_per_num_digit = {}\".format(len(data[list(data.keys())[0]])))\n",
    "\n",
    "train = pd.DataFrame(columns=[\"input_str\", \"answer\"])\n",
    "val = pd.DataFrame(columns=[\"input_str\", \"answer\"])\n",
    "for num_digit in tqdm(data):\n",
    "    for s in data[num_digit][:samples_per_num_digit_train]:\n",
    "        s1, s2 = s.split(\" + \")\n",
    "        s1, s2 = int(s1), int(s2)\n",
    "        row = {\n",
    "            \"input_str\": [s],\n",
    "            \"answer\": [\"\".join([random.choice(\"0123456789\") for i in range(int(num_digit))])]\n",
    "        }\n",
    "        row = pd.DataFrame(row)\n",
    "\n",
    "        # train == val\n",
    "        train = pd.concat([train, pd.DataFrame(row)])\n",
    "        val = pd.concat([val, pd.DataFrame(row)])\n",
    "print(len(train), len(val))\n",
    "\n",
    "train.to_csv(f\"../data/finetune/{TASK}/random_labels/train.csv\", index=False)\n",
    "val.to_csv(f\"../data/finetune/{TASK}/random_labels/val.csv\", index=False)\n",
    "\n",
    "#val.to_csv(f\"../data/finetune/{TASK}/uniform_large_split/val.csv\", index=False)\n"
   ]
  },
  {
   "cell_type": "code",
   "execution_count": 2,
   "metadata": {},
   "outputs": [
    {
     "name": "stdout",
     "output_type": "stream",
     "text": [
      "samples_per_num_digit = 1000\n"
     ]
    },
    {
     "name": "stderr",
     "output_type": "stream",
     "text": [
      "100%|██████████| 126/126 [00:06<00:00, 18.37it/s]\n"
     ]
    },
    {
     "name": "stdout",
     "output_type": "stream",
     "text": [
      "12600 12600\n"
     ]
    }
   ],
   "source": [
    "# odd_even_3:1 split\n",
    "samples_per_num_digit_val = 100\n",
    "\n",
    "data = json.load(open(f\"../data/finetune/{TASK}/finetune.json\", \"r\"))\n",
    "print(\"samples_per_num_digit = {}\".format(len(data[list(data.keys())[0]])))\n",
    "\n",
    "train = pd.DataFrame(columns=[\"input_str\", \"answer\"])\n",
    "val = pd.DataFrame(columns=[\"input_str\", \"answer\"])\n",
    "for num_digit in tqdm(data):\n",
    "    if int(num_digit)%2 == 1: samples_per_num_digit_train = 150\n",
    "    else: samples_per_num_digit_train = 50\n",
    "    for s in data[num_digit][:samples_per_num_digit_train]:\n",
    "        s1, s2 = s.split(\" + \")\n",
    "        s1, s2 = int(s1), int(s2)\n",
    "        row = {\n",
    "            \"input_str\": [s],\n",
    "            \"answer\": [str(s1+s2)]\n",
    "        }\n",
    "        row = pd.DataFrame(row)\n",
    "        train = pd.concat([train, pd.DataFrame(row)])\n",
    "    for s in data[num_digit][\n",
    "        samples_per_num_digit_train:samples_per_num_digit_train+samples_per_num_digit_val\n",
    "    ]:\n",
    "        s1, s2 = s.split(\" + \")\n",
    "        s1, s2 = int(s1), int(s2)\n",
    "        row = {\n",
    "            \"input_str\": [s],\n",
    "            \"answer\": [str(s1+s2)]\n",
    "        }\n",
    "        row = pd.DataFrame(row)\n",
    "        val = pd.concat([val, pd.DataFrame(row)])\n",
    "print(len(train), len(val))\n",
    "\n",
    "train.to_csv(f\"../data/finetune/{TASK}/odd_even_3:1_split/train.csv\", index=False)\n",
    "val.to_csv(f\"../data/finetune/{TASK}/odd_even_3:1_split/val.csv\", index=False)\n"
   ]
  },
  {
   "cell_type": "code",
   "execution_count": 5,
   "metadata": {},
   "outputs": [
    {
     "data": {
      "text/plain": [
       "'135'"
      ]
     },
     "execution_count": 5,
     "metadata": {},
     "output_type": "execute_result"
    }
   ],
   "source": [
    "\"\".join(['1', '3', '5'])"
   ]
  },
  {
   "cell_type": "code",
   "execution_count": 3,
   "metadata": {},
   "outputs": [
    {
     "name": "stdout",
     "output_type": "stream",
     "text": [
      "samples_per_num_digit = 1000\n"
     ]
    },
    {
     "name": "stderr",
     "output_type": "stream",
     "text": [
      "100%|██████████| 126/126 [00:06<00:00, 18.19it/s]\n"
     ]
    },
    {
     "name": "stdout",
     "output_type": "stream",
     "text": [
      "12600 12600\n"
     ]
    }
   ],
   "source": [
    "# odd_even_9:1 split\n",
    "samples_per_num_digit_val = 100\n",
    "\n",
    "data = json.load(open(f\"../data/finetune/{TASK}/finetune.json\", \"r\"))\n",
    "print(\"samples_per_num_digit = {}\".format(len(data[list(data.keys())[0]])))\n",
    "\n",
    "train = pd.DataFrame(columns=[\"input_str\", \"answer\"])\n",
    "val = pd.DataFrame(columns=[\"input_str\", \"answer\"])\n",
    "for num_digit in tqdm(data):\n",
    "    if int(num_digit)%2 == 1: samples_per_num_digit_train = 180\n",
    "    else: samples_per_num_digit_train = 20\n",
    "    for s in data[num_digit][:samples_per_num_digit_train]:\n",
    "        s1, s2 = s.split(\" + \")\n",
    "        s1, s2 = int(s1), int(s2)\n",
    "        row = {\n",
    "            \"input_str\": [s],\n",
    "            \"answer\": [str(s1+s2)]\n",
    "        }\n",
    "        row = pd.DataFrame(row)\n",
    "        train = pd.concat([train, pd.DataFrame(row)])\n",
    "    for s in data[num_digit][\n",
    "        samples_per_num_digit_train:samples_per_num_digit_train+samples_per_num_digit_val\n",
    "    ]:\n",
    "        s1, s2 = s.split(\" + \")\n",
    "        s1, s2 = int(s1), int(s2)\n",
    "        row = {\n",
    "            \"input_str\": [s],\n",
    "            \"answer\": [str(s1+s2)]\n",
    "        }\n",
    "        row = pd.DataFrame(row)\n",
    "        val = pd.concat([val, pd.DataFrame(row)])\n",
    "print(len(train), len(val))\n",
    "\n",
    "train.to_csv(f\"../data/finetune/{TASK}/odd_even_9:1_split/train.csv\", index=False)\n",
    "val.to_csv(f\"../data/finetune/{TASK}/odd_even_9:1_split/val.csv\", index=False)\n"
   ]
  },
  {
   "cell_type": "code",
   "execution_count": 4,
   "metadata": {},
   "outputs": [
    {
     "name": "stdout",
     "output_type": "stream",
     "text": [
      "samples_per_num_digit = 1000\n"
     ]
    },
    {
     "name": "stderr",
     "output_type": "stream",
     "text": [
      "100%|██████████| 126/126 [00:05<00:00, 25.01it/s]"
     ]
    },
    {
     "name": "stdout",
     "output_type": "stream",
     "text": [
      "6300 12600\n"
     ]
    },
    {
     "name": "stderr",
     "output_type": "stream",
     "text": [
      "\n"
     ]
    }
   ],
   "source": [
    "# odd_only split\n",
    "samples_per_num_digit_val = 100\n",
    "\n",
    "data = json.load(open(f\"../data/finetune/{TASK}/finetune.json\", \"r\"))\n",
    "print(\"samples_per_num_digit = {}\".format(len(data[list(data.keys())[0]])))\n",
    "\n",
    "train = pd.DataFrame(columns=[\"input_str\", \"answer\"])\n",
    "val = pd.DataFrame(columns=[\"input_str\", \"answer\"])\n",
    "for num_digit in tqdm(data):\n",
    "    if int(num_digit)%2 == 1: samples_per_num_digit_train = 100\n",
    "    else: samples_per_num_digit_train = 0\n",
    "    for s in data[num_digit][:samples_per_num_digit_train]:\n",
    "        s1, s2 = s.split(\" + \")\n",
    "        s1, s2 = int(s1), int(s2)\n",
    "        row = {\n",
    "            \"input_str\": [s],\n",
    "            \"answer\": [str(s1+s2)]\n",
    "        }\n",
    "        row = pd.DataFrame(row)\n",
    "        train = pd.concat([train, pd.DataFrame(row)])\n",
    "    for s in data[num_digit][\n",
    "        samples_per_num_digit_train:samples_per_num_digit_train+samples_per_num_digit_val\n",
    "    ]:\n",
    "        s1, s2 = s.split(\" + \")\n",
    "        s1, s2 = int(s1), int(s2)\n",
    "        row = {\n",
    "            \"input_str\": [s],\n",
    "            \"answer\": [str(s1+s2)]\n",
    "        }\n",
    "        row = pd.DataFrame(row)\n",
    "        val = pd.concat([val, pd.DataFrame(row)])\n",
    "print(len(train), len(val))\n",
    "\n",
    "train.to_csv(f\"../data/finetune/{TASK}/odd_only_split/train.csv\", index=False)\n",
    "val.to_csv(f\"../data/finetune/{TASK}/odd_only_split/val.csv\", index=False)\n"
   ]
  },
  {
   "cell_type": "markdown",
   "metadata": {},
   "source": [
    "### Compute ACC"
   ]
  },
  {
   "cell_type": "code",
   "execution_count": 1,
   "metadata": {},
   "outputs": [],
   "source": [
    "from collections import Counter\n",
    "import json, re, math, sys\n",
    "from pprint import pprint\n",
    "import numpy as np\n",
    "from tqdm import tqdm\n",
    "sys.path.append(\"../scripts/\")\n",
    "from helper import *"
   ]
  },
  {
   "cell_type": "code",
   "execution_count": 8,
   "metadata": {},
   "outputs": [
    {
     "name": "stderr",
     "output_type": "stream",
     "text": [
      "  0%|          | 0/12800 [00:00<?, ?it/s]"
     ]
    },
    {
     "name": "stderr",
     "output_type": "stream",
     "text": [
      "100%|██████████| 12800/12800 [01:52<00:00, 113.80it/s]"
     ]
    },
    {
     "name": "stdout",
     "output_type": "stream",
     "text": [
      "testing acc = 0.054453125\n",
      "avg lcs_error =  51.45278030240436\n"
     ]
    },
    {
     "name": "stderr",
     "output_type": "stream",
     "text": [
      "\n"
     ]
    }
   ],
   "source": [
    "exp_handle = \"1205_200642\"\n",
    "infr_handle = \"0326_110216\"\n",
    "split = \"test\"\n",
    "with open(f\"../scripts/llama/output/{exp_handle}/{split}_samples/{infr_handle}.txt\", \"r\") as f:\n",
    "    lines = f.readlines()\n",
    "    if split == \"test\": lines = lines[1:]\n",
    "em = 0\n",
    "lcs_errors = []\n",
    "all_preds = []\n",
    "for l in tqdm(lines):\n",
    "    gth, pred = json.loads(l)[:2]\n",
    "    gth_result = int(gth.split(\".\")[0])\n",
    "    pred_result = -1\n",
    "    find = re.findall(r'(\\d+)', pred)\n",
    "    if find: pred_result = int(find[0])\n",
    "    all_preds.append(pred_result)\n",
    "    em += int(gth_result == pred_result) # int(-10<=gth_len-pred_len<=10) #\n",
    "    if not int(gth_result == pred_result): lcs_errors.append(len(str(gth_result)) - lcs(str(gth_result), str(pred_result)))\n",
    "print(f\"testing acc = {em / len(lines)}\") \n",
    "print(f\"avg lcs_error = \", np.mean(lcs_errors))"
   ]
  },
  {
   "cell_type": "code",
   "execution_count": 8,
   "metadata": {},
   "outputs": [],
   "source": [
    "import math \n",
    "def softmax(vec, temperature):    \n",
    "    sum_exp = sum(math.exp(x/temperature) for x in vec)\n",
    "    return [math.exp(x/temperature)/sum_exp for x in vec]"
   ]
  },
  {
   "cell_type": "code",
   "execution_count": 26,
   "metadata": {},
   "outputs": [
    {
     "data": {
      "text/plain": [
       "[0.09987517528842825,\n",
       " 0.30004160823719056,\n",
       " 0.30004160823719056,\n",
       " 0.30004160823719056]"
      ]
     },
     "execution_count": 26,
     "metadata": {},
     "output_type": "execute_result"
    }
   ],
   "source": [
    "vec = [-100, 10,10,10]\n",
    "softmax(vec, 100)"
   ]
  },
  {
   "cell_type": "markdown",
   "metadata": {},
   "source": []
  }
 ],
 "metadata": {
  "kernelspec": {
   "display_name": "llms_do_math",
   "language": "python",
   "name": "llms_do_math"
  },
  "language_info": {
   "codemirror_mode": {
    "name": "ipython",
    "version": 3
   },
   "file_extension": ".py",
   "mimetype": "text/x-python",
   "name": "python",
   "nbconvert_exporter": "python",
   "pygments_lexer": "ipython3",
   "version": "3.8.10"
  }
 },
 "nbformat": 4,
 "nbformat_minor": 2
}
