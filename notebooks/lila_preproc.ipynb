{
 "cells": [
  {
   "cell_type": "code",
   "execution_count": 1,
   "metadata": {},
   "outputs": [],
   "source": [
    "import os, random, json, re, sys\n",
    "sys.path.append(\"../scripts/\")\n",
    "from collections import defaultdict\n",
    "from pprint import pprint\n",
    "from tqdm import tqdm\n",
    "from helper import *"
   ]
  },
  {
   "cell_type": "code",
   "execution_count": null,
   "metadata": {},
   "outputs": [],
   "source": [
    "lila_src_files = os.listdir(\"../data/lila/all/\")\n",
    "\n",
    "# Take a look at categories (background knowledge, math capability, language complexity)\n",
    "categories = defaultdict(lambda: defaultdict(list))\n",
    "for f in lila_src_files:\n",
    "    j = json.load(open(f\"../data/lila/all/{f}\", \"r\"))\n",
    "    if len(j['Categories']) == 0: \n",
    "        categories[\"NA\"][0].append(f)\n",
    "        continue\n",
    "    for k, v in j['Categories'][0].items():\n",
    "        categories[k][v].append(f)\n",
    "#pprint(categories)\n",
    "tmp = categories.items()\n",
    "for k, v in tmp:\n",
    "    categories[k] = {_k:_v for _k, _v in sorted(v.items())}\n",
    "#json.dump(categories, open(\"../data/lila/categories.json\", \"w\"), indent=4)"
   ]
  },
  {
   "cell_type": "code",
   "execution_count": 19,
   "metadata": {},
   "outputs": [
    {
     "name": "stdout",
     "output_type": "stream",
     "text": [
      "31365\n",
      "8950\n"
     ]
    }
   ],
   "source": [
    "datasets = []\n",
    "\n",
    "iid_test = [json.loads(l) for l in open(\"../data/lila/multi/iid/test.json\", \"r\").readlines()]\n",
    "print(len(iid_test))\n",
    "iid_datasets = set([ex[\"dataset\"] for ex in iid_test])\n",
    "\n",
    "ood_test = [json.loads(l) for l in open(\"../data/lila/multi/ood/test.json\", \"r\").readlines()]\n",
    "print(len(ood_test))\n",
    "ood_datasets = set([ex[\"dataset\"] for ex in ood_test])"
   ]
  },
  {
   "cell_type": "code",
   "execution_count": 135,
   "metadata": {},
   "outputs": [
    {
     "name": "stdout",
     "output_type": "stream",
     "text": [
      "6366\n"
     ]
    }
   ],
   "source": [
    "# Filter iid_test and ood_test for examples whose Output Answer is a single number \n",
    "iid_selected_ids, ood_selected_ids = [], []\n",
    "for i, ex in enumerate(iid_test):\n",
    "    if len(ex['Output Answer']) > 1: continue\n",
    "    try: o = json.loads(ex['Output Answer'][0])\n",
    "    except json.decoder.JSONDecodeError: continue\n",
    "    if isinstance(o, float)or isinstance(o, int):\n",
    "        iid_selected_ids.append(i)\n",
    "for i, ex in enumerate(ood_test):\n",
    "    if len(ex['Output Answer']) > 1: continue\n",
    "    try: o = json.loads(ex['Output Answer'][0])\n",
    "    except json.decoder.JSONDecodeError: continue\n",
    "    if isinstance(o, float)or isinstance(o, int):\n",
    "        ood_selected_ids.append(i)\n",
    "print(len(iid_selected_ids) + len(ood_selected_ids))"
   ]
  },
  {
   "cell_type": "code",
   "execution_count": 136,
   "metadata": {},
   "outputs": [],
   "source": [
    "json.dump({\n",
    "             \"iid_test\": iid_selected_ids,\n",
    "             \"ood_test\": ood_selected_ids   \n",
    "            },\n",
    "          open(\"../data/lila/single_number_ans_ids.json\", \"w\")\n",
    "        )"
   ]
  },
  {
   "cell_type": "code",
   "execution_count": 133,
   "metadata": {},
   "outputs": [
    {
     "name": "stderr",
     "output_type": "stream",
     "text": [
      "100%|██████████| 27771/27771 [00:00<00:00, 109254.57it/s]"
     ]
    },
    {
     "name": "stdout",
     "output_type": "stream",
     "text": [
      "5342 0 22281 148\n"
     ]
    },
    {
     "name": "stderr",
     "output_type": "stream",
     "text": [
      "\n"
     ]
    }
   ],
   "source": [
    "answers = [ex['Output Answer'][0] for ex in iid_test if len(ex['Output Answer'])==1]\n",
    "print(len(answers))\n",
    "\n",
    "number_matched = []\n",
    "number_unmatched = []\n",
    "list_answers = []\n",
    "non_json = []\n",
    "for a in tqdm(answers):\n",
    "    try: o = json.loads(a)\n",
    "    except json.decoder.JSONDecodeError:\n",
    "        try: o = json.loads(\"[{}]\".format(\", \".join(a.split())))\n",
    "        except json.decoder.JSONDecodeError:\n",
    "            non_json.append(a)\n",
    "            continue\n",
    "    # It appears that json.loads handles regex. It even matches numbers like 1e-4\n",
    "    #if isinstance(o, str):\n",
    "    #    number = re.fullmatch(r'(-?\\d*\\.?\\d+)', a)\n",
    "    #    if number is None: number_unmatched.append(a)\n",
    "    #    else: number_matched.append(number.group())\n",
    "    if isinstance(o, float)or isinstance(o, int):\n",
    "        number_matched.append(o)\n",
    "    else:\n",
    "        list_answers.append(o)\n",
    "print(\n",
    "    len(number_matched), \n",
    "    len(number_unmatched), \n",
    "    len(non_json), \n",
    "    len(list_answers)\n",
    ")\n",
    "#json.dump(non_json, open(\"../data/lila/iid_test_nonjson_answers.json\", \"w\"), indent=4)\n"
   ]
  },
  {
   "cell_type": "code",
   "execution_count": 144,
   "metadata": {},
   "outputs": [],
   "source": [
    "def create_in_context_ex(template, template_arg, ex_separator=\"\\n\\n\"):\n",
    "    try:\n",
    "        return template.format(**template_arg) + ex_separator\n",
    "    except KeyError:\n",
    "        print(\"The question template and template args doesn't match!\")\n",
    "        raise"
   ]
  },
  {
   "cell_type": "code",
   "execution_count": 163,
   "metadata": {},
   "outputs": [
    {
     "name": "stdout",
     "output_type": "stream",
     "text": [
      "[402, 2662, 14043, 503, 14983, 21548, 14903, 9592, 309, 13751]\n",
      "Question: a dishonest shopkeeper professes to sell pulses at the cost price , but he uses a false weight of 920 gm . for a kg . his gain is … % .\n",
      "Program: ```n0 = 920.0\n",
      "t0 = 1.0 + 4.0\n",
      "t1 = t0 * 2.0\n",
      "t2 = t1 * 100.0\n",
      "t3 = n0 / t2\n",
      "t4 = 1 / t3\n",
      "t5 = t4 - 1.0\n",
      "answer = t5 * 100.0\n",
      "print(answer)```\n",
      "Answer: 8.695652173913038\n",
      "\n",
      "Question: Let t(u) = u**3 - 12*u**2 - 55*u + 45. Give t(15).\n",
      "Program: ```from sympy import *\n",
      "u = symbols(\"u\")\n",
      "def t(u):\n",
      "\treturn u**3 - 12*u**2 - 55*u + 45\n",
      "print(t(15))```\n",
      "Answer: -105\n",
      "\n",
      "Question: -29 - (-21 + 8) - (-5 + 1)\n",
      "Program: ```from sympy import *\n",
      "print(-29 - (-21 + 8) - (-5 + 1))```\n",
      "Answer: -12\n",
      "\n",
      "Question: You are 4 times as old as your sister . In 8 years time you will be twice as old as your sister . What are your ages now ?\n",
      "Program: ```from sympy import *\n",
      "x, y= symbols('x, y')\n",
      "answer = solve([y -( 4*y),y + 8 -( 2 *( y + 8 ))],(x,y))\n",
      "print(answer)```\n",
      "Answer: 4\n",
      "\n",
      "Question: Daisy bought a bag of potatoes that weighed 5 pounds. She also bought a bag of sweet potatoes that weighed 2 times as much as the potatoes and a bag of carrots that weighed 3 pounds fewer than the sweet potatoes. How many pounds of carrots did Daisy buy?\n",
      "Program: ```a=5*2\n",
      "b=a-3\n",
      "answer= b\n",
      "print(answer)```\n",
      "Answer: 7\n",
      "\n",
      "Question: mrs . evans gave a test to her freshmen economics class , which has 29 students enrolled and 24 of them answered question 1 correctly . if 22 answered question 2 correctly and 5 did not take the test then how many answered both questions correctly ?\n",
      "Program: ```n0 = 29.0\n",
      "n1 = 24.0\n",
      "n2 = 1.0\n",
      "n3 = 22.0\n",
      "n4 = 2.0\n",
      "n5 = 5.0\n",
      "t0 = n1 + n3\n",
      "t1 = n5 + t0\n",
      "answer = t1 - n0\n",
      "print(answer)```\n",
      "Answer: 22\n",
      "\n",
      "Question: Samwell owns an appliances store. For this week, one-fourth of their sales are smart TVs, one-eighth are analog TVs, and the rest are OLED TVs. If they were able to sell a total of 40 TVs, how many OLED TVs were they able to sell?\n",
      "Program: ```a=1/4*40\n",
      "b=1/8*40\n",
      "c=a+b\n",
      "d=40-c\n",
      "answer= d\n",
      "print(answer)```\n",
      "Answer: 25\n",
      "\n",
      "Question: When he arrived there, he went on to climb to the top of the falls. It usually takes 30 minutes for someone to get to the top. Stanley took time to see the view so his climb took 7 times longer than the usual. How many minutes did it take Stanley to get to the top?\n",
      "Program: ```ans=30*7\n",
      "print(ans)```\n",
      "Answer: 210\n",
      "\n",
      "Question: solution p is 20 percent lemonade and 80 percent carbonated water by volume ; solution q is 45 percent lemonade and 55 percent carbonated water by volume . if a mixture of pq contains 75 percent carbonated water , what percent of the volume of the mixture is p ?\n",
      "Program: ```n0 = 20.0\n",
      "n1 = 80.0\n",
      "n2 = 45.0\n",
      "n3 = 55.0\n",
      "n4 = 75.0\n",
      "t0 = n4 / 100.0\n",
      "t1 = n3 / 100.0\n",
      "t2 = n1 / 100.0\n",
      "t3 = t0 - t1\n",
      "t4 = t2 - t0\n",
      "t5 = t3 + t4\n",
      "t6 = t3 / t5\n",
      "answer = t6 * 100.0\n",
      "print(answer)```\n",
      "Answer: 79.99999999999999\n",
      "\n",
      "Question:  George had 30 dollars. For his birthday he got 16 more dollars but spent 38 on a new game. How much money does he have now? \n",
      "Program: ```answer=((30.0+16.0)-38.0)\n",
      "print(answer)```\n",
      "Answer: 8\n",
      "\n",
      "\n"
     ]
    }
   ],
   "source": [
    "# Create 10 in-context examples\n",
    "ids = random.sample(iid_selected_ids, 10)\n",
    "print(ids)\n",
    "template = (\n",
    "    \"Question: {Input}\"\n",
    "    \"\\n\"\n",
    "    \"Program: {Output Program}\"\n",
    "    \"\\n\"\n",
    "    \"Answer: {Output Answer}\"\n",
    ")\n",
    "\n",
    "in_context_ex = \"\"\n",
    "for i in ids:\n",
    "    ex = iid_test[i]\n",
    "    in_context_ex += create_in_context_ex(\n",
    "        template,\n",
    "        {\n",
    "            \"Input\": ex[\"Input\"],\n",
    "            \"Output Answer\": ex[\"Output Answer\"][0], \n",
    "            \"Output Program\": \"```{}```\".format(ex[\"Output Program\"][0]),\n",
    "        }\n",
    "    )\n",
    "print(in_context_ex)"
   ]
  },
  {
   "cell_type": "code",
   "execution_count": 164,
   "metadata": {},
   "outputs": [],
   "source": [
    "with open(\"../data/lila/single_number_ans_in_ctx_ex.txt\", \"w\") as f:\n",
    "    f.write(in_context_ex)"
   ]
  },
  {
   "cell_type": "markdown",
   "metadata": {},
   "source": [
    "### Draft"
   ]
  },
  {
   "cell_type": "code",
   "execution_count": null,
   "metadata": {},
   "outputs": [],
   "source": [
    "from sympy.parsing.latex import parse_latex\n",
    "from sympy import *\n",
    "#s = \"Multiplying both sides by $(x - 4)(2x + 1),$ we get\\n\\\\[(2x + 3)(2x + 1) - (2x - 8)(x - 4) = (x - 4)(2x + 1).\\\\]This simplifies to $31x - 25 = 0,$ so $x = \\\\boxed{\\\\frac{25}{31}}.$\"\n",
    "for s in non_json[497:518]:\n",
    "    s = normalize_final_answer(s)\n",
    "    #print(s)\n",
    "    s = parse_latex(r'{}'.format(s))\n",
    "    #print(s, type(s))\n",
    "    s = simplify(s)\n",
    "    print(s, type(s))\n"
   ]
  },
  {
   "cell_type": "code",
   "execution_count": 81,
   "metadata": {},
   "outputs": [
    {
     "data": {
      "text/latex": [
       "$\\displaystyle 51 b_{22}$"
      ],
      "text/plain": [
       "51*b_{22}"
      ]
     },
     "execution_count": 81,
     "metadata": {},
     "output_type": "execute_result"
    }
   ],
   "source": [
    "s = \"$\\\\text{51b}_{22}$\"\n",
    "s = normalize_final_answer(s)\n",
    "s = parse_latex(r'{}'.format(s))\n",
    "s"
   ]
  },
  {
   "cell_type": "code",
   "execution_count": null,
   "metadata": {},
   "outputs": [],
   "source": []
  }
 ],
 "metadata": {
  "kernelspec": {
   "display_name": "venv",
   "language": "python",
   "name": "python3"
  },
  "language_info": {
   "codemirror_mode": {
    "name": "ipython",
    "version": 3
   },
   "file_extension": ".py",
   "mimetype": "text/x-python",
   "name": "python",
   "nbconvert_exporter": "python",
   "pygments_lexer": "ipython3",
   "version": "3.8.3"
  },
  "orig_nbformat": 4
 },
 "nbformat": 4,
 "nbformat_minor": 2
}
