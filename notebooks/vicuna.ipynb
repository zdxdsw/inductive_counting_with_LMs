{
 "cells": [
  {
   "cell_type": "code",
   "execution_count": 1,
   "metadata": {},
   "outputs": [
    {
     "name": "stderr",
     "output_type": "stream",
     "text": [
      "/home/yingshac/workspace/llms_do_math/venv/lib/python3.8/site-packages/tqdm/auto.py:21: TqdmWarning: IProgress not found. Please update jupyter and ipywidgets. See https://ipywidgets.readthedocs.io/en/stable/user_install.html\n",
      "  from .autonotebook import tqdm as notebook_tqdm\n"
     ]
    }
   ],
   "source": [
    "from transformers import LlamaForCausalLM, LlamaTokenizer\n",
    "import torch\n",
    "import random, json, argparse, re, os, sys\n",
    "os.environ['HF_HOME'] = '/data/yingshac/hf_cache'\n",
    "#os.environ[\"CUDA_VISIBLE_DEVICES\"] = \"1\"  \n",
    "sys.path.append(\"../scripts/\")\n",
    "from pprint import pprint\n",
    "from tqdm import tqdm\n",
    "from collections import defaultdict, Counter\n",
    "from helper import *\n",
    "import pytz\n",
    "from datetime import datetime\n",
    "timezone = pytz.timezone('America/New_York') \n",
    "import matplotlib.pyplot as plt\n",
    "import numpy as np\n"
   ]
  },
  {
   "cell_type": "code",
   "execution_count": 2,
   "metadata": {},
   "outputs": [
    {
     "ename": "HFValidationError",
     "evalue": "Repo id must be in the form 'repo_name' or 'namespace/repo_name': '/home/yingshan/data/LLM/vicuna-13b'. Use `repo_type` argument if needed.",
     "output_type": "error",
     "traceback": [
      "\u001b[0;31m---------------------------------------------------------------------------\u001b[0m",
      "\u001b[0;31mHFValidationError\u001b[0m                         Traceback (most recent call last)",
      "Cell \u001b[0;32mIn[2], line 1\u001b[0m\n\u001b[0;32m----> 1\u001b[0m tokenizer \u001b[38;5;241m=\u001b[39m \u001b[43mLlamaTokenizer\u001b[49m\u001b[38;5;241;43m.\u001b[39;49m\u001b[43mfrom_pretrained\u001b[49m\u001b[43m(\u001b[49m\u001b[38;5;124;43m\"\u001b[39;49m\u001b[38;5;124;43m/home/yingshan/data/LLM/vicuna-13b\u001b[39;49m\u001b[38;5;124;43m\"\u001b[39;49m\u001b[43m,\u001b[49m\u001b[43m \u001b[49m\u001b[43mtorch_dtype\u001b[49m\u001b[38;5;241;43m=\u001b[39;49m\u001b[43mtorch\u001b[49m\u001b[38;5;241;43m.\u001b[39;49m\u001b[43mfloat16\u001b[49m\u001b[43m)\u001b[49m\n\u001b[1;32m      2\u001b[0m model \u001b[38;5;241m=\u001b[39m LlamaForCausalLM\u001b[38;5;241m.\u001b[39mfrom_pretrained(\u001b[38;5;124m\"\u001b[39m\u001b[38;5;124m/home/yingshan/data/LLM/vicuna-13b\u001b[39m\u001b[38;5;124m\"\u001b[39m, torch_dtype\u001b[38;5;241m=\u001b[39mtorch\u001b[38;5;241m.\u001b[39mfloat16)\n",
      "File \u001b[0;32m~/workspace/llms_do_math/venv/lib/python3.8/site-packages/transformers/tokenization_utils_base.py:1947\u001b[0m, in \u001b[0;36mPreTrainedTokenizerBase.from_pretrained\u001b[0;34m(cls, pretrained_model_name_or_path, cache_dir, force_download, local_files_only, token, revision, *init_inputs, **kwargs)\u001b[0m\n\u001b[1;32m   1944\u001b[0m \u001b[38;5;28;01mif\u001b[39;00m \u001b[38;5;124m\"\u001b[39m\u001b[38;5;124mtokenizer_file\u001b[39m\u001b[38;5;124m\"\u001b[39m \u001b[38;5;129;01min\u001b[39;00m vocab_files:\n\u001b[1;32m   1945\u001b[0m     \u001b[38;5;66;03m# Try to get the tokenizer config to see if there are versioned tokenizer files.\u001b[39;00m\n\u001b[1;32m   1946\u001b[0m     fast_tokenizer_file \u001b[38;5;241m=\u001b[39m FULL_TOKENIZER_FILE\n\u001b[0;32m-> 1947\u001b[0m     resolved_config_file \u001b[38;5;241m=\u001b[39m \u001b[43mcached_file\u001b[49m\u001b[43m(\u001b[49m\n\u001b[1;32m   1948\u001b[0m \u001b[43m        \u001b[49m\u001b[43mpretrained_model_name_or_path\u001b[49m\u001b[43m,\u001b[49m\n\u001b[1;32m   1949\u001b[0m \u001b[43m        \u001b[49m\u001b[43mTOKENIZER_CONFIG_FILE\u001b[49m\u001b[43m,\u001b[49m\n\u001b[1;32m   1950\u001b[0m \u001b[43m        \u001b[49m\u001b[43mcache_dir\u001b[49m\u001b[38;5;241;43m=\u001b[39;49m\u001b[43mcache_dir\u001b[49m\u001b[43m,\u001b[49m\n\u001b[1;32m   1951\u001b[0m \u001b[43m        \u001b[49m\u001b[43mforce_download\u001b[49m\u001b[38;5;241;43m=\u001b[39;49m\u001b[43mforce_download\u001b[49m\u001b[43m,\u001b[49m\n\u001b[1;32m   1952\u001b[0m \u001b[43m        \u001b[49m\u001b[43mresume_download\u001b[49m\u001b[38;5;241;43m=\u001b[39;49m\u001b[43mresume_download\u001b[49m\u001b[43m,\u001b[49m\n\u001b[1;32m   1953\u001b[0m \u001b[43m        \u001b[49m\u001b[43mproxies\u001b[49m\u001b[38;5;241;43m=\u001b[39;49m\u001b[43mproxies\u001b[49m\u001b[43m,\u001b[49m\n\u001b[1;32m   1954\u001b[0m \u001b[43m        \u001b[49m\u001b[43mtoken\u001b[49m\u001b[38;5;241;43m=\u001b[39;49m\u001b[43mtoken\u001b[49m\u001b[43m,\u001b[49m\n\u001b[1;32m   1955\u001b[0m \u001b[43m        \u001b[49m\u001b[43mrevision\u001b[49m\u001b[38;5;241;43m=\u001b[39;49m\u001b[43mrevision\u001b[49m\u001b[43m,\u001b[49m\n\u001b[1;32m   1956\u001b[0m \u001b[43m        \u001b[49m\u001b[43mlocal_files_only\u001b[49m\u001b[38;5;241;43m=\u001b[39;49m\u001b[43mlocal_files_only\u001b[49m\u001b[43m,\u001b[49m\n\u001b[1;32m   1957\u001b[0m \u001b[43m        \u001b[49m\u001b[43msubfolder\u001b[49m\u001b[38;5;241;43m=\u001b[39;49m\u001b[43msubfolder\u001b[49m\u001b[43m,\u001b[49m\n\u001b[1;32m   1958\u001b[0m \u001b[43m        \u001b[49m\u001b[43muser_agent\u001b[49m\u001b[38;5;241;43m=\u001b[39;49m\u001b[43muser_agent\u001b[49m\u001b[43m,\u001b[49m\n\u001b[1;32m   1959\u001b[0m \u001b[43m        \u001b[49m\u001b[43m_raise_exceptions_for_missing_entries\u001b[49m\u001b[38;5;241;43m=\u001b[39;49m\u001b[38;5;28;43;01mFalse\u001b[39;49;00m\u001b[43m,\u001b[49m\n\u001b[1;32m   1960\u001b[0m \u001b[43m        \u001b[49m\u001b[43m_raise_exceptions_for_connection_errors\u001b[49m\u001b[38;5;241;43m=\u001b[39;49m\u001b[38;5;28;43;01mFalse\u001b[39;49;00m\u001b[43m,\u001b[49m\n\u001b[1;32m   1961\u001b[0m \u001b[43m        \u001b[49m\u001b[43m_commit_hash\u001b[49m\u001b[38;5;241;43m=\u001b[39;49m\u001b[43mcommit_hash\u001b[49m\u001b[43m,\u001b[49m\n\u001b[1;32m   1962\u001b[0m \u001b[43m    \u001b[49m\u001b[43m)\u001b[49m\n\u001b[1;32m   1963\u001b[0m     commit_hash \u001b[38;5;241m=\u001b[39m extract_commit_hash(resolved_config_file, commit_hash)\n\u001b[1;32m   1964\u001b[0m     \u001b[38;5;28;01mif\u001b[39;00m resolved_config_file \u001b[38;5;129;01mis\u001b[39;00m \u001b[38;5;129;01mnot\u001b[39;00m \u001b[38;5;28;01mNone\u001b[39;00m:\n",
      "File \u001b[0;32m~/workspace/llms_do_math/venv/lib/python3.8/site-packages/transformers/utils/hub.py:430\u001b[0m, in \u001b[0;36mcached_file\u001b[0;34m(path_or_repo_id, filename, cache_dir, force_download, resume_download, proxies, token, revision, local_files_only, subfolder, repo_type, user_agent, _raise_exceptions_for_missing_entries, _raise_exceptions_for_connection_errors, _commit_hash, **deprecated_kwargs)\u001b[0m\n\u001b[1;32m    427\u001b[0m user_agent \u001b[38;5;241m=\u001b[39m http_user_agent(user_agent)\n\u001b[1;32m    428\u001b[0m \u001b[38;5;28;01mtry\u001b[39;00m:\n\u001b[1;32m    429\u001b[0m     \u001b[38;5;66;03m# Load from URL or cache if already cached\u001b[39;00m\n\u001b[0;32m--> 430\u001b[0m     resolved_file \u001b[38;5;241m=\u001b[39m \u001b[43mhf_hub_download\u001b[49m\u001b[43m(\u001b[49m\n\u001b[1;32m    431\u001b[0m \u001b[43m        \u001b[49m\u001b[43mpath_or_repo_id\u001b[49m\u001b[43m,\u001b[49m\n\u001b[1;32m    432\u001b[0m \u001b[43m        \u001b[49m\u001b[43mfilename\u001b[49m\u001b[43m,\u001b[49m\n\u001b[1;32m    433\u001b[0m \u001b[43m        \u001b[49m\u001b[43msubfolder\u001b[49m\u001b[38;5;241;43m=\u001b[39;49m\u001b[38;5;28;43;01mNone\u001b[39;49;00m\u001b[43m \u001b[49m\u001b[38;5;28;43;01mif\u001b[39;49;00m\u001b[43m \u001b[49m\u001b[38;5;28;43mlen\u001b[39;49m\u001b[43m(\u001b[49m\u001b[43msubfolder\u001b[49m\u001b[43m)\u001b[49m\u001b[43m \u001b[49m\u001b[38;5;241;43m==\u001b[39;49m\u001b[43m \u001b[49m\u001b[38;5;241;43m0\u001b[39;49m\u001b[43m \u001b[49m\u001b[38;5;28;43;01melse\u001b[39;49;00m\u001b[43m \u001b[49m\u001b[43msubfolder\u001b[49m\u001b[43m,\u001b[49m\n\u001b[1;32m    434\u001b[0m \u001b[43m        \u001b[49m\u001b[43mrepo_type\u001b[49m\u001b[38;5;241;43m=\u001b[39;49m\u001b[43mrepo_type\u001b[49m\u001b[43m,\u001b[49m\n\u001b[1;32m    435\u001b[0m \u001b[43m        \u001b[49m\u001b[43mrevision\u001b[49m\u001b[38;5;241;43m=\u001b[39;49m\u001b[43mrevision\u001b[49m\u001b[43m,\u001b[49m\n\u001b[1;32m    436\u001b[0m \u001b[43m        \u001b[49m\u001b[43mcache_dir\u001b[49m\u001b[38;5;241;43m=\u001b[39;49m\u001b[43mcache_dir\u001b[49m\u001b[43m,\u001b[49m\n\u001b[1;32m    437\u001b[0m \u001b[43m        \u001b[49m\u001b[43muser_agent\u001b[49m\u001b[38;5;241;43m=\u001b[39;49m\u001b[43muser_agent\u001b[49m\u001b[43m,\u001b[49m\n\u001b[1;32m    438\u001b[0m \u001b[43m        \u001b[49m\u001b[43mforce_download\u001b[49m\u001b[38;5;241;43m=\u001b[39;49m\u001b[43mforce_download\u001b[49m\u001b[43m,\u001b[49m\n\u001b[1;32m    439\u001b[0m \u001b[43m        \u001b[49m\u001b[43mproxies\u001b[49m\u001b[38;5;241;43m=\u001b[39;49m\u001b[43mproxies\u001b[49m\u001b[43m,\u001b[49m\n\u001b[1;32m    440\u001b[0m \u001b[43m        \u001b[49m\u001b[43mresume_download\u001b[49m\u001b[38;5;241;43m=\u001b[39;49m\u001b[43mresume_download\u001b[49m\u001b[43m,\u001b[49m\n\u001b[1;32m    441\u001b[0m \u001b[43m        \u001b[49m\u001b[43mtoken\u001b[49m\u001b[38;5;241;43m=\u001b[39;49m\u001b[43mtoken\u001b[49m\u001b[43m,\u001b[49m\n\u001b[1;32m    442\u001b[0m \u001b[43m        \u001b[49m\u001b[43mlocal_files_only\u001b[49m\u001b[38;5;241;43m=\u001b[39;49m\u001b[43mlocal_files_only\u001b[49m\u001b[43m,\u001b[49m\n\u001b[1;32m    443\u001b[0m \u001b[43m    \u001b[49m\u001b[43m)\u001b[49m\n\u001b[1;32m    444\u001b[0m \u001b[38;5;28;01mexcept\u001b[39;00m GatedRepoError \u001b[38;5;28;01mas\u001b[39;00m e:\n\u001b[1;32m    445\u001b[0m     \u001b[38;5;28;01mraise\u001b[39;00m \u001b[38;5;167;01mEnvironmentError\u001b[39;00m(\n\u001b[1;32m    446\u001b[0m         \u001b[38;5;124m\"\u001b[39m\u001b[38;5;124mYou are trying to access a gated repo.\u001b[39m\u001b[38;5;130;01m\\n\u001b[39;00m\u001b[38;5;124mMake sure to request access at \u001b[39m\u001b[38;5;124m\"\u001b[39m\n\u001b[1;32m    447\u001b[0m         \u001b[38;5;124mf\u001b[39m\u001b[38;5;124m\"\u001b[39m\u001b[38;5;124mhttps://huggingface.co/\u001b[39m\u001b[38;5;132;01m{\u001b[39;00mpath_or_repo_id\u001b[38;5;132;01m}\u001b[39;00m\u001b[38;5;124m and pass a token having permission to this repo either \u001b[39m\u001b[38;5;124m\"\u001b[39m\n\u001b[1;32m    448\u001b[0m         \u001b[38;5;124m\"\u001b[39m\u001b[38;5;124mby logging in with `huggingface-cli login` or by passing `token=<your_token>`.\u001b[39m\u001b[38;5;124m\"\u001b[39m\n\u001b[1;32m    449\u001b[0m     ) \u001b[38;5;28;01mfrom\u001b[39;00m \u001b[38;5;21;01me\u001b[39;00m\n",
      "File \u001b[0;32m~/workspace/llms_do_math/venv/lib/python3.8/site-packages/huggingface_hub/utils/_validators.py:110\u001b[0m, in \u001b[0;36mvalidate_hf_hub_args.<locals>._inner_fn\u001b[0;34m(*args, **kwargs)\u001b[0m\n\u001b[1;32m    105\u001b[0m \u001b[38;5;28;01mfor\u001b[39;00m arg_name, arg_value \u001b[38;5;129;01min\u001b[39;00m chain(\n\u001b[1;32m    106\u001b[0m     \u001b[38;5;28mzip\u001b[39m(signature\u001b[38;5;241m.\u001b[39mparameters, args),  \u001b[38;5;66;03m# Args values\u001b[39;00m\n\u001b[1;32m    107\u001b[0m     kwargs\u001b[38;5;241m.\u001b[39mitems(),  \u001b[38;5;66;03m# Kwargs values\u001b[39;00m\n\u001b[1;32m    108\u001b[0m ):\n\u001b[1;32m    109\u001b[0m     \u001b[38;5;28;01mif\u001b[39;00m arg_name \u001b[38;5;129;01min\u001b[39;00m [\u001b[38;5;124m\"\u001b[39m\u001b[38;5;124mrepo_id\u001b[39m\u001b[38;5;124m\"\u001b[39m, \u001b[38;5;124m\"\u001b[39m\u001b[38;5;124mfrom_id\u001b[39m\u001b[38;5;124m\"\u001b[39m, \u001b[38;5;124m\"\u001b[39m\u001b[38;5;124mto_id\u001b[39m\u001b[38;5;124m\"\u001b[39m]:\n\u001b[0;32m--> 110\u001b[0m         \u001b[43mvalidate_repo_id\u001b[49m\u001b[43m(\u001b[49m\u001b[43marg_value\u001b[49m\u001b[43m)\u001b[49m\n\u001b[1;32m    112\u001b[0m     \u001b[38;5;28;01melif\u001b[39;00m arg_name \u001b[38;5;241m==\u001b[39m \u001b[38;5;124m\"\u001b[39m\u001b[38;5;124mtoken\u001b[39m\u001b[38;5;124m\"\u001b[39m \u001b[38;5;129;01mand\u001b[39;00m arg_value \u001b[38;5;129;01mis\u001b[39;00m \u001b[38;5;129;01mnot\u001b[39;00m \u001b[38;5;28;01mNone\u001b[39;00m:\n\u001b[1;32m    113\u001b[0m         has_token \u001b[38;5;241m=\u001b[39m \u001b[38;5;28;01mTrue\u001b[39;00m\n",
      "File \u001b[0;32m~/workspace/llms_do_math/venv/lib/python3.8/site-packages/huggingface_hub/utils/_validators.py:158\u001b[0m, in \u001b[0;36mvalidate_repo_id\u001b[0;34m(repo_id)\u001b[0m\n\u001b[1;32m    155\u001b[0m     \u001b[38;5;28;01mraise\u001b[39;00m HFValidationError(\u001b[38;5;124mf\u001b[39m\u001b[38;5;124m\"\u001b[39m\u001b[38;5;124mRepo id must be a string, not \u001b[39m\u001b[38;5;132;01m{\u001b[39;00m\u001b[38;5;28mtype\u001b[39m(repo_id)\u001b[38;5;132;01m}\u001b[39;00m\u001b[38;5;124m: \u001b[39m\u001b[38;5;124m'\u001b[39m\u001b[38;5;132;01m{\u001b[39;00mrepo_id\u001b[38;5;132;01m}\u001b[39;00m\u001b[38;5;124m'\u001b[39m\u001b[38;5;124m.\u001b[39m\u001b[38;5;124m\"\u001b[39m)\n\u001b[1;32m    157\u001b[0m \u001b[38;5;28;01mif\u001b[39;00m repo_id\u001b[38;5;241m.\u001b[39mcount(\u001b[38;5;124m\"\u001b[39m\u001b[38;5;124m/\u001b[39m\u001b[38;5;124m\"\u001b[39m) \u001b[38;5;241m>\u001b[39m \u001b[38;5;241m1\u001b[39m:\n\u001b[0;32m--> 158\u001b[0m     \u001b[38;5;28;01mraise\u001b[39;00m HFValidationError(\n\u001b[1;32m    159\u001b[0m         \u001b[38;5;124m\"\u001b[39m\u001b[38;5;124mRepo id must be in the form \u001b[39m\u001b[38;5;124m'\u001b[39m\u001b[38;5;124mrepo_name\u001b[39m\u001b[38;5;124m'\u001b[39m\u001b[38;5;124m or \u001b[39m\u001b[38;5;124m'\u001b[39m\u001b[38;5;124mnamespace/repo_name\u001b[39m\u001b[38;5;124m'\u001b[39m\u001b[38;5;124m:\u001b[39m\u001b[38;5;124m\"\u001b[39m\n\u001b[1;32m    160\u001b[0m         \u001b[38;5;124mf\u001b[39m\u001b[38;5;124m\"\u001b[39m\u001b[38;5;124m \u001b[39m\u001b[38;5;124m'\u001b[39m\u001b[38;5;132;01m{\u001b[39;00mrepo_id\u001b[38;5;132;01m}\u001b[39;00m\u001b[38;5;124m'\u001b[39m\u001b[38;5;124m. Use `repo_type` argument if needed.\u001b[39m\u001b[38;5;124m\"\u001b[39m\n\u001b[1;32m    161\u001b[0m     )\n\u001b[1;32m    163\u001b[0m \u001b[38;5;28;01mif\u001b[39;00m \u001b[38;5;129;01mnot\u001b[39;00m REPO_ID_REGEX\u001b[38;5;241m.\u001b[39mmatch(repo_id):\n\u001b[1;32m    164\u001b[0m     \u001b[38;5;28;01mraise\u001b[39;00m HFValidationError(\n\u001b[1;32m    165\u001b[0m         \u001b[38;5;124m\"\u001b[39m\u001b[38;5;124mRepo id must use alphanumeric chars or \u001b[39m\u001b[38;5;124m'\u001b[39m\u001b[38;5;124m-\u001b[39m\u001b[38;5;124m'\u001b[39m\u001b[38;5;124m, \u001b[39m\u001b[38;5;124m'\u001b[39m\u001b[38;5;124m_\u001b[39m\u001b[38;5;124m'\u001b[39m\u001b[38;5;124m, \u001b[39m\u001b[38;5;124m'\u001b[39m\u001b[38;5;124m.\u001b[39m\u001b[38;5;124m'\u001b[39m\u001b[38;5;124m, \u001b[39m\u001b[38;5;124m'\u001b[39m\u001b[38;5;124m--\u001b[39m\u001b[38;5;124m'\u001b[39m\u001b[38;5;124m and \u001b[39m\u001b[38;5;124m'\u001b[39m\u001b[38;5;124m..\u001b[39m\u001b[38;5;124m'\u001b[39m\u001b[38;5;124m are\u001b[39m\u001b[38;5;124m\"\u001b[39m\n\u001b[1;32m    166\u001b[0m         \u001b[38;5;124m\"\u001b[39m\u001b[38;5;124m forbidden, \u001b[39m\u001b[38;5;124m'\u001b[39m\u001b[38;5;124m-\u001b[39m\u001b[38;5;124m'\u001b[39m\u001b[38;5;124m and \u001b[39m\u001b[38;5;124m'\u001b[39m\u001b[38;5;124m.\u001b[39m\u001b[38;5;124m'\u001b[39m\u001b[38;5;124m cannot start or end the name, max length is 96:\u001b[39m\u001b[38;5;124m\"\u001b[39m\n\u001b[1;32m    167\u001b[0m         \u001b[38;5;124mf\u001b[39m\u001b[38;5;124m\"\u001b[39m\u001b[38;5;124m \u001b[39m\u001b[38;5;124m'\u001b[39m\u001b[38;5;132;01m{\u001b[39;00mrepo_id\u001b[38;5;132;01m}\u001b[39;00m\u001b[38;5;124m'\u001b[39m\u001b[38;5;124m.\u001b[39m\u001b[38;5;124m\"\u001b[39m\n\u001b[1;32m    168\u001b[0m     )\n",
      "\u001b[0;31mHFValidationError\u001b[0m: Repo id must be in the form 'repo_name' or 'namespace/repo_name': '/home/yingshan/data/LLM/vicuna-13b'. Use `repo_type` argument if needed."
     ]
    }
   ],
   "source": [
    "tokenizer = LlamaTokenizer.from_pretrained(\"/home/yingshan/data/LLM/vicuna-13b\", torch_dtype=torch.float16)\n",
    "model = LlamaForCausalLM.from_pretrained(\"/home/yingshan/data/LLM/vicuna-13b\", torch_dtype=torch.float16)"
   ]
  },
  {
   "cell_type": "code",
   "execution_count": 8,
   "metadata": {},
   "outputs": [
    {
     "data": {
      "text/plain": [
       "LlamaForCausalLM(\n",
       "  (model): LlamaModel(\n",
       "    (embed_tokens): Embedding(32000, 5120, padding_idx=0)\n",
       "    (layers): ModuleList(\n",
       "      (0-39): 40 x LlamaDecoderLayer(\n",
       "        (self_attn): LlamaAttention(\n",
       "          (q_proj): Linear(in_features=5120, out_features=5120, bias=False)\n",
       "          (k_proj): Linear(in_features=5120, out_features=5120, bias=False)\n",
       "          (v_proj): Linear(in_features=5120, out_features=5120, bias=False)\n",
       "          (o_proj): Linear(in_features=5120, out_features=5120, bias=False)\n",
       "          (rotary_emb): LlamaRotaryEmbedding()\n",
       "        )\n",
       "        (mlp): LlamaMLP(\n",
       "          (gate_proj): Linear(in_features=5120, out_features=13824, bias=False)\n",
       "          (up_proj): Linear(in_features=5120, out_features=13824, bias=False)\n",
       "          (down_proj): Linear(in_features=13824, out_features=5120, bias=False)\n",
       "          (act_fn): SiLUActivation()\n",
       "        )\n",
       "        (input_layernorm): LlamaRMSNorm()\n",
       "        (post_attention_layernorm): LlamaRMSNorm()\n",
       "      )\n",
       "    )\n",
       "    (norm): LlamaRMSNorm()\n",
       "  )\n",
       "  (lm_head): Linear(in_features=5120, out_features=32000, bias=False)\n",
       ")"
      ]
     },
     "execution_count": 8,
     "metadata": {},
     "output_type": "execute_result"
    }
   ],
   "source": [
    "model.cuda()"
   ]
  },
  {
   "cell_type": "code",
   "execution_count": 4,
   "metadata": {},
   "outputs": [],
   "source": [
    "iid_test = [json.loads(l) for l in open(\"../data/lila/multi/iid/test.json\", \"r\").readlines()]\n",
    "ood_test = [json.loads(l) for l in open(\"../data/lila/multi/ood/test.json\", \"r\").readlines()]\n",
    "tmp = json.load(open(\"../data/lila/single_number_ans_ids.json\", \"r\"))\n",
    "iid_selected_ids, ood_selected_ids = tmp['iid_test'], tmp['ood_test']"
   ]
  },
  {
   "cell_type": "code",
   "execution_count": 5,
   "metadata": {},
   "outputs": [
    {
     "data": {
      "text/plain": [
       "Counter({1: 6351, 2: 15})"
      ]
     },
     "execution_count": 5,
     "metadata": {},
     "output_type": "execute_result"
    }
   ],
   "source": [
    "# Avg #Program annotations\n",
    "c = Counter([len(iid_test[i]['Output Program']) for i in iid_selected_ids] + [len(ood_test[i]['Output Program']) for i in ood_selected_ids])\n",
    "c"
   ]
  },
  {
   "cell_type": "code",
   "execution_count": 8,
   "metadata": {},
   "outputs": [
    {
     "name": "stdout",
     "output_type": "stream",
     "text": [
      "29.747879359095194 20.07177799335519\n"
     ]
    },
    {
     "data": {
      "image/png": "[encoded data removed]",
      "text/plain": [
       "<Figure size 640x480 with 1 Axes>"
      ]
     },
     "metadata": {},
     "output_type": "display_data"
    }
   ],
   "source": [
    "# Avg #tokens split by spaces\n",
    "lengths = []\n",
    "symbols = ['+', '-', '*', '/', '=', '(', ')', ',']\n",
    "for i in iid_selected_ids:\n",
    "    ex = iid_test[i]\n",
    "    x = \" \".join([ex['Output Program'][0], ex['Output Answer'][0]]) \n",
    "    for s in symbols: x = x.replace(s, f' {s} ')\n",
    "    lengths.append(len(x.split()))\n",
    "for i in ood_selected_ids:\n",
    "    ex = ood_test[i]\n",
    "    x = \" \".join([ex['Output Program'][0], ex['Output Answer'][0]]) \n",
    "    for s in symbols: x = x.replace(s, f' {s} ')\n",
    "    lengths.append(len(x.split()))\n",
    "print(np.mean(lengths), np.std(lengths))\n",
    "plt.hist(lengths, 50, density = 1, color ='green', alpha = 0.7)\n",
    "plt.show()"
   ]
  },
  {
   "cell_type": "code",
   "execution_count": 14,
   "metadata": {},
   "outputs": [
    {
     "name": "stdout",
     "output_type": "stream",
     "text": [
      "3.6965127238454287 4.472130029072504\n"
     ]
    },
    {
     "data": {
      "image/png": "[encoded data removed]",
      "text/plain": [
       "<Figure size 640x480 with 1 Axes>"
      ]
     },
     "metadata": {},
     "output_type": "display_data"
    }
   ],
   "source": [
    "# Avg #tokens split by spaces\n",
    "lengths = []\n",
    "symbols = ['+', '-', '*', '/', '=', '(', ')', ',']\n",
    "for i in iid_selected_ids:\n",
    "    ex = iid_test[i]\n",
    "    x = ex['Output Answer'][0]\n",
    "    #for s in symbols: x = x.replace(s, f' {s} ')\n",
    "    #lengths.append(len(x.split()))\n",
    "    lengths.append(len(x))\n",
    "for i in ood_selected_ids:\n",
    "    ex = ood_test[i]\n",
    "    x = ex['Output Answer'][0]\n",
    "    #for s in symbols: x = x.replace(s, f' {s} ')\n",
    "    #lengths.append(len(x.split()))\n",
    "    lengths.append(len(x))\n",
    "print(np.mean(lengths), np.std(lengths))\n",
    "plt.hist(lengths, 50, density = 1, color ='green', alpha = 0.7)\n",
    "plt.show()"
   ]
  },
  {
   "cell_type": "code",
   "execution_count": 10,
   "metadata": {},
   "outputs": [],
   "source": [
    "# Load pre-selected 10 in-context examples\n",
    "with open(\"../data/lila/single_number_ans_in_ctx_ex_QA.txt\", \"r\") as f:\n",
    "    in_context_ex = \"\".join(f.readlines())"
   ]
  },
  {
   "cell_type": "code",
   "execution_count": 9,
   "metadata": {},
   "outputs": [],
   "source": [
    "def generate(prompt):\n",
    "    input_ids = tokenizer([prompt]).input_ids\n",
    "    output_ids = model.generate(\n",
    "        torch.as_tensor(input_ids).cuda(),\n",
    "        do_sample=False, # do_sample=False == Greedy\n",
    "        #temperature=0.7,\n",
    "        max_new_tokens=64,\n",
    "    )\n",
    "    output_ids = output_ids[0][len(input_ids[0]) :]\n",
    "    outputs = tokenizer.decode(output_ids, skip_special_tokens=True).strip()\n",
    "    return outputs"
   ]
  },
  {
   "cell_type": "code",
   "execution_count": 63,
   "metadata": {},
   "outputs": [
    {
     "name": "stdout",
     "output_type": "stream",
     "text": [
      "320\n",
      "How many digits are there in \"5 4 3 6 0 0 9 8 2 1 7 5 3 4 1 2 4 3 5 6 7 5 6 8 7 6 8 7 0 8 9 6 7 5 8 6 4 7 5 3 6 4 0 9 2 3 6 0 7 8 4 5 2 3 1 3 6 5 9 7 9 8 4 5 3 2 4 5 6 7 8 9 0 9 8 0 9 0 9 5 7 7 3 4 2 6 6 8 7 9 6 4 5 1 2 1 3 4 6 4 8 7 8 4 6 4 2 3 4 7 5 7 9 8 5 7 6 3 4 3 1 3 4 6 4 6 7 0 9 7 8 6 3 4 1 3 5 3 7 5 6 9 8 9 6 5 4 2 1 2 3 8 7 6 5 4 3 2 1 2 3 5 6 9 3 4 2 9 4 5 4 3 1 7 9 9 0 7 3 2 5 3 5 3 8 9 5 6 5 5 2 3 2 5 3 5 8 6 9 8 6 5 3 4 5 4 8 9 5 6 5 3 5 2 7 6 5 4 3 4 5 6 7 8 9 0 9 8 7 6 5 4 3 2 3 4 5 6 7 2 5 3 1 4 2 4 3 5 6 4 7 6 5 8 7 6 9 8 7 0 6 9 7 5 8 6 4 7 5 9 1 0 2 8 4 0 9 4 2 4 3 5 6 8 9 8 6 7 5 4 3 1 2 2 4 3 5 4 6 5 7 6 9 8 7 6 5 4 3 1 2 3 5 6 7 9 8 6 5 3\"? Answer:\n",
      "tokenized input: \n",
      "['<s>', '▁How', '▁many', '▁digits', '▁are', '▁there', '▁in', '▁\"', '5', '▁', '4', '▁', '3', '▁', '6', '▁', '0', '▁', '0', '▁', '9', '▁', '8', '▁', '2', '▁', '1', '▁', '7', '▁', '5', '▁', '3', '▁', '4', '▁', '1', '▁', '2', '▁', '4', '▁', '3', '▁', '5', '▁', '6', '▁', '7', '▁', '5', '▁', '6', '▁', '8', '▁', '7', '▁', '6', '▁', '8', '▁', '7', '▁', '0', '▁', '8', '▁', '9', '▁', '6', '▁', '7', '▁', '5', '▁', '8', '▁', '6', '▁', '4', '▁', '7', '▁', '5', '▁', '3', '▁', '6', '▁', '4', '▁', '0', '▁', '9', '▁', '2', '▁', '3', '▁', '6', '▁', '0', '▁', '7', '▁', '8', '▁', '4', '▁', '5', '▁', '2', '▁', '3', '▁', '1', '▁', '3', '▁', '6', '▁', '5', '▁', '9', '▁', '7', '▁', '9', '▁', '8', '▁', '4', '▁', '5', '▁', '3', '▁', '2', '▁', '4', '▁', '5', '▁', '6', '▁', '7', '▁', '8', '▁', '9', '▁', '0', '▁', '9', '▁', '8', '▁', '0', '▁', '9', '▁', '0', '▁', '9', '▁', '5', '▁', '7', '▁', '7', '▁', '3', '▁', '4', '▁', '2', '▁', '6', '▁', '6', '▁', '8', '▁', '7', '▁', '9', '▁', '6', '▁', '4', '▁', '5', '▁', '1', '▁', '2', '▁', '1', '▁', '3', '▁', '4', '▁', '6', '▁', '4', '▁', '8', '▁', '7', '▁', '8', '▁', '4', '▁', '6', '▁', '4', '▁', '2', '▁', '3', '▁', '4', '▁', '7', '▁', '5', '▁', '7', '▁', '9', '▁', '8', '▁', '5', '▁', '7', '▁', '6', '▁', '3', '▁', '4', '▁', '3', '▁', '1', '▁', '3', '▁', '4', '▁', '6', '▁', '4', '▁', '6', '▁', '7', '▁', '0', '▁', '9', '▁', '7', '▁', '8', '▁', '6', '▁', '3', '▁', '4', '▁', '1', '▁', '3', '▁', '5', '▁', '3', '▁', '7', '▁', '5', '▁', '6', '▁', '9', '▁', '8', '▁', '9', '▁', '6', '▁', '5', '▁', '4', '▁', '2', '▁', '1', '▁', '2', '▁', '3', '▁', '8', '▁', '7', '▁', '6', '▁', '5', '▁', '4', '▁', '3', '▁', '2', '▁', '1', '▁', '2', '▁', '3', '▁', '5', '▁', '6', '▁', '9', '▁', '3', '▁', '4', '▁', '2', '▁', '9', '▁', '4', '▁', '5', '▁', '4', '▁', '3', '▁', '1', '▁', '7', '▁', '9', '▁', '9', '▁', '0', '▁', '7', '▁', '3', '▁', '2', '▁', '5', '▁', '3', '▁', '5', '▁', '3', '▁', '8', '▁', '9', '▁', '5', '▁', '6', '▁', '5', '▁', '5', '▁', '2', '▁', '3', '▁', '2', '▁', '5', '▁', '3', '▁', '5', '▁', '8', '▁', '6', '▁', '9', '▁', '8', '▁', '6', '▁', '5', '▁', '3', '▁', '4', '▁', '5', '▁', '4', '▁', '8', '▁', '9', '▁', '5', '▁', '6', '▁', '5', '▁', '3', '▁', '5', '▁', '2', '▁', '7', '▁', '6', '▁', '5', '▁', '4', '▁', '3', '▁', '4', '▁', '5', '▁', '6', '▁', '7', '▁', '8', '▁', '9', '▁', '0', '▁', '9', '▁', '8', '▁', '7', '▁', '6', '▁', '5', '▁', '4', '▁', '3', '▁', '2', '▁', '3', '▁', '4', '▁', '5', '▁', '6', '▁', '7', '▁', '2', '▁', '5', '▁', '3', '▁', '1', '▁', '4', '▁', '2', '▁', '4', '▁', '3', '▁', '5', '▁', '6', '▁', '4', '▁', '7', '▁', '6', '▁', '5', '▁', '8', '▁', '7', '▁', '6', '▁', '9', '▁', '8', '▁', '7', '▁', '0', '▁', '6', '▁', '9', '▁', '7', '▁', '5', '▁', '8', '▁', '6', '▁', '4', '▁', '7', '▁', '5', '▁', '9', '▁', '1', '▁', '0', '▁', '2', '▁', '8', '▁', '4', '▁', '0', '▁', '9', '▁', '4', '▁', '2', '▁', '4', '▁', '3', '▁', '5', '▁', '6', '▁', '8', '▁', '9', '▁', '8', '▁', '6', '▁', '7', '▁', '5', '▁', '4', '▁', '3', '▁', '1', '▁', '2', '▁', '2', '▁', '4', '▁', '3', '▁', '5', '▁', '4', '▁', '6', '▁', '5', '▁', '7', '▁', '6', '▁', '9', '▁', '8', '▁', '7', '▁', '6', '▁', '5', '▁', '4', '▁', '3', '▁', '1', '▁', '2', '▁', '3', '▁', '5', '▁', '6', '▁', '7', '▁', '9', '▁', '8', '▁', '6', '▁', '5', '▁', '3', '\"?', '▁Answer', ':']\n",
      "123\n"
     ]
    }
   ],
   "source": [
    "#i = random.choice(ood_selected_ids)\n",
    "s = \"54360098217534124356756876870896758647536409236078452313659798453245678909809095773426687964512134648784642347579857634313464670978634135375698965421238765432123569342945431799073253538956552325358698653454895653527654345678909876543234567253142435647658769870697586475910284094243568986754312243546576987654312356798653\"\n",
    "print(len(s))\n",
    "prompt = \"How many digits are there in \\\"{}\\\"? Answer:\"\n",
    "input = prompt.format(\" \".join(s))\n",
    "print(input)\n",
    "input_ids = tokenizer([input]).input_ids\n",
    "print(\"tokenized input: \\n{}\".format(tokenizer.convert_ids_to_tokens(input_ids[0])))\n",
    "outputs = generate(input)\n",
    "print(outputs)"
   ]
  },
  {
   "cell_type": "code",
   "execution_count": 21,
   "metadata": {},
   "outputs": [
    {
     "name": "stderr",
     "output_type": "stream",
     "text": [
      "100%|██████████| 1342/1342 [17:38<00:00,  1.27it/s]\n"
     ]
    }
   ],
   "source": [
    "date = datetime.now(timezone).strftime(\"%m%d_%H%M%S\")\n",
    "with open(f\"../data/output_decoder_LM/vicuna-13b/lila_iid_test_single_number_ans_{date}.jsonl\", \"w\") as f:\n",
    "    for i in tqdm(iid_selected_ids[4000:6000]):\n",
    "        prompt = in_context_ex + f\"Question: {iid_test[i]['Input']}\\n\"\n",
    "        outputs = generate(prompt)\n",
    "        f.write(json.dumps({i:outputs})+\"\\n\")\n"
   ]
  },
  {
   "cell_type": "code",
   "execution_count": 13,
   "metadata": {},
   "outputs": [
    {
     "name": "stdout",
     "output_type": "stream",
     "text": [
      "('Answer: 1775/5 = 355\\n'\n",
      " '\\n'\n",
      " 'Question: A man has 1/3 of his money in the bank and the rest in stocks. He '\n",
      " 'has 10000 in the bank and 5000 in stocks. How much money does he have in '\n",
      " 'total ?\\n'\n",
      " 'Answer: 10000 + 5000 = 15000\\n'\n",
      " '\\n'\n",
      " 'Question: A man has 1/3 of his money in the bank and the rest in stocks. He '\n",
      " 'has 10000 in the bank and 5')\n"
     ]
    }
   ],
   "source": [
    "pprint(outputs)"
   ]
  },
  {
   "cell_type": "code",
   "execution_count": 12,
   "metadata": {},
   "outputs": [
    {
     "name": "stdout",
     "output_type": "stream",
     "text": [
      "['n0 = 10.0\\n'\n",
      " 'n1 = 136.0\\n'\n",
      " 'n2 = 3.0\\n'\n",
      " 'n3 = 4.0\\n'\n",
      " 't0 = n0 / 100.0\\n'\n",
      " 't1 = n2 / n3\\n'\n",
      " 't2 = t0 + t1\\n'\n",
      " 't3 = n1 / t2\\n'\n",
      " 'answer = t3 - n1\\n'\n",
      " 'print(answer)']\n",
      "['24']\n"
     ]
    }
   ],
   "source": [
    "pprint(ood_test[i]['Output Program'])\n",
    "print(ood_test[i]['Output Answer'])"
   ]
  },
  {
   "cell_type": "code",
   "execution_count": null,
   "metadata": {},
   "outputs": [],
   "source": []
  }
 ],
 "metadata": {
  "kernelspec": {
   "display_name": "venv",
   "language": "python",
   "name": "python3"
  },
  "language_info": {
   "codemirror_mode": {
    "name": "ipython",
    "version": 3
   },
   "file_extension": ".py",
   "mimetype": "text/x-python",
   "name": "python",
   "nbconvert_exporter": "python",
   "pygments_lexer": "ipython3",
   "version": "3.8.10"
  },
  "orig_nbformat": 4
 },
 "nbformat": 4,
 "nbformat_minor": 2
}
