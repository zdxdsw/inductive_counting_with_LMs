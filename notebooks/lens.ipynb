{
 "cells": [
  {
   "cell_type": "code",
   "execution_count": 1,
   "metadata": {},
   "outputs": [
    {
     "name": "stderr",
     "output_type": "stream",
     "text": [
      "/home/yingshac/workspace/llms_do_math/venv/lib/python3.8/site-packages/tqdm/auto.py:21: TqdmWarning: IProgress not found. Please update jupyter and ipywidgets. See https://ipywidgets.readthedocs.io/en/stable/user_install.html\n",
      "  from .autonotebook import tqdm as notebook_tqdm\n"
     ]
    }
   ],
   "source": [
    "import json, os, math, sys, random, re, pytz, argparse, warnings\n",
    "from datetime import datetime\n",
    "timezone = pytz.timezone('America/Los_Angeles') \n",
    "import torch\n",
    "os.chdir(\"../scripts/causal_transformer\")\n",
    "from model import Causal_Transformer\n",
    "from config import *\n",
    "from dataset import sequences_collator\n",
    "from utils import get_acc, trim_task\n",
    "\n",
    "import numpy as np\n",
    "from tqdm import tqdm\n",
    "from torch.utils.data import DataLoader\n",
    "from datasets import load_dataset\n",
    "from functools import partial"
   ]
  },
  {
   "cell_type": "code",
   "execution_count": 87,
   "metadata": {},
   "outputs": [],
   "source": [
    "handle = \"0527_153953\"\n",
    "load_from_epoch = 20\n",
    "device = \"cuda\""
   ]
  },
  {
   "cell_type": "code",
   "execution_count": 88,
   "metadata": {},
   "outputs": [],
   "source": [
    "config = Basic_Config()\n",
    "default_config = Default_Config()\n",
    "load_from_config = json.load(open(os.path.join(config.output_dir, handle, \"config.json\"), \"r\"))\n",
    "config_keys = dir(config)\n",
    "for k in config_keys:\n",
    "    if k.startswith(\"__\"): continue\n",
    "    if k in load_from_config: setattr(config, k, load_from_config[k])\n",
    "    else:\n",
    "        setattr(config, k, default_config.__getattribute__(k))\n",
    "        warnings.warn(f\"Cannot find {k} in the resume_from_config. Set to {default_config.__getattribute__(k)} by default.\")\n",
    "\n",
    "ckpt_dir = os.path.join(config.ckpt_dir, handle, \"ckpts\")\n",
    "avail_ckpts = sorted(os.listdir(ckpt_dir), key=lambda x: int(x.split(\"_\")[1]))\n",
    "load_from_pt = [ckpt for ckpt in avail_ckpts if int(ckpt.split(\"_\")[0]) == load_from_epoch-1][0]\n",
    "\n"
   ]
  },
  {
   "cell_type": "code",
   "execution_count": 89,
   "metadata": {},
   "outputs": [
    {
     "name": "stdout",
     "output_type": "stream",
     "text": [
      "max_seen_len for counting_samesymbol_plain3_addbigram = 51\n"
     ]
    }
   ],
   "source": [
    "augmentation = None\n",
    "if config.absolute_posemb_shift or config.rotary_posemb_shift or config.sinusoidal_posemb_shift:\n",
    "    augmentation = \"shift\"\n",
    "elif config.absolute_posemb_rdmz or config.rotary_posemb_rdmz:\n",
    "    augmentation = \"randomized\"\n",
    "elif config.scaler_posemb:\n",
    "    if config.scaler_posemb_shift: augmentation = \"scaler+shift\"\n",
    "    else: augmentation = \"zooming\"\n",
    "collator = partial(sequences_collator, \n",
    "                w2i={w:i for i,w in enumerate(config.vocab)}, \n",
    "                max_seq_len=config.max_seq_len,\n",
    "                max_position_embeddings=config.max_position_embeddings,\n",
    "                augmentation=augmentation,\n",
    "                )\n",
    "val_file = open(f\"{config.eval_data_path}/{trim_task(config.task)}/val.txt\", \"r\").readlines()\n",
    "max_seen_len = max([len([x for x in json.loads(l)[0] if x != \"<pad>\"]) for l in val_file])\n",
    "print(f\"max_seen_len for {config.task} = {max_seen_len}\")"
   ]
  },
  {
   "cell_type": "code",
   "execution_count": 102,
   "metadata": {},
   "outputs": [
    {
     "data": {
      "text/plain": [
       "Causal_Transformer(\n",
       "  (wte): Embedding(104, 1024)\n",
       "  (drop): Dropout(p=0.0, inplace=False)\n",
       "  (h): ModuleList(\n",
       "    (0): Block(\n",
       "      (ln_1): LayerNorm((1024,), eps=1e-05, elementwise_affine=True)\n",
       "      (attn): Attention(\n",
       "        (c_attn): Conv1D()\n",
       "        (c_proj): Conv1D()\n",
       "        (attn_dropout): Dropout(p=0.0, inplace=False)\n",
       "        (resid_dropout): Dropout(p=0.0, inplace=False)\n",
       "        (rotary_emb): RotaryEmbedding()\n",
       "      )\n",
       "      (ln_2): LayerNorm((1024,), eps=1e-05, elementwise_affine=True)\n",
       "      (mlp): MLP(\n",
       "        (c_fc): Conv1D()\n",
       "        (c_proj): Conv1D()\n",
       "        (act): ReLU()\n",
       "        (dropout): Dropout(p=0.0, inplace=False)\n",
       "      )\n",
       "    )\n",
       "  )\n",
       "  (ln_f): LayerNorm((1024,), eps=1e-05, elementwise_affine=True)\n",
       "  (lm_head): Linear(in_features=1024, out_features=104, bias=False)\n",
       ")"
      ]
     },
     "execution_count": 102,
     "metadata": {},
     "output_type": "execute_result"
    }
   ],
   "source": [
    "model = Causal_Transformer(config)\n",
    "model = model.to(device)\n",
    "state_dict = torch.load(os.path.join(ckpt_dir, load_from_pt), map_location=device)\n",
    "model.load_state_dict(state_dict, strict=False)\n",
    "model.eval()\n"
   ]
  },
  {
   "cell_type": "code",
   "execution_count": 6,
   "metadata": {},
   "outputs": [],
   "source": [
    "split = \"val\"\n",
    "data_path = f\"{config.eval_data_path}/{trim_task(config.task)}\"\n",
    "test_data = load_dataset(\n",
    "                    \"text\", \n",
    "                    data_files={split: f\"{data_path}/{split}.txt\"})\n",
    "test_dataloader = DataLoader(test_data[split], shuffle=False, batch_size=1, collate_fn=collator)\n",
    "test_iter = iter(test_dataloader)"
   ]
  },
  {
   "cell_type": "code",
   "execution_count": 58,
   "metadata": {},
   "outputs": [],
   "source": [
    "batch = next(test_iter)\n",
    "\n",
    "position_ids = None\n",
    "if batch['position_id'] is not None: position_ids = batch['position_id'].to(device)\n",
    "input_ids = batch['input_id'].to(device)\n",
    "attention_mask = batch['attention_mask'].to(device)\n"
   ]
  },
  {
   "cell_type": "code",
   "execution_count": 73,
   "metadata": {},
   "outputs": [],
   "source": [
    "from model import apply_rotary_pos_emb"
   ]
  },
  {
   "cell_type": "code",
   "execution_count": 155,
   "metadata": {},
   "outputs": [],
   "source": [
    "input_embs = model.wte(input_ids)\n",
    "\n",
    "for block in model.h:\n",
    "    hidden_states = block.ln_1(input_embs)\n",
    "    query, key, value = block.attn.c_attn(hidden_states).split(block.attn.split_size, dim=2)\n",
    "\n",
    "    query = block.attn.split_heads(query)\n",
    "    key = block.attn.split_heads(key, k=True)\n",
    "    value = block.attn.split_heads(value)\n",
    "\n",
    "    # apply rotary positional embedding if needed\n",
    "    if block.attn.config.rotary_posemb:\n",
    "        cos, sin = block.attn.rotary_emb(value, position_ids)\n",
    "        query, key = apply_rotary_pos_emb(query, key, cos, sin)\n",
    "    attn_output, attn_patterns = block.attn._attn(query, key, value, attention_mask, position_ids)\n",
    "    #attn_output = block.attn.merge_heads(attn_output)\n",
    "    #attn_output = block.attn.c_proj(attn_output)\n",
    "    #attn_output = block.attn.resid_dropout(attn_output)\n",
    "    # attn_output = block.attn(block.ln_1(input_embs), attention_mask, position_ids)\n",
    "    break"
   ]
  },
  {
   "cell_type": "code",
   "execution_count": 130,
   "metadata": {},
   "outputs": [
    {
     "data": {
      "text/plain": [
       "torch.Size([1, 128, 1024])"
      ]
     },
     "execution_count": 130,
     "metadata": {},
     "output_type": "execute_result"
    }
   ],
   "source": [
    "attn_output.shape"
   ]
  },
  {
   "cell_type": "code",
   "execution_count": 203,
   "metadata": {},
   "outputs": [
    {
     "data": {
      "text/plain": [
       "tensor([1.0000e+00, 3.5739e-14, 1.2819e-13, 8.9527e-11, 1.0814e-10, 2.2454e-11,\n",
       "        3.5073e-11, 1.4714e-12, 1.0287e-13, 4.9049e-13, 4.3785e-13, 1.1728e-13,\n",
       "        2.3829e-14, 2.4624e-16, 7.1920e-16, 0.0000e+00, 0.0000e+00, 0.0000e+00,\n",
       "        0.0000e+00, 0.0000e+00, 0.0000e+00, 0.0000e+00, 0.0000e+00, 0.0000e+00,\n",
       "        0.0000e+00, 0.0000e+00, 0.0000e+00, 0.0000e+00, 0.0000e+00, 0.0000e+00,\n",
       "        0.0000e+00, 0.0000e+00, 0.0000e+00, 0.0000e+00, 0.0000e+00, 0.0000e+00,\n",
       "        0.0000e+00, 0.0000e+00, 0.0000e+00, 0.0000e+00, 0.0000e+00, 0.0000e+00,\n",
       "        0.0000e+00, 0.0000e+00, 0.0000e+00, 0.0000e+00, 0.0000e+00, 0.0000e+00,\n",
       "        0.0000e+00, 0.0000e+00, 0.0000e+00, 0.0000e+00, 0.0000e+00, 0.0000e+00,\n",
       "        0.0000e+00, 0.0000e+00, 0.0000e+00, 0.0000e+00, 0.0000e+00, 0.0000e+00,\n",
       "        0.0000e+00, 0.0000e+00, 0.0000e+00, 0.0000e+00, 0.0000e+00, 0.0000e+00,\n",
       "        0.0000e+00, 0.0000e+00, 0.0000e+00, 0.0000e+00, 0.0000e+00, 0.0000e+00,\n",
       "        0.0000e+00, 0.0000e+00, 0.0000e+00, 0.0000e+00, 0.0000e+00, 0.0000e+00,\n",
       "        0.0000e+00, 0.0000e+00, 0.0000e+00, 0.0000e+00, 0.0000e+00, 0.0000e+00,\n",
       "        0.0000e+00, 0.0000e+00, 0.0000e+00, 0.0000e+00, 0.0000e+00, 0.0000e+00,\n",
       "        0.0000e+00, 0.0000e+00, 0.0000e+00, 0.0000e+00, 0.0000e+00, 0.0000e+00,\n",
       "        0.0000e+00, 0.0000e+00, 0.0000e+00, 0.0000e+00, 0.0000e+00, 0.0000e+00,\n",
       "        0.0000e+00, 0.0000e+00, 0.0000e+00, 0.0000e+00, 0.0000e+00, 0.0000e+00,\n",
       "        0.0000e+00, 0.0000e+00, 0.0000e+00, 0.0000e+00, 0.0000e+00, 0.0000e+00,\n",
       "        0.0000e+00, 0.0000e+00, 0.0000e+00, 0.0000e+00, 0.0000e+00, 0.0000e+00,\n",
       "        0.0000e+00, 0.0000e+00, 0.0000e+00, 0.0000e+00, 0.0000e+00, 0.0000e+00,\n",
       "        0.0000e+00, 0.0000e+00], device='cuda:0', grad_fn=<SelectBackward0>)"
      ]
     },
     "execution_count": 203,
     "metadata": {},
     "output_type": "execute_result"
    }
   ],
   "source": [
    "attn_patterns[0, 0, 14]"
   ]
  },
  {
   "cell_type": "code",
   "execution_count": null,
   "metadata": {},
   "outputs": [],
   "source": []
  }
 ],
 "metadata": {
  "kernelspec": {
   "display_name": "llms_do_math",
   "language": "python",
   "name": "llms_do_math"
  },
  "language_info": {
   "codemirror_mode": {
    "name": "ipython",
    "version": 3
   },
   "file_extension": ".py",
   "mimetype": "text/x-python",
   "name": "python",
   "nbconvert_exporter": "python",
   "pygments_lexer": "ipython3",
   "version": "3.8.10"
  }
 },
 "nbformat": 4,
 "nbformat_minor": 2
}
