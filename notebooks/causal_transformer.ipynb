{
 "cells": [
  {
   "cell_type": "code",
   "execution_count": null,
   "metadata": {},
   "outputs": [],
   "source": [
    "import json, os, math, sys, random, re, pytz\n",
    "from datetime import datetime\n",
    "timezone = pytz.timezone('America/New_York') \n",
    "import torch\n",
    "sys.path.append(\"../scripts/\")\n",
    "from causal_transformer.model import Causal_Transformer\n",
    "from causal_transformer.config import *\n",
    "from causal_transformer.dataset import sequences_collator\n",
    "from causal_transformer.utils import get_acc\n",
    "\n",
    "import numpy as np\n",
    "from tqdm import tqdm\n",
    "from torch.utils.data import DataLoader\n",
    "from datasets import concatenate_datasets\n",
    "from datasets import load_dataset\n",
    "from functools import partial\n",
    "from collections import defaultdict, Counter\n",
    "from pprint import pprint"
   ]
  },
  {
   "cell_type": "code",
   "execution_count": 5,
   "metadata": {},
   "outputs": [
    {
     "name": "stdout",
     "output_type": "stream",
     "text": [
      "load from 9_343750_transformer.pt\n"
     ]
    }
   ],
   "source": [
    "device = \"cuda\"\n",
    "task = \"counting_samesymbol_addbigram\"\n",
    "config = eval(f\"{task}_Config()\")\n",
    "ckpt_dir = \"/data/yingshac/llms_do_math/scripts/causal_transformer/output\"\n",
    "\n",
    "load_from_dir = \"0423_205349\"\n",
    "load_from_specific_epc = 10\n",
    "\n",
    "load_from_config = json.load(open(os.path.join(\"../scripts/causal_transformer/output\", load_from_dir, \"config.json\"), \"r\"))\n",
    "for k in load_from_config:\n",
    "    setattr(config, k, load_from_config[k])\n",
    "if not \"tie_word_embeddings\" in load_from_config: config.tie_word_embeddings = False # for backward compatibility\n",
    "model = Causal_Transformer(config)\n",
    "model = model.to(device)\n",
    "\n",
    "ckpt_dir = os.path.join(ckpt_dir, load_from_dir, \"ckpts\")\n",
    "if load_from_specific_epc is None:\n",
    "    load_from_pt = sorted(os.listdir(ckpt_dir), key=lambda x: int(x.split(\"_\")[1]))[-1]\n",
    "else:\n",
    "    load_from_pt = sorted([x for x in os.listdir(ckpt_dir) if f\"{load_from_specific_epc-1}_\" in x[:4]], key=lambda x: int(x.split(\"_\")[1]))[-1]\n",
    "state_dict = torch.load(os.path.join(ckpt_dir, load_from_pt), map_location=device)\n",
    "model.load_state_dict(state_dict, strict=False)\n",
    "print(f\"load from {load_from_pt}\")\n",
    "\n"
   ]
  },
  {
   "cell_type": "code",
   "execution_count": 6,
   "metadata": {},
   "outputs": [
    {
     "name": "stdout",
     "output_type": "stream",
     "text": [
      "tensor([-0.0090,  0.0336,  0.0754,  0.0996], device='cuda:0',\n",
      "       grad_fn=<SelectBackward0>)\n",
      "tensor([-0.2037, -0.2519, -0.2904, -0.2606], device='cuda:0',\n",
      "       grad_fn=<SelectBackward0>)\n"
     ]
    }
   ],
   "source": [
    "print(model.wte.weight[60:64, 180])\n",
    "print(model.lm_head.weight[60:64, 180])\n"
   ]
  },
  {
   "cell_type": "code",
   "execution_count": 11,
   "metadata": {},
   "outputs": [
    {
     "name": "stdout",
     "output_type": "stream",
     "text": [
      "num ood_test data = 50\n"
     ]
    }
   ],
   "source": [
    "data_path = f\"../data/rasp_primitives/{task}\"\n",
    "split = \"ood_test\"\n",
    "test_data = load_dataset(\n",
    "                    \"text\", \n",
    "                    data_files={split: f\"{data_path}/{split}.txt\"})\n",
    "print(f\"num {split} data = {len(test_data[split])}\")\n",
    "\n",
    "if config.absolute_posemb_shift or config.rotary_posemb_shift:\n",
    "    augmentation = \"shift\"\n",
    "elif config.absolute_posemb_rdmz or config.rotary_posemb_rdmz:\n",
    "    augmentation = \"randomized\"\n",
    "collator = partial(sequences_collator, \n",
    "                   w2i={w:i for i,w in enumerate(config.vocab)}, \n",
    "                   max_len=config.max_position_embeddings,\n",
    "                   augmentation=augmentation,\n",
    "                   )\n",
    "test_dataloader = DataLoader(test_data[split], shuffle=False, batch_size=config.per_device_train_batch_size, collate_fn=collator)"
   ]
  },
  {
   "cell_type": "code",
   "execution_count": 12,
   "metadata": {},
   "outputs": [
    {
     "name": "stdout",
     "output_type": "stream",
     "text": [
      " ood_test acc\n",
      "        | Test Loss: 0.0 \n",
      "        | Test Acc: 1.0 \n",
      "        | Test Counting Acc: 1.0 \n",
      "        | Test Last Acc: 1.0\n",
      "    \n"
     ]
    }
   ],
   "source": [
    "counting_correct, counting_demo, last_correct, last_demo, correct, demo = 0, 0, 0, 0, 0, 0\n",
    "test_losses = []\n",
    "\n",
    "criterion = torch.nn.CrossEntropyLoss(ignore_index=-1)\n",
    "\n",
    "model.eval()\n",
    "testing_output = {}\n",
    "\n",
    "date = datetime.now(timezone).strftime(\"%m%d_%H%M%S\")\n",
    "\n",
    "k = 0\n",
    "for i, batch in enumerate(test_dataloader):\n",
    "    position_ids = None\n",
    "    if batch['position_id'] is not None: position_ids = batch['position_id'].to(device)\n",
    "    \n",
    "    logits = model(\n",
    "        batch['input_id'].to(device),\n",
    "        position_ids = position_ids,\n",
    "        attention_mask = batch['attention_mask'].to(device),\n",
    "    )\n",
    "\n",
    "    loss = criterion(\n",
    "        logits.view(-1, logits.size(-1)), # bs*seq_len, vocab_size\n",
    "        batch['label'].view(-1).to(device), # 1, bs*seq_len\n",
    "    )\n",
    "    test_losses.append(loss.detach().item())\n",
    "    _counting_correct, _counting_demo, _last_correct, _last_demo = get_acc(logits.detach().cpu(), batch['label'].detach().cpu(), ignore_index=-1)\n",
    "    counting_correct += _counting_correct\n",
    "    counting_demo += _counting_demo\n",
    "    last_correct += _last_correct\n",
    "    last_demo += _last_demo\n",
    "    correct += (_counting_correct + _last_correct)\n",
    "    demo += (_counting_demo + _last_demo)\n",
    "   \n",
    "    for input_id, gth_id, pred_id in zip(batch['input_id'], batch['label'], logits.argmax(dim=-1)):\n",
    "        input_seq = [config.vocab[i] for i in input_id if config.vocab[i]!='<pad>']\n",
    "        gth_seq = [config.vocab[gth_id[i]] for i in range(len(gth_id)) if gth_id[i]!=-1]\n",
    "        pred_seq = [config.vocab[pred_id[i]] for i in range(len(gth_id)) if gth_id[i]!=-1][:len(gth_seq)]\n",
    "        testing_output[k] = {\n",
    "            \"input\": \" \".join(input_seq),\n",
    "            \"gth\": \" \".join(gth_seq),\n",
    "            \"pred\": \" \".join(pred_seq),\n",
    "        }\n",
    "        k+=1\n",
    "    \n",
    "print(f\"\"\" {split} acc\n",
    "        | Test Loss: {round(np.mean(test_losses), 4)} \n",
    "        | Test Acc: {round(correct/demo, 4)} \n",
    "        | Test Counting Acc: {round(counting_correct/counting_demo, 4)} \n",
    "        | Test Last Acc: {round(last_correct/last_demo, 4)}\n",
    "    \"\"\")"
   ]
  },
  {
   "cell_type": "code",
   "execution_count": 13,
   "metadata": {},
   "outputs": [],
   "source": [
    "os.makedirs(f\"../scripts/causal_transformer/output/{load_from_dir}/test_samples\", exist_ok=True)\n",
    "json.dump({\n",
    "        \"test_data_file\":  f\"{data_path}/{split}.txt\",\n",
    "        \"load_from\": f\"{load_from_dir}/{load_from_pt}\",\n",
    "        \"test_acc\": round(correct/demo, 4),\n",
    "        \"test_counting_acc\": round(counting_correct/counting_demo, 4),\n",
    "        \"test_last_acc\": round(last_correct/last_demo, 4),\n",
    "        \"test_loss\": round(np.mean(test_losses), 4),\n",
    "        \"testing_output\": testing_output,\n",
    "    }, \n",
    "    open(f\"../scripts/causal_transformer/output/{load_from_dir}/test_samples/{date}.json\", \"w\"), indent=2)\n",
    "    "
   ]
  },
  {
   "cell_type": "code",
   "execution_count": 7,
   "metadata": {},
   "outputs": [
    {
     "name": "stdout",
     "output_type": "stream",
     "text": [
      "avg_last_acc = 0.28\n",
      "avg_unseen_len_acc = 0.4784\n"
     ]
    }
   ],
   "source": [
    "import json\n",
    "import numpy as np\n",
    "J = json.load(open(f\"../scripts/causal_transformer/output/0422_172246/test_samples/0422_185531_9.json\", \"r\"))['testing_output']\n",
    "last_correct, last_demo = 0, 0\n",
    "unseen_len_correct, unseen_len_demo = 0, 0\n",
    "for k in J:\n",
    "    gth = np.array([int(x) for x in J[k]['gth'].split()])\n",
    "    pred = np.array([int(x) for x in J[k]['pred'].split()])\n",
    "    last_correct += int(gth[-1] == pred[-1])\n",
    "    last_demo += 1\n",
    "    unseen_len_correct += (gth[50:] == pred[50:]).sum()\n",
    "    unseen_len_demo += len(gth[50:])\n",
    "print(f\"avg_last_acc = {round(last_correct/last_demo, 4)}\")\n",
    "print(f\"avg_unseen_len_acc = {round(unseen_len_correct/unseen_len_demo, 4)}\")"
   ]
  },
  {
   "cell_type": "code",
   "execution_count": 4,
   "metadata": {},
   "outputs": [
    {
     "data": {
      "text/plain": [
       "False"
      ]
     },
     "execution_count": 4,
     "metadata": {},
     "output_type": "execute_result"
    }
   ],
   "source": [
    "np.array(J[k]['gth'][50:]) == np.array(J[k]['pred'][50:])"
   ]
  },
  {
   "cell_type": "markdown",
   "metadata": {},
   "source": [
    "## Model Summary (In the order of forward pass)"
   ]
  },
  {
   "cell_type": "code",
   "execution_count": 3,
   "metadata": {},
   "outputs": [],
   "source": [
    "from torchinfo import summary"
   ]
  },
  {
   "cell_type": "code",
   "execution_count": 29,
   "metadata": {},
   "outputs": [
    {
     "name": "stdout",
     "output_type": "stream",
     "text": [
      "cuda:0\n"
     ]
    }
   ],
   "source": [
    "device = \"cuda\"\n",
    "task = \"counting_selective_padhelper\"\n",
    "config = eval(f\"{task}_Config()\")\n",
    "config.absolute_posemb_shift = False\n",
    "config.rotary_posemb_shift = False\n",
    "config.absolute_posemb = False\n",
    "config.rotary_posemb = False\n",
    "config.num_hidden_layers = 2\n",
    "config.embd_pdrop = 0.1\n",
    "config.attn_pdrop = 0.1\n",
    "config.resid_pdrop = 0.1\n",
    "\n",
    "model = Causal_Transformer(config)\n",
    "model = model.to(device)\n",
    "print(next(model.parameters()).device)"
   ]
  },
  {
   "cell_type": "code",
   "execution_count": 30,
   "metadata": {},
   "outputs": [
    {
     "name": "stdout",
     "output_type": "stream",
     "text": [
      "=============================================================================================\n",
      "Layer (type (var_name))                       Kernel Shape     Param #          Param %\n",
      "=============================================================================================\n",
      "Causal_Transformer (Causal_Transformer)       --               --                    --\n",
      "├─Embedding (wte)                             --               55,296             0.22%\n",
      "│    └─weight                                 [1024, 54]       └─55,296\n",
      "├─Dropout (drop)                              --               --                    --\n",
      "├─ModuleList (h)                              --               --                    --\n",
      "│    └─0.ln_1.weight                          [1024]           ├─1,024\n",
      "│    └─0.ln_1.bias                            [1024]           ├─1,024\n",
      "│    └─0.attn.c_attn.weight                   [1024, 3072]     ├─3,145,728\n",
      "│    └─0.attn.c_attn.bias                     [3072]           ├─3,072\n",
      "│    └─0.attn.c_proj.weight                   [1024, 1024]     ├─1,048,576\n",
      "│    └─0.attn.c_proj.bias                     [1024]           ├─1,024\n",
      "│    └─0.ln_2.weight                          [1024]           ├─1,024\n",
      "│    └─0.ln_2.bias                            [1024]           ├─1,024\n",
      "│    └─0.mlp.c_fc.weight                      [1024, 4096]     ├─4,194,304\n",
      "│    └─0.mlp.c_fc.bias                        [4096]           ├─4,096\n",
      "│    └─0.mlp.c_proj.weight                    [4096, 1024]     ├─4,194,304\n",
      "│    └─0.mlp.c_proj.bias                      [1024]           ├─1,024\n",
      "│    └─1.ln_1.weight                          [1024]           ├─1,024\n",
      "│    └─1.ln_1.bias                            [1024]           ├─1,024\n",
      "│    └─1.attn.c_attn.weight                   [1024, 3072]     ├─3,145,728\n",
      "│    └─1.attn.c_attn.bias                     [3072]           ├─3,072\n",
      "│    └─1.attn.c_proj.weight                   [1024, 1024]     ├─1,048,576\n",
      "│    └─1.attn.c_proj.bias                     [1024]           ├─1,024\n",
      "│    └─1.ln_2.weight                          [1024]           ├─1,024\n",
      "│    └─1.ln_2.bias                            [1024]           ├─1,024\n",
      "│    └─1.mlp.c_fc.weight                      [1024, 4096]     ├─4,194,304\n",
      "│    └─1.mlp.c_fc.bias                        [4096]           ├─4,096\n",
      "│    └─1.mlp.c_proj.weight                    [4096, 1024]     ├─4,194,304\n",
      "│    └─1.mlp.c_proj.bias                      [1024]           └─1,024\n",
      "│    └─Block (0)                              --               --                    --\n",
      "│    │    └─ln_1.weight                       [1024]           ├─1,024\n",
      "│    │    └─ln_1.bias                         [1024]           ├─1,024\n",
      "│    │    └─attn.c_attn.weight                [1024, 3072]     ├─3,145,728\n",
      "│    │    └─attn.c_attn.bias                  [3072]           ├─3,072\n",
      "│    │    └─attn.c_proj.weight                [1024, 1024]     ├─1,048,576\n",
      "│    │    └─attn.c_proj.bias                  [1024]           ├─1,024\n",
      "│    │    └─ln_2.weight                       [1024]           ├─1,024\n",
      "│    │    └─ln_2.bias                         [1024]           ├─1,024\n",
      "│    │    └─mlp.c_fc.weight                   [1024, 4096]     ├─4,194,304\n",
      "│    │    └─mlp.c_fc.bias                     [4096]           ├─4,096\n",
      "│    │    └─mlp.c_proj.weight                 [4096, 1024]     ├─4,194,304\n",
      "│    │    └─mlp.c_proj.bias                   [1024]           └─1,024\n",
      "│    │    └─LayerNorm (ln_1)                  --               2,048              0.01%\n",
      "│    │    │    └─weight                       [1024]           ├─1,024\n",
      "│    │    │    └─bias                         [1024]           └─1,024\n",
      "│    │    └─Attention (attn)                  --               4,198,400         16.59%\n",
      "│    │    │    └─c_attn.weight                [1024, 3072]     ├─3,145,728\n",
      "│    │    │    └─c_attn.bias                  [3072]           ├─3,072\n",
      "│    │    │    └─c_proj.weight                [1024, 1024]     ├─1,048,576\n",
      "│    │    │    └─c_proj.bias                  [1024]           └─1,024\n",
      "│    │    └─LayerNorm (ln_2)                  --               2,048              0.01%\n",
      "│    │    │    └─weight                       [1024]           ├─1,024\n",
      "│    │    │    └─bias                         [1024]           └─1,024\n",
      "│    │    └─MLP (mlp)                         --               8,393,728         33.17%\n",
      "│    │    │    └─c_fc.weight                  [1024, 4096]     ├─4,194,304\n",
      "│    │    │    └─c_fc.bias                    [4096]           ├─4,096\n",
      "│    │    │    └─c_proj.weight                [4096, 1024]     ├─4,194,304\n",
      "│    │    │    └─c_proj.bias                  [1024]           └─1,024\n",
      "│    └─Block (1)                              --               --                    --\n",
      "│    │    └─ln_1.weight                       [1024]           ├─1,024\n",
      "│    │    └─ln_1.bias                         [1024]           ├─1,024\n",
      "│    │    └─attn.c_attn.weight                [1024, 3072]     ├─3,145,728\n",
      "│    │    └─attn.c_attn.bias                  [3072]           ├─3,072\n",
      "│    │    └─attn.c_proj.weight                [1024, 1024]     ├─1,048,576\n",
      "│    │    └─attn.c_proj.bias                  [1024]           ├─1,024\n",
      "│    │    └─ln_2.weight                       [1024]           ├─1,024\n",
      "│    │    └─ln_2.bias                         [1024]           ├─1,024\n",
      "│    │    └─mlp.c_fc.weight                   [1024, 4096]     ├─4,194,304\n",
      "│    │    └─mlp.c_fc.bias                     [4096]           ├─4,096\n",
      "│    │    └─mlp.c_proj.weight                 [4096, 1024]     ├─4,194,304\n",
      "│    │    └─mlp.c_proj.bias                   [1024]           └─1,024\n",
      "│    │    └─LayerNorm (ln_1)                  --               2,048              0.01%\n",
      "│    │    │    └─weight                       [1024]           ├─1,024\n",
      "│    │    │    └─bias                         [1024]           └─1,024\n",
      "│    │    └─Attention (attn)                  --               4,198,400         16.59%\n",
      "│    │    │    └─c_attn.weight                [1024, 3072]     ├─3,145,728\n",
      "│    │    │    └─c_attn.bias                  [3072]           ├─3,072\n",
      "│    │    │    └─c_proj.weight                [1024, 1024]     ├─1,048,576\n",
      "│    │    │    └─c_proj.bias                  [1024]           └─1,024\n",
      "│    │    └─LayerNorm (ln_2)                  --               2,048              0.01%\n",
      "│    │    │    └─weight                       [1024]           ├─1,024\n",
      "│    │    │    └─bias                         [1024]           └─1,024\n",
      "│    │    └─MLP (mlp)                         --               8,393,728         33.17%\n",
      "│    │    │    └─c_fc.weight                  [1024, 4096]     ├─4,194,304\n",
      "│    │    │    └─c_fc.bias                    [4096]           ├─4,096\n",
      "│    │    │    └─c_proj.weight                [4096, 1024]     ├─4,194,304\n",
      "│    │    │    └─c_proj.bias                  [1024]           └─1,024\n",
      "├─LayerNorm (ln_f)                            --               2,048              0.01%\n",
      "│    └─weight                                 [1024]           ├─1,024\n",
      "│    └─bias                                   [1024]           └─1,024\n",
      "├─Linear (lm_head)                            --               55,296             0.22%\n",
      "│    └─weight                                 [1024, 54]       └─55,296\n",
      "=============================================================================================\n",
      "Total params: 25,305,088\n",
      "Trainable params: 25,305,088\n",
      "Non-trainable params: 0\n",
      "Total mult-adds (G): 64.48\n",
      "=============================================================================================\n",
      "Input size (MB): 0.00\n",
      "Forward/backward pass size (MB): 25.22\n",
      "Params size (MB): 101.22\n",
      "Estimated Total Size (MB): 126.44\n",
      "=============================================================================================\n"
     ]
    },
    {
     "data": {
      "text/plain": [
       "=============================================================================================\n",
       "Layer (type (var_name))                       Kernel Shape     Param #          Param %\n",
       "=============================================================================================\n",
       "Causal_Transformer (Causal_Transformer)       --               --                    --\n",
       "├─Embedding (wte)                             --               55,296             0.22%\n",
       "│    └─weight                                 [1024, 54]       └─55,296\n",
       "├─Dropout (drop)                              --               --                    --\n",
       "├─ModuleList (h)                              --               --                    --\n",
       "│    └─0.ln_1.weight                          [1024]           ├─1,024\n",
       "│    └─0.ln_1.bias                            [1024]           ├─1,024\n",
       "│    └─0.attn.c_attn.weight                   [1024, 3072]     ├─3,145,728\n",
       "│    └─0.attn.c_attn.bias                     [3072]           ├─3,072\n",
       "│    └─0.attn.c_proj.weight                   [1024, 1024]     ├─1,048,576\n",
       "│    └─0.attn.c_proj.bias                     [1024]           ├─1,024\n",
       "│    └─0.ln_2.weight                          [1024]           ├─1,024\n",
       "│    └─0.ln_2.bias                            [1024]           ├─1,024\n",
       "│    └─0.mlp.c_fc.weight                      [1024, 4096]     ├─4,194,304\n",
       "│    └─0.mlp.c_fc.bias                        [4096]           ├─4,096\n",
       "│    └─0.mlp.c_proj.weight                    [4096, 1024]     ├─4,194,304\n",
       "│    └─0.mlp.c_proj.bias                      [1024]           ├─1,024\n",
       "│    └─1.ln_1.weight                          [1024]           ├─1,024\n",
       "│    └─1.ln_1.bias                            [1024]           ├─1,024\n",
       "│    └─1.attn.c_attn.weight                   [1024, 3072]     ├─3,145,728\n",
       "│    └─1.attn.c_attn.bias                     [3072]           ├─3,072\n",
       "│    └─1.attn.c_proj.weight                   [1024, 1024]     ├─1,048,576\n",
       "│    └─1.attn.c_proj.bias                     [1024]           ├─1,024\n",
       "│    └─1.ln_2.weight                          [1024]           ├─1,024\n",
       "│    └─1.ln_2.bias                            [1024]           ├─1,024\n",
       "│    └─1.mlp.c_fc.weight                      [1024, 4096]     ├─4,194,304\n",
       "│    └─1.mlp.c_fc.bias                        [4096]           ├─4,096\n",
       "│    └─1.mlp.c_proj.weight                    [4096, 1024]     ├─4,194,304\n",
       "│    └─1.mlp.c_proj.bias                      [1024]           └─1,024\n",
       "│    └─Block (0)                              --               --                    --\n",
       "│    │    └─ln_1.weight                       [1024]           ├─1,024\n",
       "│    │    └─ln_1.bias                         [1024]           ├─1,024\n",
       "│    │    └─attn.c_attn.weight                [1024, 3072]     ├─3,145,728\n",
       "│    │    └─attn.c_attn.bias                  [3072]           ├─3,072\n",
       "│    │    └─attn.c_proj.weight                [1024, 1024]     ├─1,048,576\n",
       "│    │    └─attn.c_proj.bias                  [1024]           ├─1,024\n",
       "│    │    └─ln_2.weight                       [1024]           ├─1,024\n",
       "│    │    └─ln_2.bias                         [1024]           ├─1,024\n",
       "│    │    └─mlp.c_fc.weight                   [1024, 4096]     ├─4,194,304\n",
       "│    │    └─mlp.c_fc.bias                     [4096]           ├─4,096\n",
       "│    │    └─mlp.c_proj.weight                 [4096, 1024]     ├─4,194,304\n",
       "│    │    └─mlp.c_proj.bias                   [1024]           └─1,024\n",
       "│    │    └─LayerNorm (ln_1)                  --               2,048              0.01%\n",
       "│    │    │    └─weight                       [1024]           ├─1,024\n",
       "│    │    │    └─bias                         [1024]           └─1,024\n",
       "│    │    └─Attention (attn)                  --               4,198,400         16.59%\n",
       "│    │    │    └─c_attn.weight                [1024, 3072]     ├─3,145,728\n",
       "│    │    │    └─c_attn.bias                  [3072]           ├─3,072\n",
       "│    │    │    └─c_proj.weight                [1024, 1024]     ├─1,048,576\n",
       "│    │    │    └─c_proj.bias                  [1024]           └─1,024\n",
       "│    │    └─LayerNorm (ln_2)                  --               2,048              0.01%\n",
       "│    │    │    └─weight                       [1024]           ├─1,024\n",
       "│    │    │    └─bias                         [1024]           └─1,024\n",
       "│    │    └─MLP (mlp)                         --               8,393,728         33.17%\n",
       "│    │    │    └─c_fc.weight                  [1024, 4096]     ├─4,194,304\n",
       "│    │    │    └─c_fc.bias                    [4096]           ├─4,096\n",
       "│    │    │    └─c_proj.weight                [4096, 1024]     ├─4,194,304\n",
       "│    │    │    └─c_proj.bias                  [1024]           └─1,024\n",
       "│    └─Block (1)                              --               --                    --\n",
       "│    │    └─ln_1.weight                       [1024]           ├─1,024\n",
       "│    │    └─ln_1.bias                         [1024]           ├─1,024\n",
       "│    │    └─attn.c_attn.weight                [1024, 3072]     ├─3,145,728\n",
       "│    │    └─attn.c_attn.bias                  [3072]           ├─3,072\n",
       "│    │    └─attn.c_proj.weight                [1024, 1024]     ├─1,048,576\n",
       "│    │    └─attn.c_proj.bias                  [1024]           ├─1,024\n",
       "│    │    └─ln_2.weight                       [1024]           ├─1,024\n",
       "│    │    └─ln_2.bias                         [1024]           ├─1,024\n",
       "│    │    └─mlp.c_fc.weight                   [1024, 4096]     ├─4,194,304\n",
       "│    │    └─mlp.c_fc.bias                     [4096]           ├─4,096\n",
       "│    │    └─mlp.c_proj.weight                 [4096, 1024]     ├─4,194,304\n",
       "│    │    └─mlp.c_proj.bias                   [1024]           └─1,024\n",
       "│    │    └─LayerNorm (ln_1)                  --               2,048              0.01%\n",
       "│    │    │    └─weight                       [1024]           ├─1,024\n",
       "│    │    │    └─bias                         [1024]           └─1,024\n",
       "│    │    └─Attention (attn)                  --               4,198,400         16.59%\n",
       "│    │    │    └─c_attn.weight                [1024, 3072]     ├─3,145,728\n",
       "│    │    │    └─c_attn.bias                  [3072]           ├─3,072\n",
       "│    │    │    └─c_proj.weight                [1024, 1024]     ├─1,048,576\n",
       "│    │    │    └─c_proj.bias                  [1024]           └─1,024\n",
       "│    │    └─LayerNorm (ln_2)                  --               2,048              0.01%\n",
       "│    │    │    └─weight                       [1024]           ├─1,024\n",
       "│    │    │    └─bias                         [1024]           └─1,024\n",
       "│    │    └─MLP (mlp)                         --               8,393,728         33.17%\n",
       "│    │    │    └─c_fc.weight                  [1024, 4096]     ├─4,194,304\n",
       "│    │    │    └─c_fc.bias                    [4096]           ├─4,096\n",
       "│    │    │    └─c_proj.weight                [4096, 1024]     ├─4,194,304\n",
       "│    │    │    └─c_proj.bias                  [1024]           └─1,024\n",
       "├─LayerNorm (ln_f)                            --               2,048              0.01%\n",
       "│    └─weight                                 [1024]           ├─1,024\n",
       "│    └─bias                                   [1024]           └─1,024\n",
       "├─Linear (lm_head)                            --               55,296             0.22%\n",
       "│    └─weight                                 [1024, 54]       └─55,296\n",
       "=============================================================================================\n",
       "Total params: 25,305,088\n",
       "Trainable params: 25,305,088\n",
       "Non-trainable params: 0\n",
       "Total mult-adds (G): 64.48\n",
       "=============================================================================================\n",
       "Input size (MB): 0.00\n",
       "Forward/backward pass size (MB): 25.22\n",
       "Params size (MB): 101.22\n",
       "Estimated Total Size (MB): 126.44\n",
       "============================================================================================="
      ]
     },
     "execution_count": 30,
     "metadata": {},
     "output_type": "execute_result"
    }
   ],
   "source": [
    "\"\"\"\n",
    "References: https://github.com/TylerYep/torchinfo\n",
    "\"\"\"\n",
    "\n",
    "summary(\n",
    "    model,\n",
    "    (1, 128),\n",
    "    dtypes=[torch.long],\n",
    "    verbose=2,\n",
    "    col_width=16,\n",
    "    col_names=[\n",
    "        \"kernel_size\", \n",
    "        #\"output_size\", \n",
    "        \"num_params\", \n",
    "        \"params_percent\"\n",
    "    ],\n",
    "    row_settings=[\"var_names\"],\n",
    "    device=\"cuda\"\n",
    ")"
   ]
  },
  {
   "cell_type": "markdown",
   "metadata": {},
   "source": [
    "## Infr Outside Training Loop"
   ]
  },
  {
   "cell_type": "code",
   "execution_count": 2,
   "metadata": {},
   "outputs": [],
   "source": [
    "import os, json\n",
    "from tqdm import tqdm\n",
    "os.chdir(\"../scripts/causal_transformer\")\n"
   ]
  },
  {
   "cell_type": "code",
   "execution_count": 3,
   "metadata": {},
   "outputs": [
    {
     "name": "stderr",
     "output_type": "stream",
     "text": [
      "100%|██████████| 156/156 [00:00<00:00, 1945.99it/s]"
     ]
    },
    {
     "name": "stdout",
     "output_type": "stream",
     "text": [
      "python tester.py --handle 0412_000916 --test_files \"val ood_test bigram_test\" counting_samesymbol_addbigram\n"
     ]
    },
    {
     "name": "stderr",
     "output_type": "stream",
     "text": [
      "\n"
     ]
    }
   ],
   "source": [
    "## \n",
    "output_dir = \"output\"\n",
    "for handle in tqdm(sorted(os.listdir(output_dir))):\n",
    "    #if handle > \"0422_170000\": continue\n",
    "    config = json.load(open(f\"{output_dir}/{handle}/config.json\", \"r\"))\n",
    "    if 'task' in config:\n",
    "        task = config['task']\n",
    "    elif 'data_path' in config:\n",
    "        task = config['data_path'].split(\"/\")[-1]\n",
    "    else:\n",
    "        print(handle)\n",
    "        continue\n",
    "    if 'rotary_posemb' in config and config['rotary_posemb']: continue\n",
    "    if task in [\"counting_samesymbol_addbigram\"]:\n",
    "        test_files = [\"ood_test\", \"bigram_test\"]\n",
    "        if \"test_files\" in config: test_files = config[\"test_files\"]\n",
    "        command = \"python tester.py --handle {} --test_files \\\"{}\\\"\".format(handle, \" \".join([\"val\"]+test_files))\n",
    "        print(command, task)\n",
    "    \n",
    "        #subprocess.check_call(command,stdin=subprocess.DEVNULL, stdout=subprocess.DEVNULL, stderr=subprocess.DEVNULL)\n",
    "        #os.system(command)"
   ]
  },
  {
   "cell_type": "code",
   "execution_count": 27,
   "metadata": {},
   "outputs": [],
   "source": [
    "command = 'python tester.py --handle 0411_000611 --test_files \"val ood_test\"'\n"
   ]
  },
  {
   "cell_type": "code",
   "execution_count": 4,
   "metadata": {},
   "outputs": [
    {
     "name": "stdout",
     "output_type": "stream",
     "text": [
      "max_seen_len for counting_samesymbol_addbigram = 50\n",
      " val acc, load from 0_31563_transformer.pt\n",
      "                | Test Loss: 0.0 \n",
      "                | Test Acc: 1.0 \n",
      "                | Test Counting Acc: 1.0 \n",
      "                | Test Last Acc: 1.0\n",
      "                | Test Unseen Len Acc: -1\n",
      "            \n",
      " ood_test acc, load from 0_31563_transformer.pt\n",
      "                | Test Loss: 4.6777 \n",
      "                | Test Acc: 0.6623 \n",
      "                | Test Counting Acc: 0.6711 \n",
      "                | Test Last Acc: 0.0\n",
      "                | Test Unseen Len Acc: 0.0\n",
      "            \n",
      " bigram_test acc, load from 0_31563_transformer.pt\n",
      "                | Test Loss: 0.0 \n",
      "                | Test Acc: 1.0 \n",
      "                | Test Counting Acc: 1.0 \n",
      "                | Test Last Acc: 1.0\n",
      "                | Test Unseen Len Acc: 1.0\n",
      "            \n",
      " val acc, load from 1_63126_transformer.pt\n",
      "                | Test Loss: 0.0 \n",
      "                | Test Acc: 1.0 \n",
      "                | Test Counting Acc: 1.0 \n",
      "                | Test Last Acc: 1.0\n",
      "                | Test Unseen Len Acc: -1\n",
      "            \n",
      " ood_test acc, load from 1_63126_transformer.pt\n",
      "                | Test Loss: 3.615 \n",
      "                | Test Acc: 0.6623 \n",
      "                | Test Counting Acc: 0.6711 \n",
      "                | Test Last Acc: 0.0\n",
      "                | Test Unseen Len Acc: 0.0\n",
      "            \n",
      " bigram_test acc, load from 1_63126_transformer.pt\n",
      "                | Test Loss: 0.0 \n",
      "                | Test Acc: 1.0 \n",
      "                | Test Counting Acc: 1.0 \n",
      "                | Test Last Acc: 1.0\n",
      "                | Test Unseen Len Acc: 1.0\n",
      "            \n",
      " val acc, load from 2_94689_transformer.pt\n",
      "                | Test Loss: 0.0 \n",
      "                | Test Acc: 1.0 \n",
      "                | Test Counting Acc: 1.0 \n",
      "                | Test Last Acc: 1.0\n",
      "                | Test Unseen Len Acc: -1\n",
      "            \n",
      " ood_test acc, load from 2_94689_transformer.pt\n",
      "                | Test Loss: 3.1836 \n",
      "                | Test Acc: 0.6623 \n",
      "                | Test Counting Acc: 0.6711 \n",
      "                | Test Last Acc: 0.0\n",
      "                | Test Unseen Len Acc: 0.0\n",
      "            \n",
      " bigram_test acc, load from 2_94689_transformer.pt\n",
      "                | Test Loss: 0.0 \n",
      "                | Test Acc: 1.0 \n",
      "                | Test Counting Acc: 1.0 \n",
      "                | Test Last Acc: 1.0\n",
      "                | Test Unseen Len Acc: 1.0\n",
      "            \n",
      " val acc, load from 3_126252_transformer.pt\n",
      "                | Test Loss: 0.0 \n",
      "                | Test Acc: 1.0 \n",
      "                | Test Counting Acc: 1.0 \n",
      "                | Test Last Acc: 1.0\n",
      "                | Test Unseen Len Acc: -1\n",
      "            \n",
      " ood_test acc, load from 3_126252_transformer.pt\n",
      "                | Test Loss: 10.5603 \n",
      "                | Test Acc: 0.6623 \n",
      "                | Test Counting Acc: 0.6711 \n",
      "                | Test Last Acc: 0.0\n",
      "                | Test Unseen Len Acc: 0.0\n",
      "            \n",
      " bigram_test acc, load from 3_126252_transformer.pt\n",
      "                | Test Loss: 0.0 \n",
      "                | Test Acc: 1.0 \n",
      "                | Test Counting Acc: 1.0 \n",
      "                | Test Last Acc: 1.0\n",
      "                | Test Unseen Len Acc: 1.0\n",
      "            \n",
      " val acc, load from 4_157815_transformer.pt\n",
      "                | Test Loss: 0.0 \n",
      "                | Test Acc: 1.0 \n",
      "                | Test Counting Acc: 1.0 \n",
      "                | Test Last Acc: 1.0\n",
      "                | Test Unseen Len Acc: -1\n",
      "            \n",
      " ood_test acc, load from 4_157815_transformer.pt\n",
      "                | Test Loss: 10.6146 \n",
      "                | Test Acc: 0.6623 \n",
      "                | Test Counting Acc: 0.6711 \n",
      "                | Test Last Acc: 0.0\n",
      "                | Test Unseen Len Acc: 0.0\n",
      "            \n",
      " bigram_test acc, load from 4_157815_transformer.pt\n",
      "                | Test Loss: 0.0 \n",
      "                | Test Acc: 1.0 \n",
      "                | Test Counting Acc: 1.0 \n",
      "                | Test Last Acc: 1.0\n",
      "                | Test Unseen Len Acc: 1.0\n",
      "            \n",
      " val acc, load from 5_189378_transformer.pt\n",
      "                | Test Loss: 0.0 \n",
      "                | Test Acc: 1.0 \n",
      "                | Test Counting Acc: 1.0 \n",
      "                | Test Last Acc: 1.0\n",
      "                | Test Unseen Len Acc: -1\n",
      "            \n",
      " ood_test acc, load from 5_189378_transformer.pt\n",
      "                | Test Loss: 3.0447 \n",
      "                | Test Acc: 0.6623 \n",
      "                | Test Counting Acc: 0.6711 \n",
      "                | Test Last Acc: 0.0\n",
      "                | Test Unseen Len Acc: 0.0\n",
      "            \n",
      " bigram_test acc, load from 5_189378_transformer.pt\n",
      "                | Test Loss: 0.0 \n",
      "                | Test Acc: 1.0 \n",
      "                | Test Counting Acc: 1.0 \n",
      "                | Test Last Acc: 1.0\n",
      "                | Test Unseen Len Acc: 1.0\n",
      "            \n",
      " val acc, load from 6_220941_transformer.pt\n",
      "                | Test Loss: 0.0 \n",
      "                | Test Acc: 1.0 \n",
      "                | Test Counting Acc: 1.0 \n",
      "                | Test Last Acc: 1.0\n",
      "                | Test Unseen Len Acc: -1\n",
      "            \n",
      " ood_test acc, load from 6_220941_transformer.pt\n",
      "                | Test Loss: 21.0862 \n",
      "                | Test Acc: 0.6623 \n",
      "                | Test Counting Acc: 0.6711 \n",
      "                | Test Last Acc: 0.0\n",
      "                | Test Unseen Len Acc: 0.0\n",
      "            \n",
      " bigram_test acc, load from 6_220941_transformer.pt\n",
      "                | Test Loss: 0.0 \n",
      "                | Test Acc: 1.0 \n",
      "                | Test Counting Acc: 1.0 \n",
      "                | Test Last Acc: 1.0\n",
      "                | Test Unseen Len Acc: 1.0\n",
      "            \n",
      " val acc, load from 7_252504_transformer.pt\n",
      "                | Test Loss: 0.0 \n",
      "                | Test Acc: 1.0 \n",
      "                | Test Counting Acc: 1.0 \n",
      "                | Test Last Acc: 1.0\n",
      "                | Test Unseen Len Acc: -1\n",
      "            \n",
      " ood_test acc, load from 7_252504_transformer.pt\n",
      "                | Test Loss: 28.0572 \n",
      "                | Test Acc: 0.6623 \n",
      "                | Test Counting Acc: 0.6711 \n",
      "                | Test Last Acc: 0.0\n",
      "                | Test Unseen Len Acc: 0.0\n",
      "            \n",
      " bigram_test acc, load from 7_252504_transformer.pt\n",
      "                | Test Loss: 0.0 \n",
      "                | Test Acc: 1.0 \n",
      "                | Test Counting Acc: 1.0 \n",
      "                | Test Last Acc: 1.0\n",
      "                | Test Unseen Len Acc: 1.0\n",
      "            \n",
      " val acc, load from 8_284067_transformer.pt\n",
      "                | Test Loss: 0.0 \n",
      "                | Test Acc: 1.0 \n",
      "                | Test Counting Acc: 1.0 \n",
      "                | Test Last Acc: 1.0\n",
      "                | Test Unseen Len Acc: -1\n",
      "            \n",
      " ood_test acc, load from 8_284067_transformer.pt\n",
      "                | Test Loss: 17.9877 \n",
      "                | Test Acc: 0.6623 \n",
      "                | Test Counting Acc: 0.6711 \n",
      "                | Test Last Acc: 0.0\n",
      "                | Test Unseen Len Acc: 0.0\n",
      "            \n",
      " bigram_test acc, load from 8_284067_transformer.pt\n",
      "                | Test Loss: 0.0 \n",
      "                | Test Acc: 1.0 \n",
      "                | Test Counting Acc: 1.0 \n",
      "                | Test Last Acc: 1.0\n",
      "                | Test Unseen Len Acc: 1.0\n",
      "            \n",
      " val acc, load from 9_315630_transformer.pt\n",
      "                | Test Loss: 0.0 \n",
      "                | Test Acc: 1.0 \n",
      "                | Test Counting Acc: 1.0 \n",
      "                | Test Last Acc: 1.0\n",
      "                | Test Unseen Len Acc: -1\n",
      "            \n",
      " ood_test acc, load from 9_315630_transformer.pt\n",
      "                | Test Loss: 25.2861 \n",
      "                | Test Acc: 0.6623 \n",
      "                | Test Counting Acc: 0.6711 \n",
      "                | Test Last Acc: 0.0\n",
      "                | Test Unseen Len Acc: 0.0\n",
      "            \n",
      " bigram_test acc, load from 9_315630_transformer.pt\n",
      "                | Test Loss: 0.0 \n",
      "                | Test Acc: 1.0 \n",
      "                | Test Counting Acc: 1.0 \n",
      "                | Test Last Acc: 1.0\n",
      "                | Test Unseen Len Acc: 1.0\n",
      "            \n"
     ]
    },
    {
     "data": {
      "text/plain": [
       "0"
      ]
     },
     "execution_count": 4,
     "metadata": {},
     "output_type": "execute_result"
    }
   ],
   "source": [
    "os.system(command)"
   ]
  },
  {
   "cell_type": "code",
   "execution_count": null,
   "metadata": {},
   "outputs": [],
   "source": []
  },
  {
   "cell_type": "markdown",
   "metadata": {},
   "source": [
    "## Update Infr Files"
   ]
  },
  {
   "cell_type": "code",
   "execution_count": 1,
   "metadata": {},
   "outputs": [],
   "source": [
    "import os, json\n",
    "import numpy as np\n",
    "from collections import Counter, defaultdict\n",
    "from tqdm import tqdm\n",
    "from matplotlib import pyplot as plt"
   ]
  },
  {
   "cell_type": "code",
   "execution_count": 2,
   "metadata": {},
   "outputs": [
    {
     "name": "stderr",
     "output_type": "stream",
     "text": [
      "  0%|          | 0/193 [00:00<?, ?it/s]\n"
     ]
    },
    {
     "ename": "FileNotFoundError",
     "evalue": "[Errno 2] No such file or directory: '../scripts/causal_transformer/output/0422_150333/'",
     "output_type": "error",
     "traceback": [
      "\u001b[0;31m---------------------------------------------------------------------------\u001b[0m",
      "\u001b[0;31mFileNotFoundError\u001b[0m                         Traceback (most recent call last)",
      "Cell \u001b[0;32mIn[2], line 4\u001b[0m\n\u001b[1;32m      2\u001b[0m \u001b[38;5;28;01mfor\u001b[39;00m handle \u001b[38;5;129;01min\u001b[39;00m tqdm(os\u001b[38;5;241m.\u001b[39mlistdir(\u001b[38;5;124m\"\u001b[39m\u001b[38;5;124m../scripts/causal_transformer/output/\u001b[39m\u001b[38;5;124m\"\u001b[39m)):\n\u001b[1;32m      3\u001b[0m     handle \u001b[38;5;241m=\u001b[39m \u001b[38;5;124m\"\u001b[39m\u001b[38;5;124m0422_150333\u001b[39m\u001b[38;5;124m\"\u001b[39m\n\u001b[0;32m----> 4\u001b[0m     \u001b[38;5;28;01mif\u001b[39;00m \u001b[38;5;129;01mnot\u001b[39;00m \u001b[38;5;124m\"\u001b[39m\u001b[38;5;124mtest_samples\u001b[39m\u001b[38;5;124m\"\u001b[39m \u001b[38;5;129;01min\u001b[39;00m os\u001b[38;5;241m.\u001b[39mlistdir(\u001b[38;5;124mf\u001b[39m\u001b[38;5;124m\"\u001b[39m\u001b[38;5;124m../scripts/causal_transformer/output/\u001b[39m\u001b[38;5;132;01m{\u001b[39;00mhandle\u001b[38;5;132;01m}\u001b[39;00m\u001b[38;5;124m/\u001b[39m\u001b[38;5;124m\"\u001b[39m): \u001b[38;5;28;01mcontinue\u001b[39;00m\n\u001b[1;32m      5\u001b[0m     \u001b[38;5;28;01mfor\u001b[39;00m infr_file \u001b[38;5;129;01min\u001b[39;00m \u001b[38;5;28msorted\u001b[39m(os\u001b[38;5;241m.\u001b[39mlistdir(\u001b[38;5;124mf\u001b[39m\u001b[38;5;124m\"\u001b[39m\u001b[38;5;124m../scripts/causal_transformer/output/\u001b[39m\u001b[38;5;132;01m{\u001b[39;00mhandle\u001b[38;5;132;01m}\u001b[39;00m\u001b[38;5;124m/test_samples/\u001b[39m\u001b[38;5;124m\"\u001b[39m)):\n\u001b[1;32m      6\u001b[0m         J \u001b[38;5;241m=\u001b[39m json\u001b[38;5;241m.\u001b[39mload(\u001b[38;5;28mopen\u001b[39m(\u001b[38;5;124mf\u001b[39m\u001b[38;5;124m\"\u001b[39m\u001b[38;5;124m../scripts/causal_transformer/output/\u001b[39m\u001b[38;5;132;01m{\u001b[39;00mhandle\u001b[38;5;132;01m}\u001b[39;00m\u001b[38;5;124m/test_samples/\u001b[39m\u001b[38;5;132;01m{\u001b[39;00minfr_file\u001b[38;5;132;01m}\u001b[39;00m\u001b[38;5;124m\"\u001b[39m, \u001b[38;5;124m\"\u001b[39m\u001b[38;5;124mr\u001b[39m\u001b[38;5;124m\"\u001b[39m))\n",
      "\u001b[0;31mFileNotFoundError\u001b[0m: [Errno 2] No such file or directory: '../scripts/causal_transformer/output/0422_150333/'"
     ]
    }
   ],
   "source": [
    "test_unseen_len_acc = defaultdict(list)\n",
    "for handle in tqdm(os.listdir(\"../scripts/causal_transformer/output/\")):\n",
    "    handle = \"0422_150333\"\n",
    "    if not \"test_samples\" in os.listdir(f\"../scripts/causal_transformer/output/{handle}/\"): continue\n",
    "    for infr_file in sorted(os.listdir(f\"../scripts/causal_transformer/output/{handle}/test_samples/\")):\n",
    "        J = json.load(open(f\"../scripts/causal_transformer/output/{handle}/test_samples/{infr_file}\", \"r\"))\n",
    "        if \"ood_test.txt\" not in J['test_data_file']: continue\n",
    "        #if \"test_unseen_len_acc\" in J: continue\n",
    "        task = J['test_data_file'].split(\"/\")[-2]\n",
    "        if not \"_mod\" in task: continue\n",
    "        val_file = open(f\"../data/rasp_primitives/{task}/val.txt\", \"r\").readlines()\n",
    "        max_seen_len = max([len([x for x in json.loads(l)[0] if x != \"<pad>\"]) for l in val_file])\n",
    "        print(f\"max_seen_len for {task} = {max_seen_len}\")\n",
    "        unseen_len_correct = 0\n",
    "        unseen_len_total = 0\n",
    "        for k in J['testing_output']:\n",
    "            instance = J['testing_output'][k]\n",
    "            gth = np.array([int(x) for x in instance['gth'].split()])\n",
    "            pred = np.array([int(x) for x in instance['pred'].split()])\n",
    "            unseen_len_correct += (gth[gth != -1] == pred[gth != -1])[max_seen_len:].sum()\n",
    "            unseen_len_total += gth[gth != -1][max_seen_len:].size\n",
    "        \n",
    "        if unseen_len_total == 0: \n",
    "            print(\"!!! division by zero !!!\", handle, infr_file)\n",
    "            continue\n",
    "        \n",
    "        J['test_unseen_len_acc'] = round(unseen_len_correct/unseen_len_total, 4)\n",
    "        print(handle, infr_file, J['test_unseen_len_acc'])\n",
    "        # with open(f\"../scripts/causal_transformer/output/{handle}/test_samples/{infr_file}\", \"w\") as f:\n",
    "        #     json.dump(J, f, indent=2, sort_keys=True)\n",
    "        load_from_epoch = J['load_from'].split(\"/\")[-1].split(\"_\")[0]\n",
    "        test_unseen_len_acc[task].append((J['test_unseen_len_acc'], int(load_from_epoch)))\n",
    "        #assert False\n",
    "    break\n",
    "        \n",
    "        \n",
    "\n",
    "       "
   ]
  },
  {
   "cell_type": "code",
   "execution_count": null,
   "metadata": {},
   "outputs": [
    {
     "data": {
      "text/plain": [
       "6"
      ]
     },
     "execution_count": 17,
     "metadata": {},
     "output_type": "execute_result"
    }
   ],
   "source": [
    "gth[gth != -1][max_seen_len:].size"
   ]
  },
  {
   "cell_type": "code",
   "execution_count": null,
   "metadata": {},
   "outputs": [
    {
     "data": {
      "text/plain": [
       "array([1, 2, 3, 4, 5, 6])"
      ]
     },
     "execution_count": 21,
     "metadata": {},
     "output_type": "execute_result"
    }
   ],
   "source": [
    "pred[gth != -1][max_seen_len:]"
   ]
  },
  {
   "cell_type": "code",
   "execution_count": null,
   "metadata": {},
   "outputs": [],
   "source": [
    "required_config = {\n",
    "    \"num_hidden_layers\": 2,\n",
    "    \"num_attention_heads\": 8\n",
    "}"
   ]
  },
  {
   "cell_type": "code",
   "execution_count": null,
   "metadata": {},
   "outputs": [
    {
     "name": "stderr",
     "output_type": "stream",
     "text": [
      "100%|██████████| 98/98 [00:00<00:00, 162.73it/s]\n"
     ]
    }
   ],
   "source": [
    "test_unseen_len_acc = defaultdict(list)\n",
    "for handle in tqdm(os.listdir(\"../scripts/causal_transformer/output/\")):\n",
    "    if not \"test_samples\" in os.listdir(f\"../scripts/causal_transformer/output/{handle}/\"): continue\n",
    "    best_test_acc_and_epoch = (0, 0)\n",
    "    for infr_file in os.listdir(f\"../scripts/causal_transformer/output/{handle}/test_samples/\"):\n",
    "        J = json.load(open(f\"../scripts/causal_transformer/output/{handle}/test_samples/{infr_file}\", \"r\"))\n",
    "        if \"ood_test.txt\" not in J['test_data_file']: continue\n",
    "        #if \"test_unseen_len_acc\" in J: continue\n",
    "        task = J['test_data_file'].split(\"/\")[-2]\n",
    "        if not \"_mod\" in task: continue\n",
    "        \n",
    "        config = json.load(open(f\"../scripts/causal_transformer/output/{handle}/config.json\", \"r\"))\n",
    "        flag = True\n",
    "        for k in required_config:\n",
    "            if required_config[k] != config[k]: flag = False\n",
    "        if not flag: continue\n",
    "        \n",
    "        if J['test_unseen_len_acc'] > best_test_acc_and_epoch[0]:\n",
    "            best_test_acc_and_epoch = (J['test_unseen_len_acc'], int(J['load_from'].split(\"/\")[-1].split(\"_\")[0])+1 )\n",
    "    if best_test_acc_and_epoch[1]>0: test_unseen_len_acc[task].append(best_test_acc_and_epoch)\n",
    "        "
   ]
  },
  {
   "cell_type": "code",
   "execution_count": null,
   "metadata": {},
   "outputs": [
    {
     "data": {
      "text/plain": [
       "{'counting_diffsymbol_mod10': [(1.0, 5)],\n",
       " 'counting_diffsymbol_mod11': [(1.0, 5)],\n",
       " 'counting_diffsymbol_mod13': [(1.0, 5)],\n",
       " 'counting_diffsymbol_mod14': [(1.0, 2)],\n",
       " 'counting_diffsymbol_mod15': [(0.9968, 2)],\n",
       " 'counting_diffsymbol_mod16': [(0.0517, 2), (0.0516, 2), (1.0, 6)],\n",
       " 'counting_diffsymbol_mod17': [(1.0, 5)],\n",
       " 'counting_diffsymbol_mod18': [(0.9995, 5), (0.2233, 5)],\n",
       " 'counting_diffsymbol_mod19': [(0.151, 5), (1.0, 5)],\n",
       " 'counting_diffsymbol_mod20': [(0.289, 5), (0.7404, 3)],\n",
       " 'counting_samesymbol_mod10': [(0.9937, 5)],\n",
       " 'counting_samesymbol_mod11': [(0.9942, 5)],\n",
       " 'counting_samesymbol_mod13': [(1.0, 5)],\n",
       " 'counting_samesymbol_mod14': [(0.9859, 8)],\n",
       " 'counting_samesymbol_mod15': [(1.0, 5)],\n",
       " 'counting_samesymbol_mod16': [(0.9799, 10), (0.9639, 7)],\n",
       " 'counting_samesymbol_mod17': [(0.9995, 2), (0.849, 9)],\n",
       " 'counting_samesymbol_mod18': [(0.9697, 1)],\n",
       " 'counting_samesymbol_mod19': [(0.9993, 5)],\n",
       " 'counting_samesymbol_mod20': [(0.9998, 5)]}"
      ]
     },
     "execution_count": 38,
     "metadata": {},
     "output_type": "execute_result"
    }
   ],
   "source": [
    "test_unseen_len_acc = dict(sorted(test_unseen_len_acc.items(), key=lambda x: x[0]))\n",
    "test_unseen_len_acc"
   ]
  },
  {
   "cell_type": "code",
   "execution_count": null,
   "metadata": {},
   "outputs": [],
   "source": [
    "color_mapper = {\n",
    "    \"samesymbol\": \"royalblue\",\n",
    "    \"diffsymbol\": \"purple\",\n",
    "}\n",
    "w = 0.15\n",
    "shift_mapper = {\n",
    "    \"samesymbol\": -w/2,\n",
    "    \"diffsymbol\": w/2,\n",
    "}"
   ]
  },
  {
   "cell_type": "code",
   "execution_count": null,
   "metadata": {},
   "outputs": [
    {
     "data": {
      "image/png": "[encoded data removed]",
      "text/plain": [
       "<Figure size 1200x400 with 1 Axes>"
      ]
     },
     "metadata": {},
     "output_type": "display_data"
    }
   ],
   "source": [
    "fig = plt.figure(figsize=(12, 4))\n",
    "\n",
    "for task in test_unseen_len_acc:\n",
    "    x = int(task.split(\"_\")[-1].replace(\"mod\", \"\"))\n",
    "    shift = shift_mapper[task.split(\"_\")[1]]\n",
    "    color = color_mapper[task.split(\"_\")[1]]\n",
    "    for i, t in enumerate(test_unseen_len_acc[task]): \n",
    "        plt.bar(\n",
    "            x+shift*(2*i+1), \n",
    "            t[0], \n",
    "            width=w*0.9,\n",
    "            color=color, \n",
    "            alpha=0.5,\n",
    "        )\n",
    "\n",
    "for k in color_mapper:\n",
    "    plt.bar(x, 0, label=k, color=color_mapper[k], alpha=0.5)\n",
    "plt.ylabel(\"Test Unseen Len Acc\")\n",
    "plt.xticks(list(range(10, 21)), [f\"mod{i}\" for i in range(10, 21)])\n",
    "plt.legend(loc='center left', bbox_to_anchor=(1, 0.5))\n",
    "plt.show()"
   ]
  },
  {
   "cell_type": "markdown",
   "metadata": {},
   "source": [
    "## Move Infr Files to /data"
   ]
  },
  {
   "cell_type": "code",
   "execution_count": 2,
   "metadata": {},
   "outputs": [],
   "source": [
    "import os\n",
    "from tqdm import tqdm"
   ]
  },
  {
   "cell_type": "code",
   "execution_count": 3,
   "metadata": {},
   "outputs": [
    {
     "name": "stderr",
     "output_type": "stream",
     "text": [
      "  7%|▋         | 23/348 [00:04<00:26, 12.46it/s]mv: inter-device move failed: '/home/yingshac/workspace/llms_do_math/scripts/causal_transformer/output/0425_144321/test_samples' to '/data/yingshac/llms_do_math/scripts/causal_transformer/output/0425_144321/test_samples'; unable to remove target: Directory not empty\n",
      "100%|██████████| 348/348 [07:09<00:00,  1.23s/it]\n"
     ]
    }
   ],
   "source": [
    "output_dir = \"/home/yingshac/workspace/llms_do_math/scripts/causal_transformer/output\"\n",
    "data_output_dir = \"/data/yingshac/llms_do_math/scripts/causal_transformer/output\"\n",
    "for h in tqdm(os.listdir(output_dir)):\n",
    "    folders = [\"test_samples\", \"val_samples\"]\n",
    "    for f in folders:\n",
    "        if f in os.listdir(f\"{output_dir}/{h}\"):\n",
    "            command = f\"mv {output_dir}/{h}/{f} {data_output_dir}/{h}/\"\n",
    "            #print(command)\n",
    "            #os.system(command)"
   ]
  },
  {
   "cell_type": "code",
   "execution_count": 7,
   "metadata": {},
   "outputs": [
    {
     "name": "stderr",
     "output_type": "stream",
     "text": [
      "100%|██████████| 348/348 [00:04<00:00, 82.26it/s] \n"
     ]
    }
   ],
   "source": [
    "# delete tensorboard\n",
    "output_dir = \"/home/yingshac/workspace/llms_do_math/scripts/causal_transformer/output\"\n",
    "for h in tqdm(os.listdir(output_dir)):\n",
    "    if \"tensorboard\" in os.listdir(f\"{output_dir}/{h}\"):\n",
    "        command = f\"rm -r {output_dir}/{h}/tensorboard\"\n",
    "        #print(command)\n",
    "        os.system(command)"
   ]
  },
  {
   "cell_type": "code",
   "execution_count": 5,
   "metadata": {},
   "outputs": [
    {
     "data": {
      "text/plain": [
       "'rm -r /home/yingshac/workspace/llms_do_math/scripts/causal_transformer/output/0424_235327/tensorboard'"
      ]
     },
     "execution_count": 5,
     "metadata": {},
     "output_type": "execute_result"
    }
   ],
   "source": [
    "command"
   ]
  },
  {
   "cell_type": "code",
   "execution_count": 6,
   "metadata": {},
   "outputs": [
    {
     "data": {
      "text/plain": [
       "0"
      ]
     },
     "execution_count": 6,
     "metadata": {},
     "output_type": "execute_result"
    }
   ],
   "source": [
    "os.system(command)"
   ]
  },
  {
   "cell_type": "code",
   "execution_count": 1,
   "metadata": {},
   "outputs": [],
   "source": [
    "import torch"
   ]
  },
  {
   "cell_type": "code",
   "execution_count": 9,
   "metadata": {},
   "outputs": [
    {
     "data": {
      "text/plain": [
       "torch.Size([2, 8, 4])"
      ]
     },
     "execution_count": 9,
     "metadata": {},
     "output_type": "execute_result"
    }
   ],
   "source": [
    "x = torch.stack([torch.randint(0, 10, (8, 4)) for i in range(2)])\n",
    "x.size()"
   ]
  },
  {
   "cell_type": "code",
   "execution_count": null,
   "metadata": {},
   "outputs": [],
   "source": []
  }
 ],
 "metadata": {
  "kernelspec": {
   "display_name": "venv",
   "language": "python",
   "name": "python3"
  },
  "language_info": {
   "codemirror_mode": {
    "name": "ipython",
    "version": 3
   },
   "file_extension": ".py",
   "mimetype": "text/x-python",
   "name": "python",
   "nbconvert_exporter": "python",
   "pygments_lexer": "ipython3",
   "version": "3.8.10"
  }
 },
 "nbformat": 4,
 "nbformat_minor": 2
}
